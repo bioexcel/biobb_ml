{
 "cells": [
  {
   "cell_type": "markdown",
   "metadata": {},
   "source": [
    "# BioBB Machine Learning Command Line Help"
   ]
  },
  {
   "cell_type": "markdown",
   "metadata": {},
   "source": [
    "Generic usage:"
   ]
  },
  {
   "cell_type": "code",
   "execution_count": null,
   "metadata": {},
   "outputs": [],
   "source": [
    "biobb_command [-h] [-c CONFIG] --in_file <in_file>  --out_file <out_file>"
   ]
  },
  {
   "cell_type": "markdown",
   "metadata": {},
   "source": [
    "***"
   ]
  },
  {
   "cell_type": "markdown",
   "metadata": {},
   "source": [
    "## linear_regression"
   ]
  },
  {
   "cell_type": "markdown",
   "metadata": {},
   "source": [
    "Trains and tests a given dataset and saves the model and scaler for a linear regression."
   ]
  },
  {
   "cell_type": "markdown",
   "metadata": {},
   "source": [
    "### Get help"
   ]
  },
  {
   "cell_type": "code",
   "execution_count": null,
   "metadata": {},
   "outputs": [],
   "source": [
    "linear_regression -h"
   ]
  },
  {
   "cell_type": "code",
   "execution_count": null,
   "metadata": {},
   "outputs": [],
   "source": [
    "usage: linear_regression [-h] [--config CONFIG] --input_dataset_path INPUT_DATASET_PATH --output_model_path OUTPUT_MODEL_PATH [--output_test_table_path OUTPUT_TEST_TABLE_PATH] [--output_plot_path OUTPUT_PLOT_PATH]\n",
    "\n",
    "Trains and tests a given dataset and saves the model and scaler for a linear regression.\n",
    "\n",
    "optional arguments:\n",
    "  -h, --help            show this help message and exit\n",
    "  --config CONFIG       Configuration file\n",
    "  --output_test_table_path OUTPUT_TEST_TABLE_PATH\n",
    "                        Path to the test table file. Accepted formats: csv.\n",
    "  --output_plot_path OUTPUT_PLOT_PATH\n",
    "                        Residual plot checks the error between actual values and predicted values. Accepted formats: png.\n",
    "\n",
    "required arguments:\n",
    "  --input_dataset_path INPUT_DATASET_PATH\n",
    "                        Path to the input dataset. Accepted formats: csv.\n",
    "  --output_model_path OUTPUT_MODEL_PATH\n",
    "                        Path to the output model file. Accepted formats: pkl."
   ]
  },
  {
   "cell_type": "markdown",
   "metadata": {},
   "source": [
    "### I / O Arguments"
   ]
  },
  {
   "cell_type": "markdown",
   "metadata": {},
   "source": [
    "Syntax: input_argument (datatype) : Definition\n",
    "\n",
    "Config input / output arguments for this building block:\n",
    "\n",
    "* **input_dataset_path** (*str*): Path to the input dataset. File type: input. [Sample file](https://github.com/bioexcel/biobb_ml/raw/master/biobb_ml/test/data/regression/dataset_linear_regression.csv). Accepted formats: csv.\n",
    "* **output_model_path** (*str*): Path to the output model file. File type: output. [Sample file](https://github.com/bioexcel/biobb_ml/raw/master/biobb_ml/test/reference/regression/ref_output_model_linear_regression.pkl). Accepted formats: pkl.\n",
    "* **output_test_table_path** (*str*) (Optional): Path to the test table file. File type: output. [Sample file](https://github.com/bioexcel/biobb_ml/raw/master/biobb_ml/test/reference/regression/ref_output_test_linear_regression.csv). Accepted formats: csv.\n",
    "* **output_plot_path** (*str*) (Optional): Residual plot checks the error between actual values and predicted values. File type: output. [Sample file](https://github.com/bioexcel/biobb_ml/raw/master/biobb_ml/test/reference/regression/ref_output_plot_linear_regression.png). Accepted formats: png."
   ]
  },
  {
   "cell_type": "markdown",
   "metadata": {},
   "source": [
    "### Config"
   ]
  },
  {
   "cell_type": "markdown",
   "metadata": {},
   "source": [
    "Syntax: input_parameter (datatype) - (default_value) Definition\n",
    "\n",
    "\n",
    "Config parameters for this building block:\n",
    "\n",
    "* **independent_vars** (*list*) - (None) Independent variables or columns from your dataset you want to train.\n",
    "* **target** (*string*) - (None) Dependent variable or column from your dataset you want to predict.\n",
    "* **test_size** (*float*) - (0.2) Represents the proportion of the dataset to include in the test split. It should be between 0.0 and 1.0.\n",
    "* **remove_tmp** (*bool*) - (True) [WF property] Remove temporal files.\n",
    "* **restart** (*bool*) - (False) [WF property] Do not execute if output files exist."
   ]
  },
  {
   "cell_type": "markdown",
   "metadata": {},
   "source": [
    "### YAML"
   ]
  },
  {
   "cell_type": "markdown",
   "metadata": {},
   "source": [
    "#### File config"
   ]
  },
  {
   "cell_type": "code",
   "execution_count": null,
   "metadata": {},
   "outputs": [],
   "source": [
    "properties:\n",
    "  independent_vars: ['size', 'year', 'view']\n",
    "  target: 'price'\n",
    "  test_size: 0.2"
   ]
  },
  {
   "cell_type": "code",
   "execution_count": null,
   "metadata": {},
   "outputs": [],
   "source": [
    "linear_regression --conf data/conf/linear_regression.yml --input_dataset_path data/input/dataset_linear_regression.csv --output_model_path data/output/output_model_linear_regression.pkl --output_test_table_path data/output/output_test_linear_regression.csv --output_plot_path data/output/output_plot_linear_regression.png"
   ]
  },
  {
   "cell_type": "markdown",
   "metadata": {},
   "source": [
    "### JSON"
   ]
  },
  {
   "cell_type": "markdown",
   "metadata": {},
   "source": [
    "#### File config"
   ]
  },
  {
   "cell_type": "code",
   "execution_count": null,
   "metadata": {},
   "outputs": [],
   "source": [
    "{\n",
    "    \"properties\": {\n",
    "        \"independent_vars\": [\"size\", \"year\", \"view\"],\n",
    "        \"target\": \"price\",\n",
    "        \"test_size\": 0.2\n",
    "    }\n",
    "}"
   ]
  },
  {
   "cell_type": "code",
   "execution_count": null,
   "metadata": {},
   "outputs": [],
   "source": [
    "linear_regression --conf data/conf/linear_regression.json --input_dataset_path data/input/dataset_linear_regression.csv --output_model_path data/output/output_model_linear_regression.pkl --output_test_table_path data/output/output_test_linear_regression.csv --output_plot_path data/output/output_plot_linear_regression.png"
   ]
  },
  {
   "cell_type": "markdown",
   "metadata": {},
   "source": [
    "## polynomial_regression"
   ]
  },
  {
   "cell_type": "markdown",
   "metadata": {},
   "source": [
    "Trains and tests a given dataset and saves the model and scaler for a polynomial regression."
   ]
  },
  {
   "cell_type": "markdown",
   "metadata": {},
   "source": [
    "### Get help"
   ]
  },
  {
   "cell_type": "code",
   "execution_count": null,
   "metadata": {},
   "outputs": [],
   "source": [
    "polynomial_regression -h"
   ]
  },
  {
   "cell_type": "code",
   "execution_count": null,
   "metadata": {},
   "outputs": [],
   "source": [
    "usage: polynomial_regression [-h] [--config CONFIG] --input_dataset_path INPUT_DATASET_PATH --output_model_path OUTPUT_MODEL_PATH [--output_test_table_path OUTPUT_TEST_TABLE_PATH] [--output_plot_path OUTPUT_PLOT_PATH]\n",
    "\n",
    "Trains and tests a given dataset and saves the model and scaler for a polynomial regression.\n",
    "\n",
    "optional arguments:\n",
    "  -h, --help            show this help message and exit\n",
    "  --config CONFIG       Configuration file\n",
    "  --output_test_table_path OUTPUT_TEST_TABLE_PATH\n",
    "                        Path to the test table file. Accepted formats: csv.\n",
    "  --output_plot_path OUTPUT_PLOT_PATH\n",
    "                        Residual plot checks the error between actual values and predicted values. Accepted formats: png.\n",
    "\n",
    "required arguments:\n",
    "  --input_dataset_path INPUT_DATASET_PATH\n",
    "                        Path to the input dataset. Accepted formats: csv.\n",
    "  --output_model_path OUTPUT_MODEL_PATH\n",
    "                        Path to the output model file. Accepted formats: pkl."
   ]
  },
  {
   "cell_type": "markdown",
   "metadata": {},
   "source": [
    "### I / O Arguments"
   ]
  },
  {
   "cell_type": "markdown",
   "metadata": {},
   "source": [
    "Syntax: input_argument (datatype) : Definition\n",
    "\n",
    "Config input / output arguments for this building block:\n",
    "\n",
    "* **input_dataset_path** (*str*): Path to the input dataset. File type: input. [Sample file](https://github.com/bioexcel/biobb_ml/raw/master/biobb_ml/test/data/regression/dataset_polynomial_regression.csv). Accepted formats: csv.\n",
    "* **output_model_path** (*str*): Path to the output model file. File type: output. [Sample file](https://github.com/bioexcel/biobb_ml/raw/master/biobb_ml/test/reference/regression/ref_output_model_polynomial_regression.pkl). Accepted formats: pkl.\n",
    "* **output_test_table_path** (*str*) (Optional): Path to the test table file. File type: output. [Sample file](https://github.com/bioexcel/biobb_ml/raw/master/biobb_ml/test/reference/regression/ref_output_test_polynomial_regression.csv). Accepted formats: csv.\n",
    "* **output_plot_path** (*str*) (Optional): Residual plot checks the error between actual values and predicted values. File type: output. [Sample file](https://github.com/bioexcel/biobb_ml/raw/master/biobb_ml/test/reference/regression/ref_output_plot_polynomial_regression.png). Accepted formats: png."
   ]
  },
  {
   "cell_type": "markdown",
   "metadata": {},
   "source": [
    "### Config"
   ]
  },
  {
   "cell_type": "markdown",
   "metadata": {},
   "source": [
    "Syntax: input_parameter (datatype) - (default_value) Definition\n",
    "\n",
    "\n",
    "Config parameters for this building block:\n",
    "\n",
    "* **independent_vars** (*list*) - (None) Independent variables or columns from your dataset you want to train.\n",
    "* **degree** (*int*) - (2) Polynomial degree.\n",
    "* **target** (*string*) - (None) Dependent variable or column from your dataset you want to predict.\n",
    "* **test_size** (*float*) - (0.2) Represents the proportion of the dataset to include in the test split. It should be between 0.0 and 1.0.\n",
    "* **remove_tmp** (*bool*) - (True) [WF property] Remove temporal files.\n",
    "* **restart** (*bool*) - (False) [WF property] Do not execute if output files exist."
   ]
  },
  {
   "cell_type": "markdown",
   "metadata": {},
   "source": [
    "### YAML"
   ]
  },
  {
   "cell_type": "markdown",
   "metadata": {},
   "source": [
    "#### File config"
   ]
  },
  {
   "cell_type": "code",
   "execution_count": null,
   "metadata": {},
   "outputs": [],
   "source": [
    "properties:\n",
    "  independent_vars: ['LSTAT','RM']\n",
    "  target: 'MEDV'\n",
    "  degree: 2\n",
    "  test_size: 0.2"
   ]
  },
  {
   "cell_type": "code",
   "execution_count": null,
   "metadata": {},
   "outputs": [],
   "source": [
    "polynomial_regression --conf data/conf/polynomial_regression.yml --input_dataset_path data/input/dataset_polynomial_regression.csv --output_model_path data/output/output_model_polynomial_regression.pkl --output_test_table_path data/output/output_test_polynomial_regression.csv --output_plot_path data/output/output_plot_polynomial_regression.png"
   ]
  },
  {
   "cell_type": "markdown",
   "metadata": {},
   "source": [
    "### JSON"
   ]
  },
  {
   "cell_type": "markdown",
   "metadata": {},
   "source": [
    "#### File config"
   ]
  },
  {
   "cell_type": "code",
   "execution_count": null,
   "metadata": {},
   "outputs": [],
   "source": [
    "{\n",
    "    \"properties\": {\n",
    "        \"independent_vars\": [\"LSTAT\", \"RM\"],\n",
    "        \"target\": \"MEDV\",\n",
    "        \"degree\": 2,\n",
    "        \"test_size\": 0.2\n",
    "    }\n",
    "}"
   ]
  },
  {
   "cell_type": "code",
   "execution_count": null,
   "metadata": {},
   "outputs": [],
   "source": [
    "polynomial_regression --conf data/conf/polynomial_regression.json --input_dataset_path data/input/dataset_polynomial_regression.csv --output_model_path data/output/output_model_polynomial_regression.pkl --output_test_table_path data/output/output_test_polynomial_regression.csv --output_plot_path data/output/output_plot_polynomial_regression.png"
   ]
  },
  {
   "cell_type": "markdown",
   "metadata": {},
   "source": [
    "## random_forest_regressor"
   ]
  },
  {
   "cell_type": "markdown",
   "metadata": {},
   "source": [
    "Trains and tests a given dataset and saves the model and scaler for a random forest regressor."
   ]
  },
  {
   "cell_type": "markdown",
   "metadata": {},
   "source": [
    "### Get help"
   ]
  },
  {
   "cell_type": "code",
   "execution_count": null,
   "metadata": {},
   "outputs": [],
   "source": [
    "random_forest_regressor -h"
   ]
  },
  {
   "cell_type": "code",
   "execution_count": null,
   "metadata": {},
   "outputs": [],
   "source": [
    "usage: random_forest_regressor [-h] [--config CONFIG] --input_dataset_path INPUT_DATASET_PATH --output_model_path OUTPUT_MODEL_PATH [--output_test_table_path OUTPUT_TEST_TABLE_PATH] [--output_plot_path OUTPUT_PLOT_PATH]\n",
    "\n",
    "Trains and tests a given dataset and saves the model and scaler for a random forest regressor.\n",
    "\n",
    "optional arguments:\n",
    "  -h, --help            show this help message and exit\n",
    "  --config CONFIG       Configuration file\n",
    "  --output_test_table_path OUTPUT_TEST_TABLE_PATH\n",
    "                        Path to the test table file. Accepted formats: csv.\n",
    "  --output_plot_path OUTPUT_PLOT_PATH\n",
    "                        Residual plot checks the error between actual values and predicted values. Accepted formats: png.\n",
    "\n",
    "required arguments:\n",
    "  --input_dataset_path INPUT_DATASET_PATH\n",
    "                        Path to the input dataset. Accepted formats: csv.\n",
    "  --output_model_path OUTPUT_MODEL_PATH\n",
    "                        Path to the output model file. Accepted formats: pkl."
   ]
  },
  {
   "cell_type": "markdown",
   "metadata": {},
   "source": [
    "### I / O Arguments"
   ]
  },
  {
   "cell_type": "markdown",
   "metadata": {},
   "source": [
    "Syntax: input_argument (datatype) : Definition\n",
    "\n",
    "Config input / output arguments for this building block:\n",
    "\n",
    "* **input_dataset_path** (*str*): Path to the input dataset. File type: input. [Sample file](https://github.com/bioexcel/biobb_ml/raw/master/biobb_ml/test/data/regression/dataset_random_forest_regressor.csv). Accepted formats: csv.\n",
    "* **output_model_path** (*str*): Path to the output model file. File type: output. [Sample file](https://github.com/bioexcel/biobb_ml/raw/master/biobb_ml/test/reference/regression/ref_output_model_random_forest_regressor.pkl). Accepted formats: pkl.\n",
    "* **output_test_table_path** (*str*) (Optional): Path to the test table file. File type: output. [Sample file](https://github.com/bioexcel/biobb_ml/raw/master/biobb_ml/test/reference/regression/ref_output_test_random_forest_regressor.csv). Accepted formats: csv.\n",
    "* **output_plot_path** (*str*) (Optional): Residual plot checks the error between actual values and predicted values. File type: output. [Sample file](https://github.com/bioexcel/biobb_ml/raw/master/biobb_ml/test/reference/regression/ref_output_plot_random_forest_regressor.png). Accepted formats: png."
   ]
  },
  {
   "cell_type": "markdown",
   "metadata": {},
   "source": [
    "### Config"
   ]
  },
  {
   "cell_type": "markdown",
   "metadata": {},
   "source": [
    "Syntax: input_parameter (datatype) - (default_value) Definition\n",
    "\n",
    "\n",
    "Config parameters for this building block:\n",
    "\n",
    "* **independent_vars** (*list*) - (None) Independent variables or columns from your dataset you want to train.\n",
    "* **target** (*string*) - (None) Dependent variable or column from your dataset you want to predict.\n",
    "* **n_estimators** (*int*) - (10) The number of trees in the forest.\n",
    "* **max_depth** (*int*) - (5) The maximum depth of the tree.\n",
    "* **test_size** (*float*) - (0.2) Represents the proportion of the dataset to include in the test split. It should be between 0.0 and 1.0.\n",
    "* **remove_tmp** (*bool*) - (True) [WF property] Remove temporal files.\n",
    "* **restart** (*bool*) - (False) [WF property] Do not execute if output files exist."
   ]
  },
  {
   "cell_type": "markdown",
   "metadata": {},
   "source": [
    "### YAML"
   ]
  },
  {
   "cell_type": "markdown",
   "metadata": {},
   "source": [
    "#### File config"
   ]
  },
  {
   "cell_type": "code",
   "execution_count": null,
   "metadata": {},
   "outputs": [],
   "source": [
    "properties:\n",
    "  independent_vars: ['LSTAT','RM']\n",
    "  target: 'MEDV'\n",
    "  n_estimators: 10\n",
    "  max_depth: 5\n",
    "  test_size: 0.2"
   ]
  },
  {
   "cell_type": "code",
   "execution_count": null,
   "metadata": {},
   "outputs": [],
   "source": [
    "random_forest_regressor --conf data/conf/random_forest_regressor.yml --input_dataset_path data/input/dataset_random_forest_regressor.csv --output_model_path data/output/output_model_random_forest_regressor.pkl --output_test_table_path data/output/output_test_random_forest_regressor.csv --output_plot_path data/output/output_plot_random_forest_regressor.png"
   ]
  },
  {
   "cell_type": "markdown",
   "metadata": {},
   "source": [
    "### JSON"
   ]
  },
  {
   "cell_type": "markdown",
   "metadata": {},
   "source": [
    "#### File config"
   ]
  },
  {
   "cell_type": "code",
   "execution_count": null,
   "metadata": {},
   "outputs": [],
   "source": [
    "{\n",
    "    \"properties\": {\n",
    "        \"independent_vars\": [\"LSTAT\", \"RM\"],\n",
    "        \"target\": \"MEDV\",\n",
    "        \"n_estimators\": 10,\n",
    "        \"max_depth\": 5,\n",
    "        \"test_size\": 0.2\n",
    "    }\n",
    "}"
   ]
  },
  {
   "cell_type": "code",
   "execution_count": null,
   "metadata": {},
   "outputs": [],
   "source": [
    "random_forest_regressor --conf data/conf/random_forest_regressor.json --input_dataset_path data/input/dataset_random_forest_regressor.csv --output_model_path data/output/output_model_random_forest_regressor.pkl --output_test_table_path data/output/output_test_random_forest_regressor.csv --output_plot_path data/output/output_plot_random_forest_regressor.png"
   ]
  },
  {
   "cell_type": "markdown",
   "metadata": {},
   "source": [
    "## regression_predict"
   ]
  },
  {
   "cell_type": "markdown",
   "metadata": {},
   "source": [
    "Makes predictions from a given model."
   ]
  },
  {
   "cell_type": "markdown",
   "metadata": {},
   "source": [
    "### Get help"
   ]
  },
  {
   "cell_type": "code",
   "execution_count": null,
   "metadata": {},
   "outputs": [],
   "source": [
    "regression_predict -h"
   ]
  },
  {
   "cell_type": "code",
   "execution_count": null,
   "metadata": {},
   "outputs": [],
   "source": [
    "usage: regression_predict [-h] [--config CONFIG] --input_model_path INPUT_MODEL_PATH --output_results_path OUTPUT_RESULTS_PATH\n",
    "\n",
    "Makes predictions from a given model.\n",
    "\n",
    "optional arguments:\n",
    "  -h, --help            show this help message and exit\n",
    "  --config CONFIG       Configuration file\n",
    "\n",
    "required arguments:\n",
    "  --input_model_path INPUT_MODEL_PATH\n",
    "                        Path to the input model. Accepted formats: pkl.\n",
    "  --output_results_path OUTPUT_RESULTS_PATH\n",
    "                        Path to the output results file. Accepted formats: csv."
   ]
  },
  {
   "cell_type": "markdown",
   "metadata": {},
   "source": [
    "### I / O Arguments"
   ]
  },
  {
   "cell_type": "markdown",
   "metadata": {},
   "source": [
    "Syntax: input_argument (datatype) : Definition\n",
    "\n",
    "Config input / output arguments for this building block:\n",
    "\n",
    "* **input_model_path** (*str*): Path to the input model. File type: input. [Sample file](https://github.com/bioexcel/biobb_ml/raw/master/biobb_ml/test/data/regression/model_regression_predict.pkl). Accepted formats: pkl.\n",
    "* **output_results_path** (*str*) (Optional): Path to the output results file. File type: output. [Sample file](https://github.com/bioexcel/biobb_ml/raw/master/biobb_ml/test/reference/regression/ref_output_regression_predict.csv). Accepted formats: csv."
   ]
  },
  {
   "cell_type": "markdown",
   "metadata": {},
   "source": [
    "### Config"
   ]
  },
  {
   "cell_type": "markdown",
   "metadata": {},
   "source": [
    "Syntax: input_parameter (datatype) - (default_value) Definition\n",
    "\n",
    "\n",
    "Config parameters for this building block:\n",
    "\n",
    "* **predictions** (*list*) - (None) List of dictionaries with all values you want to predict targets.\n",
    "* **remove_tmp** (*bool*) - (True) [WF property] Remove temporal files.\n",
    "* **restart** (*bool*) - (False) [WF property] Do not execute if output files exist."
   ]
  },
  {
   "cell_type": "markdown",
   "metadata": {},
   "source": [
    "### YAML"
   ]
  },
  {
   "cell_type": "markdown",
   "metadata": {},
   "source": [
    "#### File config"
   ]
  },
  {
   "cell_type": "code",
   "execution_count": null,
   "metadata": {},
   "outputs": [],
   "source": [
    "properties:\n",
    "  predictions: [ \n",
    "    { 'LSTAT': 4.98, 'RM': 6.575 }, \n",
    "    { 'LSTAT': 9.14, 'RM': 6.421 }\n",
    "  ]"
   ]
  },
  {
   "cell_type": "code",
   "execution_count": null,
   "metadata": {},
   "outputs": [],
   "source": [
    "regression_predict --conf data/conf/regression_predict.yml --input_model_path data/input/model_regression_predict.pkl --output_results_path data/output/output_regression_predict.csv"
   ]
  },
  {
   "cell_type": "markdown",
   "metadata": {},
   "source": [
    "### JSON"
   ]
  },
  {
   "cell_type": "markdown",
   "metadata": {},
   "source": [
    "#### File config"
   ]
  },
  {
   "cell_type": "code",
   "execution_count": null,
   "metadata": {},
   "outputs": [],
   "source": [
    "{\n",
    "    \"properties\": {\n",
    "        \"predictions\": [ \n",
    "            { \"LSTAT\": 4.98, \"RM\": 6.575 }, \n",
    "            { \"LSTAT\": 9.14, \"RM\": 6.421 }\n",
    "        ]\n",
    "    }\n",
    "}"
   ]
  },
  {
   "cell_type": "code",
   "execution_count": null,
   "metadata": {},
   "outputs": [],
   "source": [
    "regression_predict --conf data/conf/regression_predict.json --input_model_path data/input/model_regression_predict.pkl --output_results_path data/output/output_regression_predict.csv"
   ]
  },
  {
   "cell_type": "markdown",
   "metadata": {},
   "source": [
    "## decision_tree"
   ]
  },
  {
   "cell_type": "markdown",
   "metadata": {},
   "source": [
    "Trains and tests a given dataset and saves the model and scaler for a decision tree classification."
   ]
  },
  {
   "cell_type": "markdown",
   "metadata": {},
   "source": [
    "### Get help"
   ]
  },
  {
   "cell_type": "code",
   "execution_count": null,
   "metadata": {},
   "outputs": [],
   "source": [
    "decision_tree -h"
   ]
  },
  {
   "cell_type": "code",
   "execution_count": null,
   "metadata": {},
   "outputs": [],
   "source": [
    "usage: decision_tree [-h] [--config CONFIG] --input_dataset_path INPUT_DATASET_PATH --output_model_path OUTPUT_MODEL_PATH [--output_test_table_path OUTPUT_TEST_TABLE_PATH] [--output_plot_path OUTPUT_PLOT_PATH]\n",
    "\n",
    "Trains and tests a given dataset and saves the model and scaler for a decision tree classification.\n",
    "\n",
    "optional arguments:\n",
    "  -h, --help            show this help message and exit\n",
    "  --config CONFIG       Configuration file\n",
    "  --output_test_table_path OUTPUT_TEST_TABLE_PATH\n",
    "                        Path to the test table file. Accepted formats: csv.\n",
    "  --output_plot_path OUTPUT_PLOT_PATH\n",
    "                        Path to the statistics plot. If target is binary it shows confusion matrix, distributions of the predicted probabilities of both classes and ROC curve. If target is non-binary it shows confusion matrix. Accepted formats: png.\n",
    "\n",
    "required arguments:\n",
    "  --input_dataset_path INPUT_DATASET_PATH\n",
    "                        Path to the input dataset. Accepted formats: csv.\n",
    "  --output_model_path OUTPUT_MODEL_PATH\n",
    "                        Path to the output model file. Accepted formats: pkl."
   ]
  },
  {
   "cell_type": "markdown",
   "metadata": {},
   "source": [
    "### I / O Arguments"
   ]
  },
  {
   "cell_type": "markdown",
   "metadata": {},
   "source": [
    "Syntax: input_argument (datatype) : Definition\n",
    "\n",
    "Config input / output arguments for this building block:\n",
    "\n",
    "* **input_dataset_path** (*str*): Path to the input dataset. File type: input. [Sample file](https://github.com/bioexcel/biobb_ml/raw/master/biobb_ml/test/data/classification/dataset_decision_tree.csv). Accepted formats: csv.\n",
    "* **output_model_path** (*str*): Path to the output model file. File type: output. [Sample file](https://github.com/bioexcel/biobb_ml/raw/master/biobb_ml/test/reference/classification/ref_output_model_decision_tree.pkl). Accepted formats: pkl.\n",
    "* **output_test_table_path** (*str*) (Optional): Path to the test table file. File type: output. [Sample file](https://github.com/bioexcel/biobb_ml/raw/master/biobb_ml/test/reference/classification/ref_output_test_decision_tree.csv). Accepted formats: csv.\n",
    "* **output_plot_path** (*str*) (Optional): Path to the statistics plot. If target is binary it shows confusion matrix, distributions of the predicted probabilities of both classes and ROC curve. If target is non-binary it shows confusion matrix. File type: output. [Sample file](https://github.com/bioexcel/biobb_ml/raw/master/biobb_ml/test/reference/classification/ref_output_plot_decision_tree.png). Accepted formats: png."
   ]
  },
  {
   "cell_type": "markdown",
   "metadata": {},
   "source": [
    "### Config"
   ]
  },
  {
   "cell_type": "markdown",
   "metadata": {},
   "source": [
    "Syntax: input_parameter (datatype) - (default_value) Definition\n",
    "\n",
    "\n",
    "Config parameters for this building block:\n",
    "\n",
    "* **independent_vars** (*list*) - (None) Independent variables or columns from your dataset you want to train.\n",
    "* **target** (*string*) - (None) Dependent variable or column from your dataset you want to predict.\n",
    "* **criterion** (*string*) - (\"gini\") The function to measure the quality of a split. Supported criteria are \"gini\" for the Gini impurity and \"entropy\" for the information gain. Values: gini, entropy.\n",
    "* **max_depth** (*int*) - (4) The maximum depth of the model. If None, then nodes are expanded until all leaves are pure or until all leaves contain less than min_samples_split samples.\n",
    "* **normalize_cm** (*bool*) - (False) Whether or not to normalize the confusion matrix.\n",
    "* **test_size** (*float*) - (0.2) Represents the proportion of the dataset to include in the test split. It should be between 0.0 and 1.0.\n",
    "* **remove_tmp** (*bool*) - (True) [WF property] Remove temporal files.\n",
    "* **restart** (*bool*) - (False) [WF property] Do not execute if output files exist."
   ]
  },
  {
   "cell_type": "markdown",
   "metadata": {},
   "source": [
    "### YAML"
   ]
  },
  {
   "cell_type": "markdown",
   "metadata": {},
   "source": [
    "#### File config"
   ]
  },
  {
   "cell_type": "code",
   "execution_count": null,
   "metadata": {},
   "outputs": [],
   "source": [
    "properties:\n",
    "  independent_vars: ['duration', 'interest_rate', 'march', 'credit', 'previous']\n",
    "  target: 'y'\n",
    "  criterion: 'entropy'\n",
    "  max_depth: 4\n",
    "  normalize_cm: false\n",
    "  test_size: 0.2"
   ]
  },
  {
   "cell_type": "code",
   "execution_count": null,
   "metadata": {},
   "outputs": [],
   "source": [
    "decision_tree --conf data/conf/decision_tree.yml --input_dataset_path data/input/dataset_decision_tree.csv --output_model_path data/output/output_model_decision_tree.pkl --output_test_table_path data/output/output_test_decision_tree.csv --output_plot_path data/output/output_plot_decision_tree.png"
   ]
  },
  {
   "cell_type": "markdown",
   "metadata": {},
   "source": [
    "### JSON"
   ]
  },
  {
   "cell_type": "markdown",
   "metadata": {},
   "source": [
    "#### File config"
   ]
  },
  {
   "cell_type": "code",
   "execution_count": null,
   "metadata": {},
   "outputs": [],
   "source": [
    "{\n",
    "    \"properties\": {\n",
    "        \"independent_vars\": [\"duration\", \"interest_rate\", \"march\", \"credit\", \"previous\"],\n",
    "        \"target\": \"y\",\n",
    "        \"criterion\": \"entropy\",\n",
    "        \"max_depth\": 4,\n",
    "        \"normalize_cm\": false,\n",
    "        \"test_size\": 0.2\n",
    "    }\n",
    "}"
   ]
  },
  {
   "cell_type": "code",
   "execution_count": null,
   "metadata": {},
   "outputs": [],
   "source": [
    "decision_tree --conf data/conf/decision_tree.json --input_dataset_path data/input/dataset_decision_tree.csv --output_model_path data/output/output_model_decision_tree.pkl --output_test_table_path data/output/output_test_decision_tree.csv --output_plot_path data/output/output_plot_decision_tree.png"
   ]
  },
  {
   "cell_type": "markdown",
   "metadata": {},
   "source": [
    "## k_neighbors_coefficient"
   ]
  },
  {
   "cell_type": "markdown",
   "metadata": {},
   "source": [
    "Trains and tests a given dataset and calculates best K coefficient for a k-nearest neighbors classification."
   ]
  },
  {
   "cell_type": "markdown",
   "metadata": {},
   "source": [
    "### Get help"
   ]
  },
  {
   "cell_type": "code",
   "execution_count": null,
   "metadata": {},
   "outputs": [],
   "source": [
    "k_neighbors_coefficient -h"
   ]
  },
  {
   "cell_type": "code",
   "execution_count": null,
   "metadata": {},
   "outputs": [],
   "source": [
    "usage: k_neighbors_coefficient [-h] [--config CONFIG] --input_dataset_path INPUT_DATASET_PATH --output_results_path OUTPUT_RESULTS_PATH [--output_plot_path OUTPUT_PLOT_PATH]\n",
    "\n",
    "Trains and tests a given dataset and calculates best K coefficient for a k-nearest neighbors classification.\n",
    "\n",
    "optional arguments:\n",
    "  -h, --help            show this help message and exit\n",
    "  --config CONFIG       Configuration file\n",
    "  --output_plot_path OUTPUT_PLOT_PATH\n",
    "                        Path to the accuracy plot. Accepted formats: png.\n",
    "\n",
    "required arguments:\n",
    "  --input_dataset_path INPUT_DATASET_PATH\n",
    "                        Path to the input dataset. Accepted formats: csv.\n",
    "  --output_results_path OUTPUT_RESULTS_PATH\n",
    "                        Path to the accuracy values list. Accepted formats: csv."
   ]
  },
  {
   "cell_type": "markdown",
   "metadata": {},
   "source": [
    "### I / O Arguments"
   ]
  },
  {
   "cell_type": "markdown",
   "metadata": {},
   "source": [
    "Syntax: input_argument (datatype) : Definition\n",
    "\n",
    "Config input / output arguments for this building block:\n",
    "\n",
    "* **input_dataset_path** (*str*): Path to the input dataset. File type: input. [Sample file](https://github.com/bioexcel/biobb_ml/raw/master/biobb_ml/test/data/classification/dataset_k_neighbors_coefficient.csv). Accepted formats: csv.\n",
    "* **output_results_path** (*str*) (Optional): Path to the accuracy values list. File type: output. [Sample file](https://github.com/bioexcel/biobb_ml/raw/master/biobb_ml/test/reference/classification/ref_output_test_k_neighbors_coefficient.csv). Accepted formats: csv.\n",
    "* **output_plot_path** (*str*) (Optional): Path to the accuracy plot. File type: output. [Sample file](https://github.com/bioexcel/biobb_ml/raw/master/biobb_ml/test/reference/classification/ref_output_plot_k_neighbors_coefficient.png). Accepted formats: png."
   ]
  },
  {
   "cell_type": "markdown",
   "metadata": {},
   "source": [
    "### Config"
   ]
  },
  {
   "cell_type": "markdown",
   "metadata": {},
   "source": [
    "Syntax: input_parameter (datatype) - (default_value) Definition\n",
    "\n",
    "\n",
    "Config parameters for this building block:\n",
    "\n",
    "* **independent_vars** (*list*) - (None) Independent variables or columns from your dataset you want to train.\n",
    "* **target** (*string*) - (None) Dependent variable or column from your dataset you want to predict.\n",
    "* **metric** (*string*) - (\"minkowski\") The distance metric to use for the tree. Values: euclidean, manhattan, chebyshev, minkowski, wminkowski, seuclidean, mahalanobi.\n",
    "* **max_neighbors** (*int*) - (6) Maximum number of neighbors to use by default for kneighbors queries.\n",
    "* **test_size** (*float*) - (0.2) Represents the proportion of the dataset to include in the test split. It should be between 0.0 and 1.0.\n",
    "* **remove_tmp** (*bool*) - (True) [WF property] Remove temporal files.\n",
    "* **restart** (*bool*) - (False) [WF property] Do not execute if output files exist."
   ]
  },
  {
   "cell_type": "markdown",
   "metadata": {},
   "source": [
    "### YAML"
   ]
  },
  {
   "cell_type": "markdown",
   "metadata": {},
   "source": [
    "#### File config"
   ]
  },
  {
   "cell_type": "code",
   "execution_count": null,
   "metadata": {},
   "outputs": [],
   "source": [
    "properties:\n",
    "  independent_vars: ['region', 'tenure','age', 'marital', 'address', 'income', 'ed', 'employ','retire', 'gender', 'reside']\n",
    "  target: 'custcat'\n",
    "  metric: 'minkowski'\n",
    "  max_neighbors: 15\n",
    "  test_size: 0.2"
   ]
  },
  {
   "cell_type": "code",
   "execution_count": null,
   "metadata": {},
   "outputs": [],
   "source": [
    "k_neighbors_coefficient --conf data/conf/k_neighbors_coefficients.yml --input_dataset_path data/input/dataset_k_neighbors_coefficient.csv --output_results_path data/output/output_test_k_neighbors_coefficient.csv --output_plot_path data/output/output_plot_k_neighbors_coefficient.png"
   ]
  },
  {
   "cell_type": "markdown",
   "metadata": {},
   "source": [
    "### JSON"
   ]
  },
  {
   "cell_type": "markdown",
   "metadata": {},
   "source": [
    "#### File config"
   ]
  },
  {
   "cell_type": "code",
   "execution_count": null,
   "metadata": {},
   "outputs": [],
   "source": [
    "{\n",
    "    \"properties\": {\n",
    "        \"independent_vars\": [\"region\", \"tenure\", \"age\", \"marital\", \"address\", \"income\", \"ed\", \"employ\", \"retire\", \"gender\", \"reside\"],\n",
    "        \"target\": \"custcat\",\n",
    "        \"metric\": \"minkowski\",\n",
    "        \"max_neighbors\": 15,\n",
    "        \"test_size\": 0.2\n",
    "    }\n",
    "}"
   ]
  },
  {
   "cell_type": "code",
   "execution_count": null,
   "metadata": {},
   "outputs": [],
   "source": [
    "k_neighbors_coefficient --conf data/conf/k_neighbors_coefficients.json --input_dataset_path data/input/dataset_k_neighbors_coefficient.csv --output_results_path data/output/output_test_k_neighbors_coefficient.csv --output_plot_path data/output/output_plot_k_neighbors_coefficient.png"
   ]
  },
  {
   "cell_type": "markdown",
   "metadata": {},
   "source": [
    "## k_neighbors"
   ]
  },
  {
   "cell_type": "markdown",
   "metadata": {},
   "source": [
    "Trains and tests a given dataset and saves the model and scaler for a k-nearest neighbors classification."
   ]
  },
  {
   "cell_type": "markdown",
   "metadata": {},
   "source": [
    "### Get help"
   ]
  },
  {
   "cell_type": "code",
   "execution_count": null,
   "metadata": {},
   "outputs": [],
   "source": [
    "k_neighbors -h"
   ]
  },
  {
   "cell_type": "code",
   "execution_count": null,
   "metadata": {},
   "outputs": [],
   "source": [
    "usage: k_neighbors [-h] [--config CONFIG] --input_dataset_path INPUT_DATASET_PATH --output_model_path OUTPUT_MODEL_PATH [--output_test_table_path OUTPUT_TEST_TABLE_PATH] [--output_plot_path OUTPUT_PLOT_PATH]\n",
    "\n",
    "Trains and tests a given dataset and saves the model and scaler for a k-nearest neighbors classification.\n",
    "\n",
    "optional arguments:\n",
    "  -h, --help            show this help message and exit\n",
    "  --config CONFIG       Configuration file\n",
    "  --output_test_table_path OUTPUT_TEST_TABLE_PATH\n",
    "                        Path to the test table file. Accepted formats: csv.\n",
    "  --output_plot_path OUTPUT_PLOT_PATH\n",
    "                        Path to the statistics plot. If target is binary it shows confusion matrix, distributions of the predicted probabilities of both classes and ROC curve. If target is non-binary it shows confusion matrix. Accepted formats: png.\n",
    "\n",
    "required arguments:\n",
    "  --input_dataset_path INPUT_DATASET_PATH\n",
    "                        Path to the input dataset. Accepted formats: csv.\n",
    "  --output_model_path OUTPUT_MODEL_PATH\n",
    "                        Path to the output model file. Accepted formats: pkl."
   ]
  },
  {
   "cell_type": "markdown",
   "metadata": {},
   "source": [
    "### I / O Arguments"
   ]
  },
  {
   "cell_type": "markdown",
   "metadata": {},
   "source": [
    "Syntax: input_argument (datatype) : Definition\n",
    "\n",
    "Config input / output arguments for this building block:\n",
    "\n",
    "* **input_dataset_path** (*str*): Path to the input dataset. File type: input. [Sample file](https://github.com/bioexcel/biobb_ml/raw/master/biobb_ml/test/data/classification/dataset_k_neighbors.csv). Accepted formats: csv.\n",
    "* **output_model_path** (*str*): Path to the output model file. File type: output. [Sample file](https://github.com/bioexcel/biobb_ml/raw/master/biobb_ml/test/reference/classification/ref_output_model_k_neighbors.pkl). Accepted formats: pkl.\n",
    "* **output_test_table_path** (*str*) (Optional): Path to the test table file. File type: output. [Sample file](https://github.com/bioexcel/biobb_ml/raw/master/biobb_ml/test/reference/classification/ref_output_test_k_neighbors.csv). Accepted formats: csv.\n",
    "* **output_plot_path** (*str*) (Optional): Path to the statistics plot. If target is binary it shows confusion matrix, distributions of the predicted probabilities of both classes and ROC curve. If target is non-binary it shows confusion matrix. File type: output. [Sample file](https://github.com/bioexcel/biobb_ml/raw/master/biobb_ml/test/reference/classification/ref_output_plot_k_neighbors.png). Accepted formats: png."
   ]
  },
  {
   "cell_type": "markdown",
   "metadata": {},
   "source": [
    "### Config"
   ]
  },
  {
   "cell_type": "markdown",
   "metadata": {},
   "source": [
    "Syntax: input_parameter (datatype) - (default_value) Definition\n",
    "\n",
    "\n",
    "Config parameters for this building block:\n",
    "\n",
    "* **independent_vars** (*list*) - (None) Independent variables or columns from your dataset you want to train.\n",
    "* **target** (*string*) - (None) Dependent variable or column from your dataset you want to predict.\n",
    "* **metric** (*string*) - (\"minkowski\") The distance metric to use for the tree. Values: euclidean, manhattan, chebyshev, minkowski, wminkowski, seuclidean, mahalanobi.\n",
    "* **n_neighbors** (*int*) - (6) Number of neighbors to use by default for kneighbors queries.\n",
    "* **normalize_cm** (*bool*) - (False) Whether or not to normalize the confusion matrix.\n",
    "* **test_size** (*float*) - (0.2) Represents the proportion of the dataset to include in the test split. It should be between 0.0 and 1.0.\n",
    "* **remove_tmp** (*bool*) - (True) [WF property] Remove temporal files.\n",
    "* **restart** (*bool*) - (False) [WF property] Do not execute if output files exist."
   ]
  },
  {
   "cell_type": "markdown",
   "metadata": {},
   "source": [
    "### YAML"
   ]
  },
  {
   "cell_type": "markdown",
   "metadata": {},
   "source": [
    "#### File config"
   ]
  },
  {
   "cell_type": "code",
   "execution_count": null,
   "metadata": {},
   "outputs": [],
   "source": [
    "properties:\n",
    "  independent_vars: ['duration', 'interest_rate', 'march', 'credit', 'previous']\n",
    "  target: 'y'\n",
    "  metric: 'minkowski'\n",
    "  n_neighbors: 5\n",
    "  normalize_cm: false\n",
    "  test_size: 0.2"
   ]
  },
  {
   "cell_type": "code",
   "execution_count": null,
   "metadata": {},
   "outputs": [],
   "source": [
    "k_neighbors --conf data/conf/kneighbors.yml --input_dataset_path data/input/dataset_k_neighbors.csv --output_model_path data/output/output_model_k_neighbors.pkl --output_test_table_path data/output/output_test_k_neighbors.csv --output_plot_path data/output/output_plot_k_neighbors.png"
   ]
  },
  {
   "cell_type": "markdown",
   "metadata": {},
   "source": [
    "### JSON"
   ]
  },
  {
   "cell_type": "markdown",
   "metadata": {},
   "source": [
    "#### File config"
   ]
  },
  {
   "cell_type": "code",
   "execution_count": null,
   "metadata": {},
   "outputs": [],
   "source": [
    "{\n",
    "    \"properties\": {\n",
    "        \"independent_vars\": [\"duration\", \"interest_rate\", \"march\", \"credit\", \"previous\"],\n",
    "        \"target\": \"y\",\n",
    "        \"metric\": \"minkowski\",\n",
    "        \"n_neighbors\": 5,\n",
    "        \"normalize_cm\": false,\n",
    "        \"test_size\": 0.2\n",
    "    }\n",
    "}"
   ]
  },
  {
   "cell_type": "code",
   "execution_count": null,
   "metadata": {},
   "outputs": [],
   "source": [
    "k_neighbors --conf data/conf/kneighbors.json --input_dataset_path data/input/dataset_k_neighbors.csv --output_model_path data/output/output_model_k_neighbors.pkl --output_test_table_path data/output/output_test_k_neighbors.csv --output_plot_path data/output/output_plot_k_neighbors.png"
   ]
  },
  {
   "cell_type": "markdown",
   "metadata": {},
   "source": [
    "## logistic_regression"
   ]
  },
  {
   "cell_type": "markdown",
   "metadata": {},
   "source": [
    "Trains and tests a given dataset and saves the model and scaler for a logistic regression."
   ]
  },
  {
   "cell_type": "markdown",
   "metadata": {},
   "source": [
    "### Get help"
   ]
  },
  {
   "cell_type": "code",
   "execution_count": null,
   "metadata": {},
   "outputs": [],
   "source": [
    "logistic_regression -h"
   ]
  },
  {
   "cell_type": "code",
   "execution_count": null,
   "metadata": {},
   "outputs": [],
   "source": [
    "usage: logistic_regression [-h] [--config CONFIG] --input_dataset_path INPUT_DATASET_PATH --output_model_path OUTPUT_MODEL_PATH [--output_test_table_path OUTPUT_TEST_TABLE_PATH] [--output_plot_path OUTPUT_PLOT_PATH]\n",
    "\n",
    "Trains and tests a given dataset and saves the model and scaler for a logistic regression.\n",
    "\n",
    "optional arguments:\n",
    "  -h, --help            show this help message and exit\n",
    "  --config CONFIG       Configuration file\n",
    "  --output_test_table_path OUTPUT_TEST_TABLE_PATH\n",
    "                        Path to the test table file. Accepted formats: csv.\n",
    "  --output_plot_path OUTPUT_PLOT_PATH\n",
    "                        Path to the statistics plot. If target is binary it shows confusion matrix, distributions of the predicted probabilities of both classes and ROC curve. If target is non-binary it shows confusion matrix. Accepted formats: png.\n",
    "\n",
    "required arguments:\n",
    "  --input_dataset_path INPUT_DATASET_PATH\n",
    "                        Path to the input dataset. Accepted formats: csv.\n",
    "  --output_model_path OUTPUT_MODEL_PATH\n",
    "                        Path to the output model file. Accepted formats: pkl."
   ]
  },
  {
   "cell_type": "markdown",
   "metadata": {},
   "source": [
    "### I / O Arguments"
   ]
  },
  {
   "cell_type": "markdown",
   "metadata": {},
   "source": [
    "Syntax: input_argument (datatype) : Definition\n",
    "\n",
    "Config input / output arguments for this building block:\n",
    "\n",
    "* **input_dataset_path** (*str*): Path to the input dataset. File type: input. [Sample file](https://github.com/bioexcel/biobb_ml/raw/master/biobb_ml/test/data/classification/dataset_logistic_regression.csv). Accepted formats: csv.\n",
    "* **output_model_path** (*str*): Path to the output model file. File type: output. [Sample file](https://github.com/bioexcel/biobb_ml/raw/master/biobb_ml/test/reference/classification/ref_output_model_logistic_regression.pkl). Accepted formats: pkl.\n",
    "* **output_test_table_path** (*str*) (Optional): Path to the test table file. File type: output. [Sample file](https://github.com/bioexcel/biobb_ml/raw/master/biobb_ml/test/reference/classification/ref_output_test_logistic_regression.csv). Accepted formats: csv.\n",
    "* **output_plot_path** (*str*) (Optional): Path to the statistics plot. If target is binary it shows confusion matrix, distributions of the predicted probabilities of both classes and ROC curve. If target is non-binary it shows confusion matrix. File type: output. [Sample file](https://github.com/bioexcel/biobb_ml/raw/master/biobb_ml/test/reference/classification/ref_output_test_logistic_regression.csv). Accepted formats: png."
   ]
  },
  {
   "cell_type": "markdown",
   "metadata": {},
   "source": [
    "### Config"
   ]
  },
  {
   "cell_type": "markdown",
   "metadata": {},
   "source": [
    "Syntax: input_parameter (datatype) - (default_value) Definition\n",
    "\n",
    "\n",
    "Config parameters for this building block:\n",
    "\n",
    "* **independent_vars** (*list*) - (None) Independent variables or columns from your dataset you want to train.\n",
    "* **target** (*string*) - (None) Dependent variable or column from your dataset you want to predict.\n",
    "* **solver** (*string*) - (\"liblinear\") Numerical optimizer to find parameters. Values: newton-cg, lbfgs, liblinear, sag, saga\n",
    "* **c_parameter** (*float*) - (0.01) Inverse of regularization strength; must be a positive float. Smaller values specify stronger regularization.\n",
    "* **normalize_cm** (*bool*) - (False) Whether or not to normalize the confusion matrix.\n",
    "* **test_size** (*float*) - (0.2) Represents the proportion of the dataset to include in the test split. It should be between 0.0 and 1.0.\n",
    "* **remove_tmp** (*bool*) - (True) [WF property] Remove temporal files.\n",
    "* **restart** (*bool*) - (False) [WF property] Do not execute if output files exist."
   ]
  },
  {
   "cell_type": "markdown",
   "metadata": {},
   "source": [
    "### YAML"
   ]
  },
  {
   "cell_type": "markdown",
   "metadata": {},
   "source": [
    "#### File config"
   ]
  },
  {
   "cell_type": "code",
   "execution_count": null,
   "metadata": {},
   "outputs": [],
   "source": [
    "properties:\n",
    "  independent_vars: ['mean area', 'mean compactness']\n",
    "  target: 'benign'\n",
    "  solver: 'liblinear'\n",
    "  c_parameter: 0.01\n",
    "  normalize_cm: false\n",
    "  test_size: 0.2"
   ]
  },
  {
   "cell_type": "code",
   "execution_count": null,
   "metadata": {},
   "outputs": [],
   "source": [
    "logistic_regression --conf data/conf/logistic_regression.yml --input_dataset_path data/input/dataset_logistic_regression.csv --output_model_path data/output/output_model_logistic_regression.pkl --output_test_table_path data/output/output_test_logistic_regression.csv --output_plot_path data/output/output_plot_logistic_regression.png"
   ]
  },
  {
   "cell_type": "markdown",
   "metadata": {},
   "source": [
    "### JSON"
   ]
  },
  {
   "cell_type": "markdown",
   "metadata": {},
   "source": [
    "#### File config"
   ]
  },
  {
   "cell_type": "code",
   "execution_count": null,
   "metadata": {},
   "outputs": [],
   "source": [
    "{\n",
    "    \"properties\": {\n",
    "        \"independent_vars\": [\"mean area\", \"mean compactness\"],\n",
    "        \"target\": \"benign\",\n",
    "        \"solver\": \"liblinear\",\n",
    "        \"c_parameter\": 0.01,\n",
    "        \"normalize_cm\": false,\n",
    "        \"test_size\": 0.2\n",
    "    }\n",
    "}"
   ]
  },
  {
   "cell_type": "code",
   "execution_count": null,
   "metadata": {},
   "outputs": [],
   "source": [
    "logistic_regression --conf data/conf/logistic_regression.json --input_dataset_path data/input/dataset_logistic_regression.csv --output_model_path data/output/output_model_logistic_regression.pkl --output_test_table_path data/output/output_test_logistic_regression.csv --output_plot_path data/output/output_plot_logistic_regression.png"
   ]
  },
  {
   "cell_type": "markdown",
   "metadata": {},
   "source": [
    "## random_forest_classifier"
   ]
  },
  {
   "cell_type": "markdown",
   "metadata": {},
   "source": [
    "Trains and tests a given dataset and saves the model and scaler for a random forest classifier."
   ]
  },
  {
   "cell_type": "markdown",
   "metadata": {},
   "source": [
    "### Get help"
   ]
  },
  {
   "cell_type": "code",
   "execution_count": null,
   "metadata": {},
   "outputs": [],
   "source": [
    "random_forest_classifier -h"
   ]
  },
  {
   "cell_type": "code",
   "execution_count": null,
   "metadata": {},
   "outputs": [],
   "source": [
    "usage: random_forest_classifier [-h] [--config CONFIG] --input_dataset_path INPUT_DATASET_PATH --output_model_path OUTPUT_MODEL_PATH [--output_test_table_path OUTPUT_TEST_TABLE_PATH] [--output_plot_path OUTPUT_PLOT_PATH]\n",
    "\n",
    "Trains and tests a given dataset and calculates coefficients and predictions for a random forest classifier.\n",
    "\n",
    "optional arguments:\n",
    "  -h, --help            show this help message and exit\n",
    "  --config CONFIG       Configuration file\n",
    "  --output_test_table_path OUTPUT_TEST_TABLE_PATH\n",
    "                        Path to the test table file. Accepted formats: csv.\n",
    "  --output_plot_path OUTPUT_PLOT_PATH\n",
    "                        Path to the statistics plot. If target is binary it shows confusion matrix, distributions of the predicted probabilities of both classes and ROC curve. If target is non-binary it shows confusion matrix. Accepted formats: png.\n",
    "\n",
    "required arguments:\n",
    "  --input_dataset_path INPUT_DATASET_PATH\n",
    "                        Path to the input dataset. Accepted formats: csv.\n",
    "  --output_model_path OUTPUT_MODEL_PATH\n",
    "                        Path to the output model file. Accepted formats: pkl."
   ]
  },
  {
   "cell_type": "markdown",
   "metadata": {},
   "source": [
    "### I / O Arguments"
   ]
  },
  {
   "cell_type": "markdown",
   "metadata": {},
   "source": [
    "Syntax: input_argument (datatype) : Definition\n",
    "\n",
    "Config input / output arguments for this building block:\n",
    "\n",
    "* **input_dataset_path** (*str*): Path to the input dataset. File type: input. [Sample file](https://github.com/bioexcel/biobb_ml/raw/master/biobb_ml/test/data/classification/dataset_random_forest_classifier.csv). Accepted formats: csv.\n",
    "* **output_model_path** (*str*): Path to the output model file. File type: output. [Sample file](https://github.com/bioexcel/biobb_ml/raw/master/biobb_ml/test/reference/classification/ref_output_model_random_forest_classifier.pkl). Accepted formats: pkl.\n",
    "* **output_test_table_path** (*str*) (Optional): Path to the test table file. File type: output. [Sample file](https://github.com/bioexcel/biobb_ml/raw/master/biobb_ml/test/reference/classification/ref_output_test_random_forest_classifier.csv). Accepted formats: csv.\n",
    "* **output_plot_path** (*str*) (Optional): Path to the statistics plot. If target is binary it shows confusion matrix, distributions of the predicted probabilities of both classes and ROC curve. If target is non-binary it shows confusion matrix. File type: output. [Sample file](https://github.com/bioexcel/biobb_ml/raw/master/biobb_ml/test/reference/classification/ref_output_plot_random_forest_classifier.png). Accepted formats: png."
   ]
  },
  {
   "cell_type": "markdown",
   "metadata": {},
   "source": [
    "### Config"
   ]
  },
  {
   "cell_type": "markdown",
   "metadata": {},
   "source": [
    "Syntax: input_parameter (datatype) - (default_value) Definition\n",
    "\n",
    "\n",
    "Config parameters for this building block:\n",
    "\n",
    "* **independent_vars** (*list*) - (None) Independent variables or columns from your dataset you want to train.\n",
    "* **target** (*string*) - (None) Dependent variable or column from your dataset you want to predict.\n",
    "* **n_estimators** (*int*) - (100) The number of trees in the forest.\n",
    "* **bootstrap** (*bool*) - (True) Whether bootstrap samples are used when building trees. If False, the whole dataset is used to build each tree.\n",
    "* **normalize_cm** (*bool*) - (False) Whether or not to normalize the confusion matrix.\n",
    "* **test_size** (*float*) - (0.2) Represents the proportion of the dataset to include in the test split. It should be between 0.0 and 1.0.\n",
    "* **remove_tmp** (*bool*) - (True) [WF property] Remove temporal files.\n",
    "* **restart** (*bool*) - (False) [WF property] Do not execute if output files exist."
   ]
  },
  {
   "cell_type": "markdown",
   "metadata": {},
   "source": [
    "### YAML"
   ]
  },
  {
   "cell_type": "markdown",
   "metadata": {},
   "source": [
    "#### File config"
   ]
  },
  {
   "cell_type": "code",
   "execution_count": null,
   "metadata": {},
   "outputs": [],
   "source": [
    "properties:\n",
    "  independent_vars: ['Age', 'Sex', 'BP', 'Cholesterol', 'Na_to_K']\n",
    "  target: 'Drug'\n",
    "  n_estimators: 100\n",
    "  bootstrap: true\n",
    "  normalize_cm: false\n",
    "  test_size: 0.2"
   ]
  },
  {
   "cell_type": "code",
   "execution_count": null,
   "metadata": {},
   "outputs": [],
   "source": [
    "random_forest_classifier --conf data/conf/random_forest_classifier.yml --input_dataset_path data/input/dataset_random_forest_classifier.csv --output_model_path data/output/output_model_random_forest_classifier.pkl --output_test_table_path data/output/output_test_random_forest_classifier.csv --output_plot_path data/output/output_plot_random_forest_classifier.png"
   ]
  },
  {
   "cell_type": "markdown",
   "metadata": {},
   "source": [
    "### JSON"
   ]
  },
  {
   "cell_type": "markdown",
   "metadata": {},
   "source": [
    "#### File config"
   ]
  },
  {
   "cell_type": "code",
   "execution_count": null,
   "metadata": {},
   "outputs": [],
   "source": [
    "{\n",
    "    \"properties\": {\n",
    "        \"independent_vars\": [\"Age\", \"Sex\", \"BP\", \"Cholesterol\", \"Na_to_K\"],\n",
    "        \"target\": \"Drug\",\n",
    "        \"n_estimators\": 100,\n",
    "        \"bootstrap\": true,\n",
    "        \"normalize_cm\": false,\n",
    "        \"test_size\": 0.2\n",
    "    }\n",
    "}"
   ]
  },
  {
   "cell_type": "code",
   "execution_count": null,
   "metadata": {},
   "outputs": [],
   "source": [
    "random_forest_classifier --conf data/conf/random_forest_classifier.json --input_dataset_path data/input/dataset_random_forest_classifier.csv --output_model_path data/output/output_model_random_forest_classifier.pkl --output_test_table_path data/output/output_test_random_forest_classifier.csv --output_plot_path data/output/output_plot_random_forest_classifier.png"
   ]
  },
  {
   "cell_type": "markdown",
   "metadata": {},
   "source": [
    "## support_vector_machine"
   ]
  },
  {
   "cell_type": "markdown",
   "metadata": {},
   "source": [
    "Trains and tests a given dataset and saves the model and scaler for a support vector machine."
   ]
  },
  {
   "cell_type": "markdown",
   "metadata": {},
   "source": [
    "### Get help"
   ]
  },
  {
   "cell_type": "code",
   "execution_count": null,
   "metadata": {},
   "outputs": [],
   "source": [
    "support_vector_machine -h"
   ]
  },
  {
   "cell_type": "code",
   "execution_count": null,
   "metadata": {},
   "outputs": [],
   "source": [
    "usage: support_vector_machine [-h] [--config CONFIG] --input_dataset_path INPUT_DATASET_PATH --output_model_path OUTPUT_MODEL_PATH [--output_test_table_path OUTPUT_TEST_TABLE_PATH] [--output_plot_path OUTPUT_PLOT_PATH]\n",
    "\n",
    "Trains and tests a given dataset and saves the model and scaler for a support vector machine.\n",
    "\n",
    "optional arguments:\n",
    "  -h, --help            show this help message and exit\n",
    "  --config CONFIG       Configuration file\n",
    "  --output_test_table_path OUTPUT_TEST_TABLE_PATH\n",
    "                        Path to the test table file. Accepted formats: csv.\n",
    "  --output_plot_path OUTPUT_PLOT_PATH\n",
    "                        Path to the statistics plot. If target is binary it shows confusion matrix, distributions of the predicted probabilities of both classes and ROC curve. If target is non-binary it shows confusion matrix. Accepted formats: png.\n",
    "\n",
    "required arguments:\n",
    "  --input_dataset_path INPUT_DATASET_PATH\n",
    "                        Path to the input dataset. Accepted formats: csv.\n",
    "  --output_model_path OUTPUT_MODEL_PATH\n",
    "                        Path to the output model file. Accepted formats: pkl."
   ]
  },
  {
   "cell_type": "markdown",
   "metadata": {},
   "source": [
    "### I / O Arguments"
   ]
  },
  {
   "cell_type": "markdown",
   "metadata": {},
   "source": [
    "Syntax: input_argument (datatype) : Definition\n",
    "\n",
    "Config input / output arguments for this building block:\n",
    "\n",
    "* **input_dataset_path** (*str*): Path to the input dataset. File type: input. [Sample file](https://github.com/bioexcel/biobb_ml/raw/master/biobb_ml/test/data/classification/dataset_support_vector_machine.csv). Accepted formats: csv.\n",
    "* **output_model_path** (*str*): Path to the output model file. File type: output. [Sample file](https://github.com/bioexcel/biobb_ml/raw/master/biobb_ml/test/reference/classification/ref_output_model_support_vector_machine.pkl). Accepted formats: pkl.\n",
    "* **output_test_table_path** (*str*) (Optional): Path to the test table file. File type: output. [Sample file](https://github.com/bioexcel/biobb_ml/raw/master/biobb_ml/test/reference/classification/ref_output_test_support_vector_machine.csv). Accepted formats: csv.\n",
    "* **output_plot_path** (*str*) (Optional): Path to the statistics plot. If target is binary it shows confusion matrix, distributions of the predicted probabilities of both classes and ROC curve. If target is non-binary it shows confusion matrix. File type: output. [Sample file](https://github.com/bioexcel/biobb_ml/raw/master/biobb_ml/test/reference/classification/ref_output_plot_support_vector_machine.png). Accepted formats: png."
   ]
  },
  {
   "cell_type": "markdown",
   "metadata": {},
   "source": [
    "### Config"
   ]
  },
  {
   "cell_type": "markdown",
   "metadata": {},
   "source": [
    "Syntax: input_parameter (datatype) - (default_value) Definition\n",
    "\n",
    "\n",
    "Config parameters for this building block:\n",
    "\n",
    "* **independent_vars** (*list*) - (None) Independent variables or columns from your dataset you want to train.\n",
    "* **target** (*string*) - (None) Dependent variable or column from your dataset you want to predict.\n",
    "* **kernel** (*string*) - (\"rbf\") Specifies the kernel type to be used in the algorithm. Values: linear, poly, rbf, sigmoid, precomputed.\n",
    "* **normalize_cm** (*bool*) - (False) Whether or not to normalize the confusion matrix.\n",
    "* **test_size** (*float*) - (0.2) Represents the proportion of the dataset to include in the test split. It should be between 0.0 and 1.0.\n",
    "* **remove_tmp** (*bool*) - (True) [WF property] Remove temporal files.\n",
    "* **restart** (*bool*) - (False) [WF property] Do not execute if output files exist."
   ]
  },
  {
   "cell_type": "markdown",
   "metadata": {},
   "source": [
    "### YAML"
   ]
  },
  {
   "cell_type": "markdown",
   "metadata": {},
   "source": [
    "#### File config"
   ]
  },
  {
   "cell_type": "code",
   "execution_count": null,
   "metadata": {},
   "outputs": [],
   "source": [
    "properties:\n",
    "  independent_vars: ['duration', 'interest_rate', 'march', 'credit', 'previous']\n",
    "  target: 'y'\n",
    "  kernel: 'rbf'\n",
    "  normalize_cm: false                              \n",
    "  test_size: 0.2"
   ]
  },
  {
   "cell_type": "code",
   "execution_count": null,
   "metadata": {},
   "outputs": [],
   "source": [
    "support_vector_machine --conf data/conf/support_vector_machine.yml --input_dataset_path data/input/dataset_support_vector_machine.csv --output_model_path data/output/output_model_support_vector_machine.pkl --output_test_table_path data/output/output_test_support_vector_machine.csv --output_plot_path data/output/output_plot_support_vector_machine.png"
   ]
  },
  {
   "cell_type": "markdown",
   "metadata": {},
   "source": [
    "### JSON"
   ]
  },
  {
   "cell_type": "markdown",
   "metadata": {},
   "source": [
    "#### File config"
   ]
  },
  {
   "cell_type": "code",
   "execution_count": null,
   "metadata": {},
   "outputs": [],
   "source": [
    "{\n",
    "    \"properties\": {\n",
    "        \"independent_vars\": [\"duration\", \"interest_rate\", \"march\", \"credit\", \"previous\"],\n",
    "        \"target\": \"y\",\n",
    "        \"kernel\": \"rbf\",\n",
    "        \"normalize_cm\": false,\n",
    "        \"test_size\": 0.2\n",
    "    }\n",
    "}"
   ]
  },
  {
   "cell_type": "code",
   "execution_count": null,
   "metadata": {},
   "outputs": [],
   "source": [
    "support_vector_machine --conf data/conf/support_vector_machine.json --input_dataset_path data/input/dataset_support_vector_machine.csv --output_model_path data/output/output_model_support_vector_machine.pkl --output_test_table_path data/output/output_test_support_vector_machine.csv --output_plot_path data/output/output_plot_support_vector_machine.png"
   ]
  },
  {
   "cell_type": "markdown",
   "metadata": {},
   "source": [
    "## classification_predict"
   ]
  },
  {
   "cell_type": "markdown",
   "metadata": {},
   "source": [
    "Makes predictions from a given model."
   ]
  },
  {
   "cell_type": "markdown",
   "metadata": {},
   "source": [
    "### Get help"
   ]
  },
  {
   "cell_type": "code",
   "execution_count": null,
   "metadata": {},
   "outputs": [],
   "source": [
    "classification_predict -h"
   ]
  },
  {
   "cell_type": "code",
   "execution_count": null,
   "metadata": {},
   "outputs": [],
   "source": [
    "usage: classification_predict [-h] [--config CONFIG] --input_model_path INPUT_MODEL_PATH --output_results_path OUTPUT_RESULTS_PATH\n",
    "\n",
    "Makes predictions from a given model.\n",
    "\n",
    "optional arguments:\n",
    "  -h, --help            show this help message and exit\n",
    "  --config CONFIG       Configuration file\n",
    "\n",
    "required arguments:\n",
    "  --input_model_path INPUT_MODEL_PATH\n",
    "                        Path to the input model. Accepted formats: pkl.\n",
    "  --output_results_path OUTPUT_RESULTS_PATH\n",
    "                        Path to the output results file. Accepted formats: csv."
   ]
  },
  {
   "cell_type": "markdown",
   "metadata": {},
   "source": [
    "### I / O Arguments"
   ]
  },
  {
   "cell_type": "markdown",
   "metadata": {},
   "source": [
    "Syntax: input_argument (datatype) : Definition\n",
    "\n",
    "Config input / output arguments for this building block:\n",
    "\n",
    "* **input_model_path** (*str*): Path to the input model. File type: input. [Sample file](https://github.com/bioexcel/biobb_ml/raw/master/biobb_ml/test/data/classification/model_classification_predict.pkl). Accepted formats: pkl.\n",
    "* **output_results_path** (*str*) (Optional): Path to the output results file. File type: output. [Sample file](https://github.com/bioexcel/biobb_ml/raw/master/biobb_ml/test/reference/classification/ref_output_classification_predict.csv). Accepted formats: csv."
   ]
  },
  {
   "cell_type": "markdown",
   "metadata": {},
   "source": [
    "### Config"
   ]
  },
  {
   "cell_type": "markdown",
   "metadata": {},
   "source": [
    "Syntax: input_parameter (datatype) - (default_value) Definition\n",
    "\n",
    "\n",
    "Config parameters for this building block:\n",
    "\n",
    "* **predictions** (*list*) - (None) List of dictionaries with all values you want to predict targets.\n",
    "* **remove_tmp** (*bool*) - (True) [WF property] Remove temporal files.\n",
    "* **restart** (*bool*) - (False) [WF property] Do not execute if output files exist."
   ]
  },
  {
   "cell_type": "markdown",
   "metadata": {},
   "source": [
    "### YAML"
   ]
  },
  {
   "cell_type": "markdown",
   "metadata": {},
   "source": [
    "#### File config"
   ]
  },
  {
   "cell_type": "code",
   "execution_count": null,
   "metadata": {},
   "outputs": [],
   "source": [
    "properties:                           \n",
    "  predictions: [ \n",
    "    { 'duration': 117.000, 'interest_rate': 1.334, 'march': 1.000, 'credit': 0.000, 'previous': 0.000 },\n",
    "    { 'duration': 274.000, 'interest_rate': 0.767, 'march': 0.000, 'credit': 0.000, 'previous': 1.000 }, \n",
    "    { 'duration': 167.000, 'interest_rate': 4.858, 'march': 1.000, 'credit': 0.000, 'previous': 0.000 }, \n",
    "  ]"
   ]
  },
  {
   "cell_type": "code",
   "execution_count": null,
   "metadata": {},
   "outputs": [],
   "source": [
    "classification_predict --conf data/conf/classification_predict.yml --input_model_path data/input/model_classification_predict.pkl --output_results_path data/output/output_classification_predict.csv"
   ]
  },
  {
   "cell_type": "markdown",
   "metadata": {},
   "source": [
    "### JSON"
   ]
  },
  {
   "cell_type": "markdown",
   "metadata": {},
   "source": [
    "#### File config"
   ]
  },
  {
   "cell_type": "code",
   "execution_count": null,
   "metadata": {},
   "outputs": [],
   "source": [
    "{\n",
    "    \"properties\": {\n",
    "        \"predictions\": [ \n",
    "            { \"duration\": 117.000, \"interest_rate\": 1.334, \"march\": 1.000, \"credit\": 0.000, \"previous\": 0.000 },\n",
    "            { \"duration\": 274.000, \"interest_rate\": 0.767, \"march\": 0.000, \"credit\": 0.000, \"previous\": 1.000 },\n",
    "            { \"duration\": 167.000, \"interest_rate\": 4.858, \"march\": 1.000, \"credit\": 0.000, \"previous\": 0.000 }\n",
    "        ]\n",
    "    }\n",
    "}"
   ]
  },
  {
   "cell_type": "code",
   "execution_count": null,
   "metadata": {},
   "outputs": [],
   "source": [
    "classification_predict --conf data/conf/classification_predict.json --input_model_path data/input/model_classification_predict.pkl --output_results_path data/output/output_classification_predict.csv"
   ]
  },
  {
   "cell_type": "markdown",
   "metadata": {},
   "source": [
    "## agglomerative_coefficient"
   ]
  },
  {
   "cell_type": "markdown",
   "metadata": {},
   "source": [
    "Clusters a given dataset and calculates best K coefficient for an agglomerative clustering."
   ]
  },
  {
   "cell_type": "markdown",
   "metadata": {},
   "source": [
    "### Get help"
   ]
  },
  {
   "cell_type": "code",
   "execution_count": null,
   "metadata": {},
   "outputs": [],
   "source": [
    "agglomerative_coefficient -h"
   ]
  },
  {
   "cell_type": "code",
   "execution_count": null,
   "metadata": {},
   "outputs": [],
   "source": [
    "usage: agglomerative_coefficient [-h] [--config CONFIG] --input_dataset_path INPUT_DATASET_PATH --output_results_path OUTPUT_RESULTS_PATH [--output_plot_path OUTPUT_PLOT_PATH]\n",
    "\n",
    "Clusters a given dataset and calculates best K coefficient for a k-means clustering.\n",
    "\n",
    "optional arguments:\n",
    "  -h, --help            show this help message and exit\n",
    "  --config CONFIG       Configuration file\n",
    "  --output_plot_path OUTPUT_PLOT_PATH\n",
    "                        Path to the elbow and gap methods plot. Accepted formats: png.\n",
    "\n",
    "required arguments:\n",
    "  --input_dataset_path INPUT_DATASET_PATH\n",
    "                        Path to the input dataset. Accepted formats: csv.\n",
    "  --output_results_path OUTPUT_RESULTS_PATH\n",
    "                        Path to the gap values list. Accepted formats: csv."
   ]
  },
  {
   "cell_type": "markdown",
   "metadata": {},
   "source": [
    "### I / O Arguments"
   ]
  },
  {
   "cell_type": "markdown",
   "metadata": {},
   "source": [
    "Syntax: input_argument (datatype) : Definition\n",
    "\n",
    "Config input / output arguments for this building block:\n",
    "\n",
    "* **input_dataset_path** (*str*): Path to the input dataset. File type: input. [Sample file](https://github.com/bioexcel/biobb_ml/raw/master/biobb_ml/test/data/clustering/dataset_agglomerative_coefficient.csv). Accepted formats: csv.\n",
    "* **output_results_path** (*str*) (Optional):  Path to the gap values list.  File type: output. [Sample file](https://github.com/bioexcel/biobb_ml/raw/master/biobb_ml/test/reference/clustering/ref_output_results_agglomerative_coefficient.csv). Accepted formats: csv.\n",
    "* **output_plot_path** (*str*) (Optional): Path to the elbow method and gap statistics plot. File type: output. [Sample file](https://github.com/bioexcel/biobb_ml/raw/master/biobb_ml/test/reference/clustering/ref_output_plot_agglomerative_coefficient.png). Accepted formats: png."
   ]
  },
  {
   "cell_type": "markdown",
   "metadata": {},
   "source": [
    "### Config"
   ]
  },
  {
   "cell_type": "markdown",
   "metadata": {},
   "source": [
    "Syntax: input_parameter (datatype) - (default_value) Definition\n",
    "\n",
    "\n",
    "Config parameters for this building block:\n",
    "\n",
    "* **predictors** (*list*) - (None) Features or columns from your dataset you want to use for fitting.\n",
    "* **max_clusters** (*int*) - (6) Maximum number of clusters to use by default for kmeans queries.\n",
    "* **remove_tmp** (*bool*) - (True) [WF property] Remove temporal files.\n",
    "* **restart** (*bool*) - (False) [WF property] Do not execute if output files exist."
   ]
  },
  {
   "cell_type": "markdown",
   "metadata": {},
   "source": [
    "### YAML"
   ]
  },
  {
   "cell_type": "markdown",
   "metadata": {},
   "source": [
    "#### File config"
   ]
  },
  {
   "cell_type": "code",
   "execution_count": null,
   "metadata": {},
   "outputs": [],
   "source": [
    "properties:\n",
    "  predictors: ['sepal_length', 'sepal_width']\n",
    "  max_clusters: 10"
   ]
  },
  {
   "cell_type": "code",
   "execution_count": null,
   "metadata": {},
   "outputs": [],
   "source": [
    "agglomerative_coefficient --conf data/conf/agglomerative_coefficient.yml --input_dataset_path data/input/dataset_agglomerative_coefficient.csv --output_results_path data/output/output_results_agglomerative_coefficient.csv --output_plot_path data/output/output_plot_agglomerative_coefficient.png"
   ]
  },
  {
   "cell_type": "markdown",
   "metadata": {},
   "source": [
    "### JSON"
   ]
  },
  {
   "cell_type": "markdown",
   "metadata": {},
   "source": [
    "#### File config"
   ]
  },
  {
   "cell_type": "code",
   "execution_count": null,
   "metadata": {},
   "outputs": [],
   "source": [
    "{\n",
    "    \"properties\": {\n",
    "        \"predictors\": [\"sepal_length\", \"sepal_width\"],\n",
    "        \"max_clusters\": 10\n",
    "    }\n",
    "}"
   ]
  },
  {
   "cell_type": "code",
   "execution_count": null,
   "metadata": {},
   "outputs": [],
   "source": [
    "agglomerative_coefficient --conf data/conf/agglomerative_coefficient.json --input_dataset_path data/input/dataset_agglomerative_coefficient.csv --output_results_path data/output/output_results_agglomerative_coefficient.csv --output_plot_path data/output/output_plot_agglomerative_coefficient.png"
   ]
  },
  {
   "cell_type": "markdown",
   "metadata": {},
   "source": [
    "## agglomerative_clustering"
   ]
  },
  {
   "cell_type": "markdown",
   "metadata": {},
   "source": [
    "Clusters a given dataset with agglomerative clustering method."
   ]
  },
  {
   "cell_type": "markdown",
   "metadata": {},
   "source": [
    "### Get help"
   ]
  },
  {
   "cell_type": "code",
   "execution_count": null,
   "metadata": {},
   "outputs": [],
   "source": [
    "agglomerative_clustering -h"
   ]
  },
  {
   "cell_type": "code",
   "execution_count": null,
   "metadata": {},
   "outputs": [],
   "source": [
    "usage: agglomerative_clustering [-h] [--config CONFIG] --input_dataset_path INPUT_DATASET_PATH --output_results_path OUTPUT_RESULTS_PATH [--output_plot_path OUTPUT_PLOT_PATH]\n",
    "\n",
    "Clusters a given dataset with k-means clustering method.\n",
    "\n",
    "optional arguments:\n",
    "  -h, --help            show this help message and exit\n",
    "  --config CONFIG       Configuration file\n",
    "  --output_plot_path OUTPUT_PLOT_PATH\n",
    "                        Path to the clustering plot. Accepted formats: png.\n",
    "\n",
    "required arguments:\n",
    "  --input_dataset_path INPUT_DATASET_PATH\n",
    "                        Path to the input dataset. Accepted formats: csv.\n",
    "  --output_results_path OUTPUT_RESULTS_PATH\n",
    "                        Path to the clustered dataset. Accepted formats: csv."
   ]
  },
  {
   "cell_type": "markdown",
   "metadata": {},
   "source": [
    "### I / O Arguments"
   ]
  },
  {
   "cell_type": "markdown",
   "metadata": {},
   "source": [
    "Syntax: input_argument (datatype) : Definition\n",
    "\n",
    "Config input / output arguments for this building block:\n",
    "\n",
    "* **input_dataset_path** (*str*): Path to the input dataset. File type: input. [Sample file](https://github.com/bioexcel/biobb_ml/raw/master/biobb_ml/test/data/clustering/dataset_agglomerative_clustering.csv). Accepted formats: csv.\n",
    "* **output_results_path** (*str*): Path to the clustered dataset. File type: output. [Sample file](https://github.com/bioexcel/biobb_ml/raw/master/biobb_ml/test/reference/clustering/ref_output_results_agglomerative_clustering.csv). Accepted formats: csv.\n",
    "* **output_plot_path** (*str*) (Optional): Path to the clustering plot. File type: output. [Sample file](https://github.com/bioexcel/biobb_ml/raw/master/biobb_ml/test/reference/clustering/ref_output_plot_agglomerative_clustering.png). Accepted formats: png."
   ]
  },
  {
   "cell_type": "markdown",
   "metadata": {},
   "source": [
    "### Config"
   ]
  },
  {
   "cell_type": "markdown",
   "metadata": {},
   "source": [
    "Syntax: input_parameter (datatype) - (default_value) Definition\n",
    "\n",
    "\n",
    "Config parameters for this building block:\n",
    "\n",
    "* **predictors** (*list*) - (None) Features or columns from your dataset you want to use for fitting.\n",
    "* **clusters** (*int*) - (3) The number of clusters to form as well as the number of centroids to generate.\n",
    "* **linkage** (*int*) - (\"ward\") The linkage criterion determines which distance to use between sets of observation. The algorithm will merge the pairs of cluster that minimize this criterion. Values: ward, complete, average, single.\n",
    "* **plots** (*list*) - (None) List of dictionaries with all plots you want to generate. Only 2D or 3D plots accepted. Format: [ { 'title': 'Plot 1', 'features': ['feat1', 'feat2'] } ].\n",
    "* **remove_tmp** (*bool*) - (True) [WF property] Remove temporal files.\n",
    "* **restart** (*bool*) - (False) [WF property] Do not execute if output files exist."
   ]
  },
  {
   "cell_type": "markdown",
   "metadata": {},
   "source": [
    "### YAML"
   ]
  },
  {
   "cell_type": "markdown",
   "metadata": {},
   "source": [
    "#### File config"
   ]
  },
  {
   "cell_type": "code",
   "execution_count": null,
   "metadata": {},
   "outputs": [],
   "source": [
    "properties:\n",
    "  predictors: ['sepal_length', 'sepal_width', 'petal_length', 'petal_width']\n",
    "  clusters: 3\n",
    "  linkage: average\n",
    "  plots: [\n",
    "    { \n",
    "      'title': 'Plot 1',\n",
    "      'features': ['sepal_length', 'sepal_width']\n",
    "    },\n",
    "    { \n",
    "      'title': 'Plot 2',\n",
    "      'features': ['petal_length', 'petal_width']\n",
    "    },\n",
    "    { \n",
    "      'title': 'Plot 3',\n",
    "      'features': ['sepal_length', 'sepal_width', 'petal_length']\n",
    "    },\n",
    "    { \n",
    "      'title': 'Plot 4',\n",
    "      'features': ['petal_length', 'petal_width', 'sepal_width']\n",
    "    },\n",
    "    { \n",
    "      'title': 'Plot 5',\n",
    "      'features': ['sepal_length', 'petal_width']\n",
    "    }\n",
    "  ]"
   ]
  },
  {
   "cell_type": "code",
   "execution_count": null,
   "metadata": {},
   "outputs": [],
   "source": [
    "agglomerative_clustering --conf data/conf/agglomerative_clustering.yml --input_dataset_path data/input/dataset_agglomerative_clustering.csv --output_results_path data/output/output_results_agglomerative_clustering.csv --output_plot_path data/output/output_plot_agglomerative_clustering.png"
   ]
  },
  {
   "cell_type": "markdown",
   "metadata": {},
   "source": [
    "### JSON"
   ]
  },
  {
   "cell_type": "markdown",
   "metadata": {},
   "source": [
    "#### File config"
   ]
  },
  {
   "cell_type": "code",
   "execution_count": null,
   "metadata": {},
   "outputs": [],
   "source": [
    "{\n",
    "    \"properties\": {\n",
    "        \"predictors\": [\"sepal_length\", \"sepal_width\", \"petal_length\", \"petal_width\"],\n",
    "        \"clusters\": 3,\n",
    "        \"linkage\": \"average\",\n",
    "        \"plots\": [\n",
    "            { \n",
    "              \"title\": \"Plot 1\",\n",
    "              \"features\": [\"sepal_length\", \"sepal_width\"]\n",
    "            },\n",
    "            { \n",
    "              \"title\": \"Plot 2\",\n",
    "              \"features\": [\"petal_length\", \"petal_width\"]\n",
    "            },\n",
    "            { \n",
    "              \"title\": \"Plot 3\",\n",
    "              \"features\": [\"sepal_length\", \"sepal_width\", \"petal_length\"]\n",
    "            },\n",
    "            { \n",
    "              \"title\": \"Plot 4\",\n",
    "              \"features\": [\"petal_length\", \"petal_width\", \"sepal_width\"]\n",
    "            },\n",
    "            { \n",
    "              \"title\": \"Plot 5\",\n",
    "              \"features\": [\"sepal_length\", \"petal_width\"]\n",
    "            }\n",
    "        ]\n",
    "    }\n",
    "}"
   ]
  },
  {
   "cell_type": "code",
   "execution_count": null,
   "metadata": {},
   "outputs": [],
   "source": [
    "agglomerative_clustering --conf data/conf/agglomerative_clustering.json --input_dataset_path data/input/dataset_agglomerative_clustering.csv --output_results_path data/output/output_results_agglomerative_clustering.csv --output_plot_path data/output/output_plot_agglomerative_clustering.png"
   ]
  },
  {
   "cell_type": "markdown",
   "metadata": {},
   "source": [
    "## dbscan"
   ]
  },
  {
   "cell_type": "markdown",
   "metadata": {},
   "source": [
    "Clusters a given dataset with DBSCAN clustering method."
   ]
  },
  {
   "cell_type": "markdown",
   "metadata": {},
   "source": [
    "### Get help"
   ]
  },
  {
   "cell_type": "code",
   "execution_count": null,
   "metadata": {},
   "outputs": [],
   "source": [
    "dbscan -h"
   ]
  },
  {
   "cell_type": "code",
   "execution_count": null,
   "metadata": {},
   "outputs": [],
   "source": [
    "usage: dbscan [-h] [--config CONFIG] --input_dataset_path INPUT_DATASET_PATH --output_results_path OUTPUT_RESULTS_PATH [--output_plot_path OUTPUT_PLOT_PATH]\n",
    "\n",
    "Clusters a given dataset with DBSCAN clustering method.\n",
    "\n",
    "optional arguments:\n",
    "  -h, --help            show this help message and exit\n",
    "  --config CONFIG       Configuration file\n",
    "  --output_plot_path OUTPUT_PLOT_PATH\n",
    "                        Path to the clustering plot. Accepted formats: png.\n",
    "\n",
    "required arguments:\n",
    "  --input_dataset_path INPUT_DATASET_PATH\n",
    "                        Path to the input dataset. Accepted formats: csv.\n",
    "  --output_results_path OUTPUT_RESULTS_PATH\n",
    "                        Path to the clustered dataset. Accepted formats: csv."
   ]
  },
  {
   "cell_type": "markdown",
   "metadata": {},
   "source": [
    "### I / O Arguments"
   ]
  },
  {
   "cell_type": "markdown",
   "metadata": {},
   "source": [
    "Syntax: input_argument (datatype) : Definition\n",
    "\n",
    "Config input / output arguments for this building block:\n",
    "\n",
    "* **input_dataset_path** (*str*): Path to the input dataset. File type: input. [Sample file](https://github.com/bioexcel/biobb_ml/raw/master/biobb_ml/test/data/clustering/dataset_dbscan.csv). Accepted formats: csv.\n",
    "* **output_results_path** (*str*): Path to the clustered dataset. File type: output. [Sample file](https://github.com/bioexcel/biobb_ml/raw/master/biobb_ml/test/reference/clustering/ref_output_results_dbscan.csv). Accepted formats: csv.\n",
    "* **output_plot_path** (*str*) (Optional): Path to the clustering plot. File type: output. [Sample file](https://github.com/bioexcel/biobb_ml/raw/master/biobb_ml/test/reference/clustering/ref_output_plot_dbscan.png). Accepted formats: png."
   ]
  },
  {
   "cell_type": "markdown",
   "metadata": {},
   "source": [
    "### Config"
   ]
  },
  {
   "cell_type": "markdown",
   "metadata": {},
   "source": [
    "Syntax: input_parameter (datatype) - (default_value) Definition\n",
    "\n",
    "\n",
    "Config parameters for this building block:\n",
    "\n",
    "* **predictors** (*list*) - (None) Features or columns from your dataset you want to use for fitting.\n",
    "* **eps** (*float*) - (0.5) The maximum distance between two samples for one to be considered as in the neighborhood of the other.\n",
    "* **min_samples** (*int*) - (5) The number of samples (or total weight) in a neighborhood for a point to be considered as a core point. This includes the point itself.\n",
    "* **plots** (*list*) - (None) List of dictionaries with all plots you want to generate. Only 2D or 3D plots accepted. Format: [ { 'title': 'Plot 1', 'features': ['feat1', 'feat2'] } ].\n",
    "* **remove_tmp** (*bool*) - (True) [WF property] Remove temporal files.\n",
    "* **restart** (*bool*) - (False) [WF property] Do not execute if output files exist."
   ]
  },
  {
   "cell_type": "markdown",
   "metadata": {},
   "source": [
    "### YAML"
   ]
  },
  {
   "cell_type": "markdown",
   "metadata": {},
   "source": [
    "#### File config"
   ]
  },
  {
   "cell_type": "code",
   "execution_count": null,
   "metadata": {},
   "outputs": [],
   "source": [
    "properties:\n",
    "  predictors: ['sepal_length', 'sepal_width', 'petal_length', 'petal_width']\n",
    "  eps: 1.4\n",
    "  min_samples: 3\n",
    "  plots: [\n",
    "    { \n",
    "      'title': 'Plot 1',\n",
    "      'features': ['sepal_length', 'sepal_width']\n",
    "    },\n",
    "    { \n",
    "      'title': 'Plot 2',\n",
    "      'features': ['petal_length', 'petal_width']\n",
    "    },\n",
    "    { \n",
    "      'title': 'Plot 3',\n",
    "      'features': ['sepal_length', 'sepal_width', 'petal_length']\n",
    "    },\n",
    "    { \n",
    "      'title': 'Plot 4',\n",
    "      'features': ['petal_length', 'petal_width', 'sepal_width']\n",
    "    },\n",
    "    { \n",
    "      'title': 'Plot 5',\n",
    "      'features': ['sepal_length', 'petal_width']\n",
    "    }\n",
    "  ]"
   ]
  },
  {
   "cell_type": "code",
   "execution_count": null,
   "metadata": {},
   "outputs": [],
   "source": [
    "dbscan --conf data/conf/dbscan.yml --input_dataset_path data/input/dataset_dbscan.csv --output_results_path data/output/output_results_dbscan.csv --output_plot_path data/output/output_plot_dbscan.png"
   ]
  },
  {
   "cell_type": "markdown",
   "metadata": {},
   "source": [
    "### JSON"
   ]
  },
  {
   "cell_type": "markdown",
   "metadata": {},
   "source": [
    "#### File config"
   ]
  },
  {
   "cell_type": "code",
   "execution_count": null,
   "metadata": {},
   "outputs": [],
   "source": [
    "{\n",
    "    \"properties\": {\n",
    "        \"predictors\": [\"sepal_length\", \"sepal_width\", \"petal_length\", \"petal_width\"],\n",
    "        \"eps\": 1.4,\n",
    "        \"min_samples\":3,\n",
    "        \"plots\": [\n",
    "            { \n",
    "              \"title\": \"Plot 1\",\n",
    "              \"features\": [\"sepal_length\", \"sepal_width\"]\n",
    "            },\n",
    "            { \n",
    "              \"title\": \"Plot 2\",\n",
    "              \"features\": [\"petal_length\", \"petal_width\"]\n",
    "            },\n",
    "            { \n",
    "              \"title\": \"Plot 3\",\n",
    "              \"features\": [\"sepal_length\", \"sepal_width\", \"petal_length\"]\n",
    "            },\n",
    "            { \n",
    "              \"title\": \"Plot 4\",\n",
    "              \"features\": [\"petal_length\", \"petal_width\", \"sepal_width\"]\n",
    "            },\n",
    "            { \n",
    "              \"title\": \"Plot 5\",\n",
    "              \"features\": [\"sepal_length\", \"petal_width\"]\n",
    "            }\n",
    "        ]\n",
    "    }\n",
    "}"
   ]
  },
  {
   "cell_type": "code",
   "execution_count": null,
   "metadata": {},
   "outputs": [],
   "source": [
    "dbscan --conf data/conf/dbscan.json --input_dataset_path data/input/dataset_dbscan.csv --output_results_path data/output/output_results_dbscan.csv --output_plot_path data/output/output_plot_dbscan.png"
   ]
  },
  {
   "cell_type": "markdown",
   "metadata": {},
   "source": [
    "## k_means_coefficient"
   ]
  },
  {
   "cell_type": "markdown",
   "metadata": {},
   "source": [
    "Clusters a given dataset and calculates best K coefficient for a k-means clustering."
   ]
  },
  {
   "cell_type": "markdown",
   "metadata": {},
   "source": [
    "### Get help"
   ]
  },
  {
   "cell_type": "code",
   "execution_count": null,
   "metadata": {},
   "outputs": [],
   "source": [
    "k_means_coefficient -h"
   ]
  },
  {
   "cell_type": "code",
   "execution_count": null,
   "metadata": {},
   "outputs": [],
   "source": [
    "usage: k_means_coefficient [-h] [--config CONFIG] --input_dataset_path INPUT_DATASET_PATH --output_results_path OUTPUT_RESULTS_PATH [--output_plot_path OUTPUT_PLOT_PATH]\n",
    "\n",
    "Clusters a given dataset and calculates best K coefficient for a k-means clustering.\n",
    "\n",
    "optional arguments:\n",
    "  -h, --help            show this help message and exit\n",
    "  --config CONFIG       Configuration file\n",
    "  --output_plot_path OUTPUT_PLOT_PATH\n",
    "                        Path to the elbow and gap methods plot. Accepted formats: png.\n",
    "\n",
    "required arguments:\n",
    "  --input_dataset_path INPUT_DATASET_PATH\n",
    "                        Path to the input dataset. Accepted formats: csv.\n",
    "  --output_results_path OUTPUT_RESULTS_PATH\n",
    "                        Table with WCSS (elbow method), Gap and Silhouette coefficients for each cluster. Accepted formats: csv."
   ]
  },
  {
   "cell_type": "markdown",
   "metadata": {},
   "source": [
    "### I / O Arguments"
   ]
  },
  {
   "cell_type": "markdown",
   "metadata": {},
   "source": [
    "Syntax: input_argument (datatype) : Definition\n",
    "\n",
    "Config input / output arguments for this building block:\n",
    "\n",
    "* **input_dataset_path** (*str*): Path to the input dataset. File type: input. [Sample file](https://github.com/bioexcel/biobb_ml/raw/master/biobb_ml/test/data/clustering/dataset_k_means_coefficient.csv). Accepted formats: csv.\n",
    "* **output_results_path** (*str*) (Optional):  Table with WCSS (elbow method), Gap and Silhouette coefficients for each cluster. File type: output. [Sample file](https://github.com/bioexcel/biobb_ml/raw/master/biobb_ml/test/reference/clustering/ref_output_results_k_means_coefficient.csv). Accepted formats: csv.\n",
    "* **output_plot_path** (*str*) (Optional): Path to the elbow method and gap statistics plot. File type: output. [Sample file](https://github.com/bioexcel/biobb_ml/raw/master/biobb_ml/test/reference/clustering/ref_output_plot_k_means_coefficient.png). Accepted formats: png."
   ]
  },
  {
   "cell_type": "markdown",
   "metadata": {},
   "source": [
    "### Config"
   ]
  },
  {
   "cell_type": "markdown",
   "metadata": {},
   "source": [
    "Syntax: input_parameter (datatype) - (default_value) Definition\n",
    "\n",
    "\n",
    "Config parameters for this building block:\n",
    "\n",
    "* **predictors** (*list*) - (None) Features or columns from your dataset you want to use for fitting.\n",
    "* **max_clusters** (*int*) - (6) Maximum number of clusters to use by default for kmeans queries.\n",
    "* **remove_tmp** (*bool*) - (True) [WF property] Remove temporal files.\n",
    "* **restart** (*bool*) - (False) [WF property] Do not execute if output files exist."
   ]
  },
  {
   "cell_type": "markdown",
   "metadata": {},
   "source": [
    "### YAML"
   ]
  },
  {
   "cell_type": "markdown",
   "metadata": {},
   "source": [
    "#### File config"
   ]
  },
  {
   "cell_type": "code",
   "execution_count": null,
   "metadata": {},
   "outputs": [],
   "source": [
    "properties:\n",
    "  predictors: ['sepal_length', 'sepal_width']\n",
    "  max_clusters: 10"
   ]
  },
  {
   "cell_type": "code",
   "execution_count": null,
   "metadata": {},
   "outputs": [],
   "source": [
    "k_means_coefficient --conf data/conf/k_means_coefficient.yml --input_dataset_path data/input/dataset_k_means_coefficient.csv --output_results_path data/output/output_results_k_means_coefficient.csv --output_plot_path data/output/output_plot_k_means_coefficient.png"
   ]
  },
  {
   "cell_type": "markdown",
   "metadata": {},
   "source": [
    "### JSON"
   ]
  },
  {
   "cell_type": "markdown",
   "metadata": {},
   "source": [
    "#### File config"
   ]
  },
  {
   "cell_type": "code",
   "execution_count": null,
   "metadata": {},
   "outputs": [],
   "source": [
    "{\n",
    "    \"properties\": {\n",
    "        \"predictors\": [\"sepal_length\", \"sepal_width\"],\n",
    "        \"max_clusters\": 10\n",
    "    }\n",
    "}"
   ]
  },
  {
   "cell_type": "code",
   "execution_count": null,
   "metadata": {},
   "outputs": [],
   "source": [
    "k_means_coefficient --conf data/conf/k_means_coefficient.json --input_dataset_path data/input/dataset_k_means_coefficient.csv --output_results_path data/output/output_results_k_means_coefficient.csv --output_plot_path data/output/output_plot_k_means_coefficient.png"
   ]
  },
  {
   "cell_type": "markdown",
   "metadata": {},
   "source": [
    "## k_means"
   ]
  },
  {
   "cell_type": "markdown",
   "metadata": {},
   "source": [
    "Clusters a given dataset and saves a model with k-means clustering method."
   ]
  },
  {
   "cell_type": "markdown",
   "metadata": {},
   "source": [
    "### Get help"
   ]
  },
  {
   "cell_type": "code",
   "execution_count": null,
   "metadata": {},
   "outputs": [],
   "source": [
    "k_means -h"
   ]
  },
  {
   "cell_type": "code",
   "execution_count": null,
   "metadata": {},
   "outputs": [],
   "source": [
    "usage: k_means [-h] [--config CONFIG] --input_dataset_path INPUT_DATASET_PATH --output_results_path OUTPUT_RESULTS_PATH --output_model_path OUTPUT_MODEL_PATH [--output_plot_path OUTPUT_PLOT_PATH]\n",
    "\n",
    "Clusters a given dataset and saves a model with k-means clustering method.\n",
    "\n",
    "optional arguments:\n",
    "  -h, --help            show this help message and exit\n",
    "  --config CONFIG       Configuration file\n",
    "  --output_plot_path OUTPUT_PLOT_PATH\n",
    "                        Path to the clustering plot. Accepted formats: png.\n",
    "\n",
    "required arguments:\n",
    "  --input_dataset_path INPUT_DATASET_PATH\n",
    "                        Path to the input dataset. Accepted formats: csv.\n",
    "  --output_results_path OUTPUT_RESULTS_PATH\n",
    "                        Path to the clustered dataset. Accepted formats: csv.\n",
    "  --output_model_path OUTPUT_MODEL_PATH\n",
    "                        Path to the output model file. Accepted formats: pkl."
   ]
  },
  {
   "cell_type": "markdown",
   "metadata": {},
   "source": [
    "### I / O Arguments"
   ]
  },
  {
   "cell_type": "markdown",
   "metadata": {},
   "source": [
    "Syntax: input_argument (datatype) : Definition\n",
    "\n",
    "Config input / output arguments for this building block:\n",
    "\n",
    "* **input_dataset_path** (*str*): Path to the input dataset. File type: input. [Sample file](https://github.com/bioexcel/biobb_ml/raw/master/biobb_ml/test/data/clustering/dataset_k_means.csv). Accepted formats: csv.\n",
    "* **output_results_path** (*str*): Path to the clustered dataset. File type: output. [Sample file](https://github.com/bioexcel/biobb_ml/raw/master/biobb_ml/test/reference/clustering/ref_output_results_k_means.csv). Accepted formats: csv.\n",
    "* **output_model_path** (*str*): Path to the output model file. File type: output. [Sample file](https://github.com/bioexcel/biobb_ml/raw/master/biobb_ml/test/reference/clustering/ref_output_model_k_means.pkl). Accepted formats: csv.\n",
    "* **output_plot_path** (*str*) (Optional): Path to the clustering plot. File type: output. [Sample file](https://github.com/bioexcel/biobb_ml/raw/master/biobb_ml/test/reference/clustering/ref_output_plot_k_means.png). Accepted formats: png."
   ]
  },
  {
   "cell_type": "markdown",
   "metadata": {},
   "source": [
    "### Config"
   ]
  },
  {
   "cell_type": "markdown",
   "metadata": {},
   "source": [
    "Syntax: input_parameter (datatype) - (default_value) Definition\n",
    "\n",
    "\n",
    "Config parameters for this building block:\n",
    "\n",
    "* **predictors** (*list*) - (None) Features or columns from your dataset you want to use for fitting.\n",
    "* **clusters** (*int*) - (3) The number of clusters to form as well as the number of centroids to generate.\n",
    "* **plots** (*list*) - (None) List of dictionaries with all plots you want to generate. Only 2D or 3D plots accepted. Format: [ { 'title': 'Plot 1', 'features': ['feat1', 'feat2'] } ].\n",
    "* **remove_tmp** (*bool*) - (True) [WF property] Remove temporal files.\n",
    "* **restart** (*bool*) - (False) [WF property] Do not execute if output files exist."
   ]
  },
  {
   "cell_type": "markdown",
   "metadata": {},
   "source": [
    "### YAML"
   ]
  },
  {
   "cell_type": "markdown",
   "metadata": {},
   "source": [
    "#### File config"
   ]
  },
  {
   "cell_type": "code",
   "execution_count": null,
   "metadata": {},
   "outputs": [],
   "source": [
    "properties:\n",
    "  predictors: ['sepal_length', 'sepal_width', 'petal_length', 'petal_width']\n",
    "  clusters: 3\n",
    "  plots: [\n",
    "    { \n",
    "      'title': 'Plot 1',\n",
    "      'features': ['sepal_length', 'sepal_width']\n",
    "    },\n",
    "    { \n",
    "      'title': 'Plot 2',\n",
    "      'features': ['petal_length', 'petal_width']\n",
    "    },\n",
    "    { \n",
    "      'title': 'Plot 3',\n",
    "      'features': ['sepal_length', 'sepal_width', 'petal_length']\n",
    "    },\n",
    "    { \n",
    "      'title': 'Plot 4',\n",
    "      'features': ['petal_length', 'petal_width', 'sepal_width']\n",
    "    },\n",
    "    { \n",
    "      'title': 'Plot 5',\n",
    "      'features': ['sepal_length', 'petal_width']\n",
    "    }\n",
    "  ]"
   ]
  },
  {
   "cell_type": "code",
   "execution_count": null,
   "metadata": {},
   "outputs": [],
   "source": [
    "k_means --conf data/conf/kmeans.yml --input_dataset_path data/input/dataset_k_means.csv --output_results_path data/output/output_results_k_means.csv --output_model_path data/output/output_model_k_means.pkl --output_plot_path data/output/output_plot_k_means.png"
   ]
  },
  {
   "cell_type": "markdown",
   "metadata": {},
   "source": [
    "### JSON"
   ]
  },
  {
   "cell_type": "markdown",
   "metadata": {},
   "source": [
    "#### File config"
   ]
  },
  {
   "cell_type": "code",
   "execution_count": null,
   "metadata": {},
   "outputs": [],
   "source": [
    "{\n",
    "    \"properties\": {\n",
    "        \"predictors\": [\"sepal_length\", \"sepal_width\", \"petal_length\", \"petal_width\"],\n",
    "        \"clusters\": 3,\n",
    "        \"plots\": [\n",
    "            { \n",
    "              \"title\": \"Plot 1\",\n",
    "              \"features\": [\"sepal_length\", \"sepal_width\"]\n",
    "            },\n",
    "            { \n",
    "              \"title\": \"Plot 2\",\n",
    "              \"features\": [\"petal_length\", \"petal_width\"]\n",
    "            },\n",
    "            { \n",
    "              \"title\": \"Plot 3\",\n",
    "              \"features\": [\"sepal_length\", \"sepal_width\", \"petal_length\"]\n",
    "            },\n",
    "            { \n",
    "              \"title\": \"Plot 4\",\n",
    "              \"features\": [\"petal_length\", \"petal_width\", \"sepal_width\"]\n",
    "            },\n",
    "            { \n",
    "              \"title\": \"Plot 5\",\n",
    "              \"features\": [\"sepal_length\", \"petal_width\"]\n",
    "            }\n",
    "        ]\n",
    "    }\n",
    "}"
   ]
  },
  {
   "cell_type": "code",
   "execution_count": null,
   "metadata": {},
   "outputs": [],
   "source": [
    "k_means --conf data/conf/kmeans.json --input_dataset_path data/input/dataset_k_means.csv --output_results_path data/output/output_results_k_means.csv --output_model_path data/output/output_model_k_means.pkl --output_plot_path data/output/output_plot_k_means.png"
   ]
  },
  {
   "cell_type": "markdown",
   "metadata": {},
   "source": [
    "## spectral_coefficient"
   ]
  },
  {
   "cell_type": "markdown",
   "metadata": {},
   "source": [
    "Clusters a given dataset and calculates best K coefficient for a spectral clustering."
   ]
  },
  {
   "cell_type": "markdown",
   "metadata": {},
   "source": [
    "### Get help"
   ]
  },
  {
   "cell_type": "code",
   "execution_count": null,
   "metadata": {},
   "outputs": [],
   "source": [
    "spectral_coefficient -h"
   ]
  },
  {
   "cell_type": "code",
   "execution_count": null,
   "metadata": {},
   "outputs": [],
   "source": [
    "usage: spectral_coefficient [-h] [--config CONFIG] --input_dataset_path INPUT_DATASET_PATH --output_results_path OUTPUT_RESULTS_PATH [--output_plot_path OUTPUT_PLOT_PATH]\n",
    "\n",
    "Clusters a given dataset and calculates best K coefficient for a k-means clustering.\n",
    "\n",
    "optional arguments:\n",
    "  -h, --help            show this help message and exit\n",
    "  --config CONFIG       Configuration file\n",
    "  --output_plot_path OUTPUT_PLOT_PATH\n",
    "                        Path to the elbow and gap methods plot. Accepted formats: png.\n",
    "\n",
    "required arguments:\n",
    "  --input_dataset_path INPUT_DATASET_PATH\n",
    "                        Path to the input dataset. Accepted formats: csv.\n",
    "  --output_results_path OUTPUT_RESULTS_PATH\n",
    "                        Table with WCSS (elbow method), Gap and Silhouette coefficients for each cluster. Accepted formats: csv."
   ]
  },
  {
   "cell_type": "markdown",
   "metadata": {},
   "source": [
    "### I / O Arguments"
   ]
  },
  {
   "cell_type": "markdown",
   "metadata": {},
   "source": [
    "Syntax: input_argument (datatype) : Definition\n",
    "\n",
    "Config input / output arguments for this building block:\n",
    "\n",
    "* **input_dataset_path** (*str*): Path to the input dataset. File type: input. [Sample file](https://github.com/bioexcel/biobb_ml/raw/master/biobb_ml/test/data/clustering/dataset_spectral_coefficient.csv). Accepted formats: csv.\n",
    "* **output_results_path** (*str*) (Optional):  Table with WCSS (elbow method), Gap and Silhouette coefficients for each cluster. File type: output. [Sample file](https://github.com/bioexcel/biobb_ml/raw/master/biobb_ml/test/reference/clustering/ref_output_results_spectral_coefficient.csv). Accepted formats: csv.\n",
    "* **output_plot_path** (*str*) (Optional): Path to the elbow method and gap statistics plot. File type: output. [Sample file](https://github.com/bioexcel/biobb_ml/raw/master/biobb_ml/test/reference/clustering/ref_output_plot_spectral_coefficient.png). Accepted formats: png."
   ]
  },
  {
   "cell_type": "markdown",
   "metadata": {},
   "source": [
    "### Config"
   ]
  },
  {
   "cell_type": "markdown",
   "metadata": {},
   "source": [
    "Syntax: input_parameter (datatype) - (default_value) Definition\n",
    "\n",
    "\n",
    "Config parameters for this building block:\n",
    "\n",
    "* **predictors** (*list*) - (None) Features or columns from your dataset you want to use for fitting.\n",
    "* **max_clusters** (*int*) - (6) Maximum number of clusters to use by default for kmeans queries.\n",
    "* **remove_tmp** (*bool*) - (True) [WF property] Remove temporal files.\n",
    "* **restart** (*bool*) - (False) [WF property] Do not execute if output files exist."
   ]
  },
  {
   "cell_type": "markdown",
   "metadata": {},
   "source": [
    "### YAML"
   ]
  },
  {
   "cell_type": "markdown",
   "metadata": {},
   "source": [
    "#### File config"
   ]
  },
  {
   "cell_type": "code",
   "execution_count": null,
   "metadata": {},
   "outputs": [],
   "source": [
    "properties:\n",
    "  predictors: ['sepal_length', 'sepal_width']\n",
    "  max_clusters: 10"
   ]
  },
  {
   "cell_type": "code",
   "execution_count": null,
   "metadata": {},
   "outputs": [],
   "source": [
    "spectral_coefficient --conf data/conf/spectral_coefficient.yml --input_dataset_path data/input/dataset_spectral_coefficient.csv --output_results_path data/output/output_results_spectral_coefficient.csv --output_plot_path data/output/output_plot_spectral_coefficient.png"
   ]
  },
  {
   "cell_type": "markdown",
   "metadata": {},
   "source": [
    "### JSON"
   ]
  },
  {
   "cell_type": "markdown",
   "metadata": {},
   "source": [
    "#### File config"
   ]
  },
  {
   "cell_type": "code",
   "execution_count": null,
   "metadata": {},
   "outputs": [],
   "source": [
    "{\n",
    "    \"properties\": {\n",
    "        \"predictors\": [\"sepal_length\", \"sepal_width\"],\n",
    "        \"max_clusters\": 10\n",
    "    }\n",
    "}"
   ]
  },
  {
   "cell_type": "code",
   "execution_count": null,
   "metadata": {},
   "outputs": [],
   "source": [
    "spectral_coefficient --conf data/conf/spectral_coefficient.json --input_dataset_path data/input/dataset_spectral_coefficient.csv --output_results_path data/output/output_results_spectral_coefficient.csv --output_plot_path data/output/output_plot_spectral_coefficient.png"
   ]
  },
  {
   "cell_type": "markdown",
   "metadata": {},
   "source": [
    "## spectral_clustering"
   ]
  },
  {
   "cell_type": "markdown",
   "metadata": {},
   "source": [
    "Clusters a given dataset with spectral clustering method."
   ]
  },
  {
   "cell_type": "markdown",
   "metadata": {},
   "source": [
    "### Get help"
   ]
  },
  {
   "cell_type": "code",
   "execution_count": null,
   "metadata": {},
   "outputs": [],
   "source": [
    "spectral_clustering -h"
   ]
  },
  {
   "cell_type": "code",
   "execution_count": null,
   "metadata": {},
   "outputs": [],
   "source": [
    "usage: spectral_clustering [-h] [--config CONFIG] --input_dataset_path INPUT_DATASET_PATH --output_results_path OUTPUT_RESULTS_PATH [--output_plot_path OUTPUT_PLOT_PATH]\n",
    "\n",
    "Clusters a given dataset with spectral clustering method.\n",
    "\n",
    "optional arguments:\n",
    "  -h, --help            show this help message and exit\n",
    "  --config CONFIG       Configuration file\n",
    "  --output_plot_path OUTPUT_PLOT_PATH\n",
    "                        Path to the clustering plot. Accepted formats: png.\n",
    "\n",
    "required arguments:\n",
    "  --input_dataset_path INPUT_DATASET_PATH\n",
    "                        Path to the input dataset. Accepted formats: csv.\n",
    "  --output_results_path OUTPUT_RESULTS_PATH\n",
    "                        Path to the clustered dataset. Accepted formats: csv."
   ]
  },
  {
   "cell_type": "markdown",
   "metadata": {},
   "source": [
    "### I / O Arguments"
   ]
  },
  {
   "cell_type": "markdown",
   "metadata": {},
   "source": [
    "Syntax: input_argument (datatype) : Definition\n",
    "\n",
    "Config input / output arguments for this building block:\n",
    "\n",
    "* **input_dataset_path** (*str*): Path to the input dataset. File type: input. [Sample file](https://github.com/bioexcel/biobb_ml/raw/master/biobb_ml/test/data/clustering/dataset_spectral_clustering.csv). Accepted formats: csv.\n",
    "* **output_results_path** (*str*): Path to the clustered dataset. File type: output. [Sample file](https://github.com/bioexcel/biobb_ml/raw/master/biobb_ml/test/reference/clustering/ref_output_results_spectral_clustering.csv). Accepted formats: csv.\n",
    "* **output_plot_path** (*str*) (Optional): Path to the clustering plot. File type: output. [Sample file](https://github.com/bioexcel/biobb_ml/raw/master/biobb_ml/test/reference/clustering/ref_output_plot_spectral_clustering.png). Accepted formats: png."
   ]
  },
  {
   "cell_type": "markdown",
   "metadata": {},
   "source": [
    "### Config"
   ]
  },
  {
   "cell_type": "markdown",
   "metadata": {},
   "source": [
    "Syntax: input_parameter (datatype) - (default_value) Definition\n",
    "\n",
    "\n",
    "Config parameters for this building block:\n",
    "\n",
    "* **predictors** (*list*) - (None) Features or columns from your dataset you want to use for fitting.\n",
    "* **clusters** (*int*) - (3) The number of clusters to form as well as the number of centroids to generate.\n",
    "* **affinity** (*string*) - (\"rbf\") How to construct the affinity matrix. Values:  nearest_neighbors, rbf, precomputed, precomputed_nearest_neighbors.\n",
    "* **plots** (*list*) - (None) List of dictionaries with all plots you want to generate. Only 2D or 3D plots accepted. Format: [ { 'title': 'Plot 1', 'features': ['feat1', 'feat2'] } ].\n",
    "* **remove_tmp** (*bool*) - (True) [WF property] Remove temporal files.\n",
    "* **restart** (*bool*) - (False) [WF property] Do not execute if output files exist."
   ]
  },
  {
   "cell_type": "markdown",
   "metadata": {},
   "source": [
    "### YAML"
   ]
  },
  {
   "cell_type": "markdown",
   "metadata": {},
   "source": [
    "#### File config"
   ]
  },
  {
   "cell_type": "code",
   "execution_count": null,
   "metadata": {},
   "outputs": [],
   "source": [
    "properties:\n",
    "  predictors: ['sepal_length', 'sepal_width', 'petal_length', 'petal_width']\n",
    "  clusters: 3\n",
    "  affinity: 'nearest_neighbors'\n",
    "  plots: [\n",
    "    { \n",
    "      'title': 'Plot 1',\n",
    "      'features': ['sepal_length', 'sepal_width']\n",
    "    },\n",
    "    { \n",
    "      'title': 'Plot 2',\n",
    "      'features': ['petal_length', 'petal_width']\n",
    "    },\n",
    "    { \n",
    "      'title': 'Plot 3',\n",
    "      'features': ['sepal_length', 'sepal_width', 'petal_length']\n",
    "    },\n",
    "    { \n",
    "      'title': 'Plot 4',\n",
    "      'features': ['petal_length', 'petal_width', 'sepal_width']\n",
    "    },\n",
    "    { \n",
    "      'title': 'Plot 5',\n",
    "      'features': ['sepal_length', 'petal_width']\n",
    "    }\n",
    "  ]"
   ]
  },
  {
   "cell_type": "code",
   "execution_count": null,
   "metadata": {},
   "outputs": [],
   "source": [
    "spectral_clustering --conf data/conf/spectral_clustering.yml --input_dataset_path data/input/dataset_spectral_clustering.csv --output_results_path data/output/output_results_spectral_clustering.csv --output_plot_path data/output/output_plot_spectral_clustering.png"
   ]
  },
  {
   "cell_type": "markdown",
   "metadata": {},
   "source": [
    "### JSON"
   ]
  },
  {
   "cell_type": "markdown",
   "metadata": {},
   "source": [
    "#### File config"
   ]
  },
  {
   "cell_type": "code",
   "execution_count": null,
   "metadata": {},
   "outputs": [],
   "source": [
    "{\n",
    "    \"properties\": {\n",
    "        \"predictors\": [\"sepal_length\", \"sepal_width\", \"petal_length\", \"petal_width\"],\n",
    "        \"clusters\": 3,\n",
    "        \"affinity\": \"nearest_neighbors\",\n",
    "        \"plots\": [\n",
    "            { \n",
    "              \"title\": \"Plot 1\",\n",
    "              \"features\": [\"sepal_length\", \"sepal_width\"]\n",
    "            },\n",
    "            { \n",
    "              \"title\": \"Plot 2\",\n",
    "              \"features\": [\"petal_length\", \"petal_width\"]\n",
    "            },\n",
    "            { \n",
    "              \"title\": \"Plot 3\",\n",
    "              \"features\": [\"sepal_length\", \"sepal_width\", \"petal_length\"]\n",
    "            },\n",
    "            { \n",
    "              \"title\": \"Plot 4\",\n",
    "              \"features\": [\"petal_length\", \"petal_width\", \"sepal_width\"]\n",
    "            },\n",
    "            { \n",
    "              \"title\": \"Plot 5\",\n",
    "              \"features\": [\"sepal_length\", \"petal_width\"]\n",
    "            }\n",
    "        ]\n",
    "    }\n",
    "}"
   ]
  },
  {
   "cell_type": "code",
   "execution_count": null,
   "metadata": {},
   "outputs": [],
   "source": [
    "spectral_clustering --conf data/conf/spectral_clustering.json --input_dataset_path data/input/dataset_spectral_clustering.csv --output_results_path data/output/output_results_spectral_clustering.csv --output_plot_path data/output/output_plot_spectral_clustering.png"
   ]
  },
  {
   "cell_type": "markdown",
   "metadata": {},
   "source": [
    "## clustering_predict"
   ]
  },
  {
   "cell_type": "markdown",
   "metadata": {},
   "source": [
    "Makes predictions from a given model."
   ]
  },
  {
   "cell_type": "markdown",
   "metadata": {},
   "source": [
    "### Get help"
   ]
  },
  {
   "cell_type": "code",
   "execution_count": null,
   "metadata": {},
   "outputs": [],
   "source": [
    "clustering_predict -h"
   ]
  },
  {
   "cell_type": "code",
   "execution_count": null,
   "metadata": {},
   "outputs": [],
   "source": [
    "usage: clustering_predict [-h] [--config CONFIG] --input_model_path INPUT_MODEL_PATH --output_results_path OUTPUT_RESULTS_PATH\n",
    "\n",
    "Makes predictions from a given model.\n",
    "\n",
    "optional arguments:\n",
    "  -h, --help            show this help message and exit\n",
    "  --config CONFIG       Configuration file\n",
    "\n",
    "required arguments:\n",
    "  --input_model_path INPUT_MODEL_PATH\n",
    "                        Path to the input model. Accepted formats: pkl.\n",
    "  --output_results_path OUTPUT_RESULTS_PATH\n",
    "                        Path to the output results file. Accepted formats: csv."
   ]
  },
  {
   "cell_type": "markdown",
   "metadata": {},
   "source": [
    "### I / O Arguments"
   ]
  },
  {
   "cell_type": "markdown",
   "metadata": {},
   "source": [
    "Syntax: input_argument (datatype) : Definition\n",
    "\n",
    "Config input / output arguments for this building block:\n",
    "\n",
    "* **input_model_path** (*str*): Path to the input model.File type: input. [Sample file](https://github.com/bioexcel/biobb_ml/raw/master/biobb_ml/test/data/clustering/model_clustering_predict.pkl). Accepted formats: pkl.\n",
    "* **output_results_path** (*str*): Path to the output results file. File type: output. [Sample file](https://github.com/bioexcel/biobb_ml/raw/master/biobb_ml/test/reference/clustering/ref_output_results_clustering_predict.csv). Accepted formats: csv."
   ]
  },
  {
   "cell_type": "markdown",
   "metadata": {},
   "source": [
    "### Config"
   ]
  },
  {
   "cell_type": "markdown",
   "metadata": {},
   "source": [
    "Syntax: input_parameter (datatype) - (default_value) Definition\n",
    "\n",
    "\n",
    "Config parameters for this building block:\n",
    "\n",
    "* **predictions** (*list*) - (None) List of dictionaries with all values you want to predict targets.\n",
    "* **remove_tmp** (*bool*) - (True) [WF property] Remove temporal files.\n",
    "* **restart** (*bool*) - (False) [WF property] Do not execute if output files exist."
   ]
  },
  {
   "cell_type": "markdown",
   "metadata": {},
   "source": [
    "### YAML"
   ]
  },
  {
   "cell_type": "markdown",
   "metadata": {},
   "source": [
    "#### File config"
   ]
  },
  {
   "cell_type": "code",
   "execution_count": null,
   "metadata": {},
   "outputs": [],
   "source": [
    "properties:\n",
    "  predictions: [\n",
    "    { 'sepal_length': 5.1, 'sepal_width': 3.5, 'petal_length': 1.4, 'petal_width': 0.2 },\n",
    "    { 'sepal_length': 6.7, 'sepal_width': 3.0, 'petal_length': 5.2, 'petal_width': 2.3 },\n",
    "    { 'sepal_length': 6.3, 'sepal_width': 2.5, 'petal_length': 5.0, 'petal_width': 1.9 }\n",
    "  ]"
   ]
  },
  {
   "cell_type": "code",
   "execution_count": null,
   "metadata": {},
   "outputs": [],
   "source": [
    "clustering_predict --conf data/conf/clustering_predict.yml --input_model_path data/input/model_clustering_predict.pkl --output_results_path data/output/output_results_clustering_predict.csv"
   ]
  },
  {
   "cell_type": "markdown",
   "metadata": {},
   "source": [
    "### JSON"
   ]
  },
  {
   "cell_type": "markdown",
   "metadata": {},
   "source": [
    "#### File config"
   ]
  },
  {
   "cell_type": "code",
   "execution_count": null,
   "metadata": {},
   "outputs": [],
   "source": [
    "{\n",
    "    \"properties\": {\n",
    "        \"predictions\": [\n",
    "            { \"sepal_length\": 5.1, \"sepal_width\": 3.5, \"petal_length\": 1.4, \"petal_width\": 0.2 },\n",
    "            { \"sepal_length\": 6.7, \"sepal_width\": 3.0, \"petal_length\": 5.2, \"petal_width\": 2.3 },\n",
    "            { \"sepal_length\": 6.3, \"sepal_width\": 2.5, \"petal_length\": 5.0, \"petal_width\": 1.9 }\n",
    "        ]\n",
    "    }\n",
    "}"
   ]
  },
  {
   "cell_type": "code",
   "execution_count": null,
   "metadata": {
    "scrolled": true
   },
   "outputs": [],
   "source": [
    "clustering_predict --conf data/conf/clustering_predict.json --input_model_path data/input/model_clustering_predict.pkl --output_results_path data/output/output_results_clustering_predict.csv"
   ]
  }
 ],
 "metadata": {
  "kernelspec": {
   "display_name": "Python 3",
   "language": "python",
   "name": "python3"
  },
  "language_info": {
   "codemirror_mode": {
    "name": "ipython",
    "version": 3
   },
   "file_extension": ".py",
   "mimetype": "text/x-python",
   "name": "python",
   "nbconvert_exporter": "python",
   "pygments_lexer": "ipython3",
   "version": "3.7.6"
  }
 },
 "nbformat": 4,
 "nbformat_minor": 2
}
