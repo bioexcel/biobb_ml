{
 "cells": [
  {
   "cell_type": "markdown",
   "metadata": {},
   "source": [
    "# BioBB Machine Learning Command Line Help"
   ]
  },
  {
   "cell_type": "markdown",
   "metadata": {},
   "source": [
    "Generic usage:"
   ]
  },
  {
   "cell_type": "code",
   "execution_count": null,
   "metadata": {},
   "outputs": [],
   "source": [
    "biobb_command [-h] [-c CONFIG] --in_file <in_file>  --out_file <out_file>"
   ]
  },
  {
   "cell_type": "markdown",
   "metadata": {},
   "source": [
    "***"
   ]
  },
  {
   "cell_type": "markdown",
   "metadata": {},
   "source": [
    "## linear_regression"
   ]
  },
  {
   "cell_type": "markdown",
   "metadata": {},
   "source": [
    "Trains and tests a given dataset and saves the model and scaler for a linear regression."
   ]
  },
  {
   "cell_type": "markdown",
   "metadata": {},
   "source": [
    "### Get help"
   ]
  },
  {
   "cell_type": "code",
   "execution_count": null,
   "metadata": {},
   "outputs": [],
   "source": [
    "linear_regression -h"
   ]
  },
  {
   "cell_type": "code",
   "execution_count": null,
   "metadata": {},
   "outputs": [],
   "source": [
    "usage: linear_regression [-h] [--config CONFIG] --input_dataset_path INPUT_DATASET_PATH --output_model_path OUTPUT_MODEL_PATH [--output_test_table_path OUTPUT_TEST_TABLE_PATH] [--output_plot_path OUTPUT_PLOT_PATH]\n",
    "\n",
    "Trains and tests a given dataset and saves the model and scaler for a linear regression.\n",
    "\n",
    "optional arguments:\n",
    "  -h, --help            show this help message and exit\n",
    "  --config CONFIG       Configuration file\n",
    "  --output_test_table_path OUTPUT_TEST_TABLE_PATH\n",
    "                        Path to the test table file. Accepted formats: csv.\n",
    "  --output_plot_path OUTPUT_PLOT_PATH\n",
    "                        Residual plot checks the error between actual values and predicted values. Accepted formats: png.\n",
    "\n",
    "required arguments:\n",
    "  --input_dataset_path INPUT_DATASET_PATH\n",
    "                        Path to the input dataset. Accepted formats: csv.\n",
    "  --output_model_path OUTPUT_MODEL_PATH\n",
    "                        Path to the output model file. Accepted formats: pkl."
   ]
  },
  {
   "cell_type": "markdown",
   "metadata": {},
   "source": [
    "### I / O Arguments"
   ]
  },
  {
   "cell_type": "markdown",
   "metadata": {},
   "source": [
    "Syntax: input_argument (datatype) : Definition\n",
    "\n",
    "Config input / output arguments for this building block:\n",
    "\n",
    "* **input_dataset_path** (*str*): Path to the input dataset. File type: input. [Sample file](https://github.com/bioexcel/biobb_ml/raw/master/biobb_ml/test/data/regression/dataset_linear_regression.csv). Accepted formats: csv.\n",
    "* **output_model_path** (*str*): Path to the output model file. File type: output. [Sample file](https://github.com/bioexcel/biobb_ml/raw/master/biobb_ml/test/reference/regression/ref_output_model_linear_regression.pkl). Accepted formats: pkl.\n",
    "* **output_test_table_path** (*str*) (Optional): Path to the test table file. File type: output. [Sample file](https://github.com/bioexcel/biobb_ml/raw/master/biobb_ml/test/reference/regression/ref_output_test_linear_regression.csv). Accepted formats: csv.\n",
    "* **output_plot_path** (*str*) (Optional): Residual plot checks the error between actual values and predicted values. File type: output. [Sample file](https://github.com/bioexcel/biobb_ml/raw/master/biobb_ml/test/reference/regression/ref_output_plot_linear_regression.png). Accepted formats: png."
   ]
  },
  {
   "cell_type": "markdown",
   "metadata": {},
   "source": [
    "### Config"
   ]
  },
  {
   "cell_type": "markdown",
   "metadata": {},
   "source": [
    "Syntax: input_parameter (datatype) - (default_value) Definition\n",
    "\n",
    "\n",
    "Config parameters for this building block:\n",
    "\n",
    "* **independent_vars** (*list*) - (None) Independent variables or columns from your dataset you want to train.\n",
    "* **target** (*string*) - (None) Dependent variable or column from your dataset you want to predict.\n",
    "* **test_size** (*float*) - (0.2) Represents the proportion of the dataset to include in the test split. It should be between 0.0 and 1.0.\n",
    "* **remove_tmp** (*bool*) - (True) [WF property] Remove temporal files.\n",
    "* **restart** (*bool*) - (False) [WF property] Do not execute if output files exist."
   ]
  },
  {
   "cell_type": "markdown",
   "metadata": {},
   "source": [
    "### YAML"
   ]
  },
  {
   "cell_type": "markdown",
   "metadata": {},
   "source": [
    "#### File config"
   ]
  },
  {
   "cell_type": "code",
   "execution_count": null,
   "metadata": {},
   "outputs": [],
   "source": [
    "properties:\n",
    "  independent_vars: ['size', 'year', 'view']\n",
    "  target: 'price'\n",
    "  test_size: 0.2"
   ]
  },
  {
   "cell_type": "code",
   "execution_count": null,
   "metadata": {},
   "outputs": [],
   "source": [
    "linear_regression --conf data/conf/linear_regression.yml --input_dataset_path data/input/dataset_linear_regression.csv --output_model_path data/output/output_model_linear_regression.pkl --output_test_table_path data/output/output_test_linear_regression.csv --output_plot_path data/output/output_plot_linear_regression.png"
   ]
  },
  {
   "cell_type": "markdown",
   "metadata": {},
   "source": [
    "### JSON"
   ]
  },
  {
   "cell_type": "markdown",
   "metadata": {},
   "source": [
    "#### File config"
   ]
  },
  {
   "cell_type": "code",
   "execution_count": null,
   "metadata": {},
   "outputs": [],
   "source": [
    "{\n",
    "    \"properties\": {\n",
    "        \"independent_vars\": [\"size\", \"year\", \"view\"],\n",
    "        \"target\": \"price\",\n",
    "        \"test_size\": 0.2\n",
    "    }\n",
    "}"
   ]
  },
  {
   "cell_type": "code",
   "execution_count": null,
   "metadata": {},
   "outputs": [],
   "source": [
    "linear_regression --conf data/conf/linear_regression.json --input_dataset_path data/input/dataset_linear_regression.csv --output_model_path data/output/output_model_linear_regression.pkl --output_test_table_path data/output/output_test_linear_regression.csv --output_plot_path data/output/output_plot_linear_regression.png"
   ]
  },
  {
   "cell_type": "markdown",
   "metadata": {},
   "source": [
    "## polynomial_regression"
   ]
  },
  {
   "cell_type": "markdown",
   "metadata": {},
   "source": [
    "Trains and tests a given dataset and saves the model and scaler for a polynomial regression."
   ]
  },
  {
   "cell_type": "markdown",
   "metadata": {},
   "source": [
    "### Get help"
   ]
  },
  {
   "cell_type": "code",
   "execution_count": null,
   "metadata": {},
   "outputs": [],
   "source": [
    "polynomial_regression -h"
   ]
  },
  {
   "cell_type": "code",
   "execution_count": null,
   "metadata": {},
   "outputs": [],
   "source": [
    "usage: polynomial_regression [-h] [--config CONFIG] --input_dataset_path INPUT_DATASET_PATH --output_model_path OUTPUT_MODEL_PATH [--output_test_table_path OUTPUT_TEST_TABLE_PATH] [--output_plot_path OUTPUT_PLOT_PATH]\n",
    "\n",
    "Trains and tests a given dataset and saves the model and scaler for a polynomial regression.\n",
    "\n",
    "optional arguments:\n",
    "  -h, --help            show this help message and exit\n",
    "  --config CONFIG       Configuration file\n",
    "  --output_test_table_path OUTPUT_TEST_TABLE_PATH\n",
    "                        Path to the test table file. Accepted formats: csv.\n",
    "  --output_plot_path OUTPUT_PLOT_PATH\n",
    "                        Residual plot checks the error between actual values and predicted values. Accepted formats: png.\n",
    "\n",
    "required arguments:\n",
    "  --input_dataset_path INPUT_DATASET_PATH\n",
    "                        Path to the input dataset. Accepted formats: csv.\n",
    "  --output_model_path OUTPUT_MODEL_PATH\n",
    "                        Path to the output model file. Accepted formats: pkl."
   ]
  },
  {
   "cell_type": "markdown",
   "metadata": {},
   "source": [
    "### I / O Arguments"
   ]
  },
  {
   "cell_type": "markdown",
   "metadata": {},
   "source": [
    "Syntax: input_argument (datatype) : Definition\n",
    "\n",
    "Config input / output arguments for this building block:\n",
    "\n",
    "* **input_dataset_path** (*str*): Path to the input dataset. File type: input. [Sample file](https://github.com/bioexcel/biobb_ml/raw/master/biobb_ml/test/data/regression/dataset_polynomial_regression.csv). Accepted formats: csv.\n",
    "* **output_model_path** (*str*): Path to the output model file. File type: output. [Sample file](https://github.com/bioexcel/biobb_ml/raw/master/biobb_ml/test/reference/regression/ref_output_model_polynomial_regression.pkl). Accepted formats: pkl.\n",
    "* **output_test_table_path** (*str*) (Optional): Path to the test table file. File type: output. [Sample file](https://github.com/bioexcel/biobb_ml/raw/master/biobb_ml/test/reference/regression/ref_output_test_polynomial_regression.csv). Accepted formats: csv.\n",
    "* **output_plot_path** (*str*) (Optional): Residual plot checks the error between actual values and predicted values. File type: output. [Sample file](https://github.com/bioexcel/biobb_ml/raw/master/biobb_ml/test/reference/regression/ref_output_plot_polynomial_regression.png). Accepted formats: png."
   ]
  },
  {
   "cell_type": "markdown",
   "metadata": {},
   "source": [
    "### Config"
   ]
  },
  {
   "cell_type": "markdown",
   "metadata": {},
   "source": [
    "Syntax: input_parameter (datatype) - (default_value) Definition\n",
    "\n",
    "\n",
    "Config parameters for this building block:\n",
    "\n",
    "* **independent_vars** (*list*) - (None) Independent variables or columns from your dataset you want to train.\n",
    "* **degree** (*int*) - (2) Polynomial degree.\n",
    "* **target** (*string*) - (None) Dependent variable or column from your dataset you want to predict.\n",
    "* **test_size** (*float*) - (0.2) Represents the proportion of the dataset to include in the test split. It should be between 0.0 and 1.0.\n",
    "* **remove_tmp** (*bool*) - (True) [WF property] Remove temporal files.\n",
    "* **restart** (*bool*) - (False) [WF property] Do not execute if output files exist."
   ]
  },
  {
   "cell_type": "markdown",
   "metadata": {},
   "source": [
    "### YAML"
   ]
  },
  {
   "cell_type": "markdown",
   "metadata": {},
   "source": [
    "#### File config"
   ]
  },
  {
   "cell_type": "code",
   "execution_count": null,
   "metadata": {},
   "outputs": [],
   "source": [
    "properties:\n",
    "  independent_vars: ['LSTAT','RM']\n",
    "  target: 'MEDV'\n",
    "  degree: 2\n",
    "  test_size: 0.2"
   ]
  },
  {
   "cell_type": "code",
   "execution_count": null,
   "metadata": {},
   "outputs": [],
   "source": [
    "polynomial_regression --conf data/conf/polynomial_regression.yml --input_dataset_path data/input/dataset_polynomial_regression.csv --output_model_path data/output/output_model_polynomial_regression.pkl --output_test_table_path data/output/output_test_polynomial_regression.csv --output_plot_path data/output/output_plot_polynomial_regression.png"
   ]
  },
  {
   "cell_type": "markdown",
   "metadata": {},
   "source": [
    "### JSON"
   ]
  },
  {
   "cell_type": "markdown",
   "metadata": {},
   "source": [
    "#### File config"
   ]
  },
  {
   "cell_type": "code",
   "execution_count": null,
   "metadata": {},
   "outputs": [],
   "source": [
    "{\n",
    "    \"properties\": {\n",
    "        \"independent_vars\": [\"LSTAT\", \"RM\"],\n",
    "        \"target\": \"MEDV\",\n",
    "        \"degree\": 2,\n",
    "        \"test_size\": 0.2\n",
    "    }\n",
    "}"
   ]
  },
  {
   "cell_type": "code",
   "execution_count": null,
   "metadata": {},
   "outputs": [],
   "source": [
    "polynomial_regression --conf data/conf/polynomial_regression.json --input_dataset_path data/input/dataset_polynomial_regression.csv --output_model_path data/output/output_model_polynomial_regression.pkl --output_test_table_path data/output/output_test_polynomial_regression.csv --output_plot_path data/output/output_plot_polynomial_regression.png"
   ]
  },
  {
   "cell_type": "markdown",
   "metadata": {},
   "source": [
    "## random_forest_regressor"
   ]
  },
  {
   "cell_type": "markdown",
   "metadata": {},
   "source": [
    "Trains and tests a given dataset and saves the model and scaler for a random forest regressor."
   ]
  },
  {
   "cell_type": "markdown",
   "metadata": {},
   "source": [
    "### Get help"
   ]
  },
  {
   "cell_type": "code",
   "execution_count": null,
   "metadata": {},
   "outputs": [],
   "source": [
    "random_forest_regressor -h"
   ]
  },
  {
   "cell_type": "code",
   "execution_count": null,
   "metadata": {},
   "outputs": [],
   "source": [
    "usage: random_forest_regressor [-h] [--config CONFIG] --input_dataset_path INPUT_DATASET_PATH --output_model_path OUTPUT_MODEL_PATH [--output_test_table_path OUTPUT_TEST_TABLE_PATH] [--output_plot_path OUTPUT_PLOT_PATH]\n",
    "\n",
    "Trains and tests a given dataset and saves the model and scaler for a random forest regressor.\n",
    "\n",
    "optional arguments:\n",
    "  -h, --help            show this help message and exit\n",
    "  --config CONFIG       Configuration file\n",
    "  --output_test_table_path OUTPUT_TEST_TABLE_PATH\n",
    "                        Path to the test table file. Accepted formats: csv.\n",
    "  --output_plot_path OUTPUT_PLOT_PATH\n",
    "                        Residual plot checks the error between actual values and predicted values. Accepted formats: png.\n",
    "\n",
    "required arguments:\n",
    "  --input_dataset_path INPUT_DATASET_PATH\n",
    "                        Path to the input dataset. Accepted formats: csv.\n",
    "  --output_model_path OUTPUT_MODEL_PATH\n",
    "                        Path to the output model file. Accepted formats: pkl."
   ]
  },
  {
   "cell_type": "markdown",
   "metadata": {},
   "source": [
    "### I / O Arguments"
   ]
  },
  {
   "cell_type": "markdown",
   "metadata": {},
   "source": [
    "Syntax: input_argument (datatype) : Definition\n",
    "\n",
    "Config input / output arguments for this building block:\n",
    "\n",
    "* **input_dataset_path** (*str*): Path to the input dataset. File type: input. [Sample file](https://github.com/bioexcel/biobb_ml/raw/master/biobb_ml/test/data/regression/dataset_random_forest_regressor.csv). Accepted formats: csv.\n",
    "* **output_model_path** (*str*): Path to the output model file. File type: output. [Sample file](https://github.com/bioexcel/biobb_ml/raw/master/biobb_ml/test/reference/regression/ref_output_model_random_forest_regressor.pkl). Accepted formats: pkl.\n",
    "* **output_test_table_path** (*str*) (Optional): Path to the test table file. File type: output. [Sample file](https://github.com/bioexcel/biobb_ml/raw/master/biobb_ml/test/reference/regression/ref_output_test_random_forest_regressor.csv). Accepted formats: csv.\n",
    "* **output_plot_path** (*str*) (Optional): Residual plot checks the error between actual values and predicted values. File type: output. [Sample file](https://github.com/bioexcel/biobb_ml/raw/master/biobb_ml/test/reference/regression/ref_output_plot_random_forest_regressor.png). Accepted formats: png."
   ]
  },
  {
   "cell_type": "markdown",
   "metadata": {},
   "source": [
    "### Config"
   ]
  },
  {
   "cell_type": "markdown",
   "metadata": {},
   "source": [
    "Syntax: input_parameter (datatype) - (default_value) Definition\n",
    "\n",
    "\n",
    "Config parameters for this building block:\n",
    "\n",
    "* **independent_vars** (*list*) - (None) Independent variables or columns from your dataset you want to train.\n",
    "* **target** (*string*) - (None) Dependent variable or column from your dataset you want to predict.\n",
    "* **n_estimators** (*int*) - (10) The number of trees in the forest.\n",
    "* **max_depth** (*int*) - (5) The maximum depth of the tree.\n",
    "* **test_size** (*float*) - (0.2) Represents the proportion of the dataset to include in the test split. It should be between 0.0 and 1.0.\n",
    "* **remove_tmp** (*bool*) - (True) [WF property] Remove temporal files.\n",
    "* **restart** (*bool*) - (False) [WF property] Do not execute if output files exist."
   ]
  },
  {
   "cell_type": "markdown",
   "metadata": {},
   "source": [
    "### YAML"
   ]
  },
  {
   "cell_type": "markdown",
   "metadata": {},
   "source": [
    "#### File config"
   ]
  },
  {
   "cell_type": "code",
   "execution_count": null,
   "metadata": {},
   "outputs": [],
   "source": [
    "properties:\n",
    "  independent_vars: ['LSTAT','RM']\n",
    "  target: 'MEDV'\n",
    "  n_estimators: 10\n",
    "  max_depth: 5\n",
    "  test_size: 0.2"
   ]
  },
  {
   "cell_type": "code",
   "execution_count": null,
   "metadata": {},
   "outputs": [],
   "source": [
    "random_forest_regressor --conf data/conf/random_forest_regressor.yml --input_dataset_path data/input/dataset_random_forest_regressor.csv --output_model_path data/output/output_model_random_forest_regressor.pkl --output_test_table_path data/output/output_test_random_forest_regressor.csv --output_plot_path data/output/output_plot_random_forest_regressor.png"
   ]
  },
  {
   "cell_type": "markdown",
   "metadata": {},
   "source": [
    "### JSON"
   ]
  },
  {
   "cell_type": "markdown",
   "metadata": {},
   "source": [
    "#### File config"
   ]
  },
  {
   "cell_type": "code",
   "execution_count": null,
   "metadata": {},
   "outputs": [],
   "source": [
    "{\n",
    "    \"properties\": {\n",
    "        \"independent_vars\": [\"LSTAT\", \"RM\"],\n",
    "        \"target\": \"MEDV\",\n",
    "        \"n_estimators\": 10,\n",
    "        \"max_depth\": 5,\n",
    "        \"test_size\": 0.2\n",
    "    }\n",
    "}"
   ]
  },
  {
   "cell_type": "code",
   "execution_count": null,
   "metadata": {},
   "outputs": [],
   "source": [
    "random_forest_regressor --conf data/conf/random_forest_regressor.json --input_dataset_path data/input/dataset_random_forest_regressor.csv --output_model_path data/output/output_model_random_forest_regressor.pkl --output_test_table_path data/output/output_test_random_forest_regressor.csv --output_plot_path data/output/output_plot_random_forest_regressor.png"
   ]
  },
  {
   "cell_type": "markdown",
   "metadata": {},
   "source": [
    "## regression_predict"
   ]
  },
  {
   "cell_type": "markdown",
   "metadata": {},
   "source": [
    "Makes predictions from a given model."
   ]
  },
  {
   "cell_type": "markdown",
   "metadata": {},
   "source": [
    "### Get help"
   ]
  },
  {
   "cell_type": "code",
   "execution_count": null,
   "metadata": {},
   "outputs": [],
   "source": [
    "regression_predict -h"
   ]
  },
  {
   "cell_type": "code",
   "execution_count": null,
   "metadata": {},
   "outputs": [],
   "source": [
    "usage: regression_predict [-h] [--config CONFIG] --input_model_path INPUT_MODEL_PATH --output_results_path OUTPUT_RESULTS_PATH\n",
    "\n",
    "Makes predictions from a given model.\n",
    "\n",
    "optional arguments:\n",
    "  -h, --help            show this help message and exit\n",
    "  --config CONFIG       Configuration file\n",
    "\n",
    "required arguments:\n",
    "  --input_model_path INPUT_MODEL_PATH\n",
    "                        Path to the input model. Accepted formats: pkl.\n",
    "  --output_results_path OUTPUT_RESULTS_PATH\n",
    "                        Path to the output results file. Accepted formats: csv."
   ]
  },
  {
   "cell_type": "markdown",
   "metadata": {},
   "source": [
    "### I / O Arguments"
   ]
  },
  {
   "cell_type": "markdown",
   "metadata": {},
   "source": [
    "Syntax: input_argument (datatype) : Definition\n",
    "\n",
    "Config input / output arguments for this building block:\n",
    "\n",
    "* **input_model_path** (*str*): Path to the input model. File type: input. [Sample file](https://github.com/bioexcel/biobb_ml/raw/master/biobb_ml/test/data/regression/model_regression_predict.pkl). Accepted formats: pkl.\n",
    "* **output_results_path** (*str*) (Optional): Path to the output results file. File type: output. [Sample file](https://github.com/bioexcel/biobb_ml/raw/master/biobb_ml/test/reference/regression/ref_output_regression_predict.csv). Accepted formats: csv."
   ]
  },
  {
   "cell_type": "markdown",
   "metadata": {},
   "source": [
    "### Config"
   ]
  },
  {
   "cell_type": "markdown",
   "metadata": {},
   "source": [
    "Syntax: input_parameter (datatype) - (default_value) Definition\n",
    "\n",
    "\n",
    "Config parameters for this building block:\n",
    "\n",
    "* **predictions** (*list*) - (None) List of dictionaries with all values you want to predict targets.\n",
    "* **remove_tmp** (*bool*) - (True) [WF property] Remove temporal files.\n",
    "* **restart** (*bool*) - (False) [WF property] Do not execute if output files exist."
   ]
  },
  {
   "cell_type": "markdown",
   "metadata": {},
   "source": [
    "### YAML"
   ]
  },
  {
   "cell_type": "markdown",
   "metadata": {},
   "source": [
    "#### File config"
   ]
  },
  {
   "cell_type": "code",
   "execution_count": null,
   "metadata": {},
   "outputs": [],
   "source": [
    "properties:\n",
    "  predictions: [ \n",
    "    { 'LSTAT': 4.98, 'RM': 6.575 }, \n",
    "    { 'LSTAT': 9.14, 'RM': 6.421 }\n",
    "  ]"
   ]
  },
  {
   "cell_type": "code",
   "execution_count": null,
   "metadata": {},
   "outputs": [],
   "source": [
    "regression_predict --conf data/conf/regression_predict.yml --input_model_path data/input/model_regression_predict.pkl --output_results_path data/output/output_regression_predict.csv"
   ]
  },
  {
   "cell_type": "markdown",
   "metadata": {},
   "source": [
    "### JSON"
   ]
  },
  {
   "cell_type": "markdown",
   "metadata": {},
   "source": [
    "#### File config"
   ]
  },
  {
   "cell_type": "code",
   "execution_count": null,
   "metadata": {},
   "outputs": [],
   "source": [
    "{\n",
    "    \"properties\": {\n",
    "        \"predictions\": [ \n",
    "            { \"LSTAT\": 4.98, \"RM\": 6.575 }, \n",
    "            { \"LSTAT\": 9.14, \"RM\": 6.421 }\n",
    "        ]\n",
    "    }\n",
    "}"
   ]
  },
  {
   "cell_type": "code",
   "execution_count": null,
   "metadata": {},
   "outputs": [],
   "source": [
    "regression_predict --conf data/conf/regression_predict.json --input_model_path data/input/model_regression_predict.pkl --output_results_path data/output/output_regression_predict.csv"
   ]
  },
  {
   "cell_type": "markdown",
   "metadata": {},
   "source": [
    "## decision_tree"
   ]
  },
  {
   "cell_type": "markdown",
   "metadata": {},
   "source": [
    "Trains and tests a given dataset and saves the model and scaler for a decision tree classification."
   ]
  },
  {
   "cell_type": "markdown",
   "metadata": {},
   "source": [
    "### Get help"
   ]
  },
  {
   "cell_type": "code",
   "execution_count": null,
   "metadata": {},
   "outputs": [],
   "source": [
    "decision_tree -h"
   ]
  },
  {
   "cell_type": "code",
   "execution_count": null,
   "metadata": {},
   "outputs": [],
   "source": [
    "usage: decision_tree [-h] [--config CONFIG] --input_dataset_path INPUT_DATASET_PATH --output_model_path OUTPUT_MODEL_PATH [--output_test_table_path OUTPUT_TEST_TABLE_PATH] [--output_plot_path OUTPUT_PLOT_PATH]\n",
    "\n",
    "Trains and tests a given dataset and saves the model and scaler for a decision tree classification.\n",
    "\n",
    "optional arguments:\n",
    "  -h, --help            show this help message and exit\n",
    "  --config CONFIG       Configuration file\n",
    "  --output_test_table_path OUTPUT_TEST_TABLE_PATH\n",
    "                        Path to the test table file. Accepted formats: csv.\n",
    "  --output_plot_path OUTPUT_PLOT_PATH\n",
    "                        Path to the statistics plot. If target is binary it shows confusion matrix, distributions of the predicted probabilities of both classes and ROC curve. If target is non-binary it shows confusion matrix. Accepted formats: png.\n",
    "\n",
    "required arguments:\n",
    "  --input_dataset_path INPUT_DATASET_PATH\n",
    "                        Path to the input dataset. Accepted formats: csv.\n",
    "  --output_model_path OUTPUT_MODEL_PATH\n",
    "                        Path to the output model file. Accepted formats: pkl."
   ]
  },
  {
   "cell_type": "markdown",
   "metadata": {},
   "source": [
    "### I / O Arguments"
   ]
  },
  {
   "cell_type": "markdown",
   "metadata": {},
   "source": [
    "Syntax: input_argument (datatype) : Definition\n",
    "\n",
    "Config input / output arguments for this building block:\n",
    "\n",
    "* **input_dataset_path** (*str*): Path to the input dataset. File type: input. [Sample file](https://github.com/bioexcel/biobb_ml/raw/master/biobb_ml/test/data/classification/dataset_decision_tree.csv). Accepted formats: csv.\n",
    "* **output_model_path** (*str*): Path to the output model file. File type: output. [Sample file](https://github.com/bioexcel/biobb_ml/raw/master/biobb_ml/test/reference/classification/ref_output_model_decision_tree.pkl). Accepted formats: pkl.\n",
    "* **output_test_table_path** (*str*) (Optional): Path to the test table file. File type: output. [Sample file](https://github.com/bioexcel/biobb_ml/raw/master/biobb_ml/test/reference/classification/ref_output_test_decision_tree.csv). Accepted formats: csv.\n",
    "* **output_plot_path** (*str*) (Optional): Path to the statistics plot. If target is binary it shows confusion matrix, distributions of the predicted probabilities of both classes and ROC curve. If target is non-binary it shows confusion matrix. File type: output. [Sample file](https://github.com/bioexcel/biobb_ml/raw/master/biobb_ml/test/reference/classification/ref_output_plot_decision_tree.png). Accepted formats: png."
   ]
  },
  {
   "cell_type": "markdown",
   "metadata": {},
   "source": [
    "### Config"
   ]
  },
  {
   "cell_type": "markdown",
   "metadata": {},
   "source": [
    "Syntax: input_parameter (datatype) - (default_value) Definition\n",
    "\n",
    "\n",
    "Config parameters for this building block:\n",
    "\n",
    "* **independent_vars** (*list*) - (None) Independent variables or columns from your dataset you want to train.\n",
    "* **target** (*string*) - (None) Dependent variable or column from your dataset you want to predict.\n",
    "* **criterion** (*string*) - (\"gini\") The function to measure the quality of a split. Supported criteria are \"gini\" for the Gini impurity and \"entropy\" for the information gain. Values: gini, entropy.\n",
    "* **max_depth** (*int*) - (4) The maximum depth of the model. If None, then nodes are expanded until all leaves are pure or until all leaves contain less than min_samples_split samples.\n",
    "* **normalize_cm** (*bool*) - (False) Whether or not to normalize the confusion matrix.\n",
    "* **test_size** (*float*) - (0.2) Represents the proportion of the dataset to include in the test split. It should be between 0.0 and 1.0.\n",
    "* **remove_tmp** (*bool*) - (True) [WF property] Remove temporal files.\n",
    "* **restart** (*bool*) - (False) [WF property] Do not execute if output files exist."
   ]
  },
  {
   "cell_type": "markdown",
   "metadata": {},
   "source": [
    "### YAML"
   ]
  },
  {
   "cell_type": "markdown",
   "metadata": {},
   "source": [
    "#### File config"
   ]
  },
  {
   "cell_type": "code",
   "execution_count": null,
   "metadata": {},
   "outputs": [],
   "source": [
    "properties:\n",
    "  independent_vars: ['duration', 'interest_rate', 'march', 'credit', 'previous']\n",
    "  target: 'y'\n",
    "  criterion: 'entropy'\n",
    "  max_depth: 4\n",
    "  normalize_cm: false\n",
    "  test_size: 0.2"
   ]
  },
  {
   "cell_type": "code",
   "execution_count": null,
   "metadata": {},
   "outputs": [],
   "source": [
    "decision_tree --conf data/conf/decision_tree.yml --input_dataset_path data/input/dataset_decision_tree.csv --output_model_path data/output/output_model_decision_tree.pkl --output_test_table_path data/output/output_test_decision_tree.csv --output_plot_path data/output/output_plot_decision_tree.png"
   ]
  },
  {
   "cell_type": "markdown",
   "metadata": {},
   "source": [
    "### JSON"
   ]
  },
  {
   "cell_type": "markdown",
   "metadata": {},
   "source": [
    "#### File config"
   ]
  },
  {
   "cell_type": "code",
   "execution_count": null,
   "metadata": {},
   "outputs": [],
   "source": [
    "{\n",
    "    \"properties\": {\n",
    "        \"independent_vars\": [\"duration\", \"interest_rate\", \"march\", \"credit\", \"previous\"],\n",
    "        \"target\": \"y\",\n",
    "        \"criterion\": \"entropy\",\n",
    "        \"max_depth\": 4,\n",
    "        \"normalize_cm\": false,\n",
    "        \"test_size\": 0.2\n",
    "    }\n",
    "}"
   ]
  },
  {
   "cell_type": "code",
   "execution_count": null,
   "metadata": {},
   "outputs": [],
   "source": [
    "decision_tree --conf data/conf/decision_tree.json --input_dataset_path data/input/dataset_decision_tree.csv --output_model_path data/output/output_model_decision_tree.pkl --output_test_table_path data/output/output_test_decision_tree.csv --output_plot_path data/output/output_plot_decision_tree.png"
   ]
  },
  {
   "cell_type": "markdown",
   "metadata": {},
   "source": [
    "## k_neighbors_coefficient"
   ]
  },
  {
   "cell_type": "markdown",
   "metadata": {},
   "source": [
    "Trains and tests a given dataset and calculates best K coefficient for a k-nearest neighbors classification."
   ]
  },
  {
   "cell_type": "markdown",
   "metadata": {},
   "source": [
    "### Get help"
   ]
  },
  {
   "cell_type": "code",
   "execution_count": null,
   "metadata": {},
   "outputs": [],
   "source": [
    "k_neighbors_coefficient -h"
   ]
  },
  {
   "cell_type": "code",
   "execution_count": null,
   "metadata": {},
   "outputs": [],
   "source": [
    "usage: k_neighbors_coefficient [-h] [--config CONFIG] --input_dataset_path INPUT_DATASET_PATH --output_results_path OUTPUT_RESULTS_PATH [--output_plot_path OUTPUT_PLOT_PATH]\n",
    "\n",
    "Trains and tests a given dataset and calculates best K coefficient for a k-nearest neighbors classification.\n",
    "\n",
    "optional arguments:\n",
    "  -h, --help            show this help message and exit\n",
    "  --config CONFIG       Configuration file\n",
    "  --output_plot_path OUTPUT_PLOT_PATH\n",
    "                        Path to the accuracy plot. Accepted formats: png.\n",
    "\n",
    "required arguments:\n",
    "  --input_dataset_path INPUT_DATASET_PATH\n",
    "                        Path to the input dataset. Accepted formats: csv.\n",
    "  --output_results_path OUTPUT_RESULTS_PATH\n",
    "                        Path to the accuracy values list. Accepted formats: csv."
   ]
  },
  {
   "cell_type": "markdown",
   "metadata": {},
   "source": [
    "### I / O Arguments"
   ]
  },
  {
   "cell_type": "markdown",
   "metadata": {},
   "source": [
    "Syntax: input_argument (datatype) : Definition\n",
    "\n",
    "Config input / output arguments for this building block:\n",
    "\n",
    "* **input_dataset_path** (*str*): Path to the input dataset. File type: input. [Sample file](https://github.com/bioexcel/biobb_ml/raw/master/biobb_ml/test/data/classification/dataset_k_neighbors_coefficient.csv). Accepted formats: csv.\n",
    "* **output_results_path** (*str*) (Optional): Path to the accuracy values list. File type: output. [Sample file](https://github.com/bioexcel/biobb_ml/raw/master/biobb_ml/test/reference/classification/ref_output_test_k_neighbors_coefficient.csv). Accepted formats: csv.\n",
    "* **output_plot_path** (*str*) (Optional): Path to the accuracy plot. File type: output. [Sample file](https://github.com/bioexcel/biobb_ml/raw/master/biobb_ml/test/reference/classification/ref_output_plot_k_neighbors_coefficient.png). Accepted formats: png."
   ]
  },
  {
   "cell_type": "markdown",
   "metadata": {},
   "source": [
    "### Config"
   ]
  },
  {
   "cell_type": "markdown",
   "metadata": {},
   "source": [
    "Syntax: input_parameter (datatype) - (default_value) Definition\n",
    "\n",
    "\n",
    "Config parameters for this building block:\n",
    "\n",
    "* **independent_vars** (*list*) - (None) Independent variables or columns from your dataset you want to train.\n",
    "* **target** (*string*) - (None) Dependent variable or column from your dataset you want to predict.\n",
    "* **metric** (*string*) - (\"minkowski\") The distance metric to use for the tree. Values: euclidean, manhattan, chebyshev, minkowski, wminkowski, seuclidean, mahalanobi.\n",
    "* **max_neighbors** (*int*) - (6) Maximum number of neighbors to use by default for kneighbors queries.\n",
    "* **test_size** (*float*) - (0.2) Represents the proportion of the dataset to include in the test split. It should be between 0.0 and 1.0.\n",
    "* **remove_tmp** (*bool*) - (True) [WF property] Remove temporal files.\n",
    "* **restart** (*bool*) - (False) [WF property] Do not execute if output files exist."
   ]
  },
  {
   "cell_type": "markdown",
   "metadata": {},
   "source": [
    "### YAML"
   ]
  },
  {
   "cell_type": "markdown",
   "metadata": {},
   "source": [
    "#### File config"
   ]
  },
  {
   "cell_type": "code",
   "execution_count": null,
   "metadata": {},
   "outputs": [],
   "source": [
    "properties:\n",
    "  independent_vars: ['region', 'tenure','age', 'marital', 'address', 'income', 'ed', 'employ','retire', 'gender', 'reside']\n",
    "  target: 'custcat'\n",
    "  metric: 'minkowski'\n",
    "  max_neighbors: 15\n",
    "  test_size: 0.2"
   ]
  },
  {
   "cell_type": "code",
   "execution_count": null,
   "metadata": {},
   "outputs": [],
   "source": [
    "k_neighbors_coefficient --conf data/conf/k_neighbors_coefficients.yml --input_dataset_path data/input/dataset_k_neighbors_coefficient.csv --output_results_path data/output/output_test_k_neighbors_coefficient.csv --output_plot_path data/output/output_plot_k_neighbors_coefficient.png"
   ]
  },
  {
   "cell_type": "markdown",
   "metadata": {},
   "source": [
    "### JSON"
   ]
  },
  {
   "cell_type": "markdown",
   "metadata": {},
   "source": [
    "#### File config"
   ]
  },
  {
   "cell_type": "code",
   "execution_count": null,
   "metadata": {},
   "outputs": [],
   "source": [
    "{\n",
    "    \"properties\": {\n",
    "        \"independent_vars\": [\"region\", \"tenure\", \"age\", \"marital\", \"address\", \"income\", \"ed\", \"employ\", \"retire\", \"gender\", \"reside\"],\n",
    "        \"target\": \"custcat\",\n",
    "        \"metric\": \"minkowski\",\n",
    "        \"max_neighbors\": 15,\n",
    "        \"test_size\": 0.2\n",
    "    }\n",
    "}"
   ]
  },
  {
   "cell_type": "code",
   "execution_count": null,
   "metadata": {},
   "outputs": [],
   "source": [
    "k_neighbors_coefficient --conf data/conf/k_neighbors_coefficients.json --input_dataset_path data/input/dataset_k_neighbors_coefficient.csv --output_results_path data/output/output_test_k_neighbors_coefficient.csv --output_plot_path data/output/output_plot_k_neighbors_coefficient.png"
   ]
  },
  {
   "cell_type": "markdown",
   "metadata": {},
   "source": [
    "## k_neighbors"
   ]
  },
  {
   "cell_type": "markdown",
   "metadata": {},
   "source": [
    "Trains and tests a given dataset and saves the model and scaler for a k-nearest neighbors classification."
   ]
  },
  {
   "cell_type": "markdown",
   "metadata": {},
   "source": [
    "### Get help"
   ]
  },
  {
   "cell_type": "code",
   "execution_count": null,
   "metadata": {},
   "outputs": [],
   "source": [
    "k_neighbors -h"
   ]
  },
  {
   "cell_type": "code",
   "execution_count": null,
   "metadata": {},
   "outputs": [],
   "source": [
    "usage: k_neighbors [-h] [--config CONFIG] --input_dataset_path INPUT_DATASET_PATH --output_model_path OUTPUT_MODEL_PATH [--output_test_table_path OUTPUT_TEST_TABLE_PATH] [--output_plot_path OUTPUT_PLOT_PATH]\n",
    "\n",
    "Trains and tests a given dataset and saves the model and scaler for a k-nearest neighbors classification.\n",
    "\n",
    "optional arguments:\n",
    "  -h, --help            show this help message and exit\n",
    "  --config CONFIG       Configuration file\n",
    "  --output_test_table_path OUTPUT_TEST_TABLE_PATH\n",
    "                        Path to the test table file. Accepted formats: csv.\n",
    "  --output_plot_path OUTPUT_PLOT_PATH\n",
    "                        Path to the statistics plot. If target is binary it shows confusion matrix, distributions of the predicted probabilities of both classes and ROC curve. If target is non-binary it shows confusion matrix. Accepted formats: png.\n",
    "\n",
    "required arguments:\n",
    "  --input_dataset_path INPUT_DATASET_PATH\n",
    "                        Path to the input dataset. Accepted formats: csv.\n",
    "  --output_model_path OUTPUT_MODEL_PATH\n",
    "                        Path to the output model file. Accepted formats: pkl."
   ]
  },
  {
   "cell_type": "markdown",
   "metadata": {},
   "source": [
    "### I / O Arguments"
   ]
  },
  {
   "cell_type": "markdown",
   "metadata": {},
   "source": [
    "Syntax: input_argument (datatype) : Definition\n",
    "\n",
    "Config input / output arguments for this building block:\n",
    "\n",
    "* **input_dataset_path** (*str*): Path to the input dataset. File type: input. [Sample file](https://github.com/bioexcel/biobb_ml/raw/master/biobb_ml/test/data/classification/dataset_k_neighbors.csv). Accepted formats: csv.\n",
    "* **output_model_path** (*str*): Path to the output model file. File type: output. [Sample file](https://github.com/bioexcel/biobb_ml/raw/master/biobb_ml/test/reference/classification/ref_output_model_k_neighbors.pkl). Accepted formats: pkl.\n",
    "* **output_test_table_path** (*str*) (Optional): Path to the test table file. File type: output. [Sample file](https://github.com/bioexcel/biobb_ml/raw/master/biobb_ml/test/reference/classification/ref_output_test_k_neighbors.csv). Accepted formats: csv.\n",
    "* **output_plot_path** (*str*) (Optional): Path to the statistics plot. If target is binary it shows confusion matrix, distributions of the predicted probabilities of both classes and ROC curve. If target is non-binary it shows confusion matrix. File type: output. [Sample file](https://github.com/bioexcel/biobb_ml/raw/master/biobb_ml/test/reference/classification/ref_output_plot_k_neighbors.png). Accepted formats: png."
   ]
  },
  {
   "cell_type": "markdown",
   "metadata": {},
   "source": [
    "### Config"
   ]
  },
  {
   "cell_type": "markdown",
   "metadata": {},
   "source": [
    "Syntax: input_parameter (datatype) - (default_value) Definition\n",
    "\n",
    "\n",
    "Config parameters for this building block:\n",
    "\n",
    "* **independent_vars** (*list*) - (None) Independent variables or columns from your dataset you want to train.\n",
    "* **target** (*string*) - (None) Dependent variable or column from your dataset you want to predict.\n",
    "* **metric** (*string*) - (\"minkowski\") The distance metric to use for the tree. Values: euclidean, manhattan, chebyshev, minkowski, wminkowski, seuclidean, mahalanobi.\n",
    "* **n_neighbors** (*int*) - (6) Number of neighbors to use by default for kneighbors queries.\n",
    "* **normalize_cm** (*bool*) - (False) Whether or not to normalize the confusion matrix.\n",
    "* **test_size** (*float*) - (0.2) Represents the proportion of the dataset to include in the test split. It should be between 0.0 and 1.0.\n",
    "* **remove_tmp** (*bool*) - (True) [WF property] Remove temporal files.\n",
    "* **restart** (*bool*) - (False) [WF property] Do not execute if output files exist."
   ]
  },
  {
   "cell_type": "markdown",
   "metadata": {},
   "source": [
    "### YAML"
   ]
  },
  {
   "cell_type": "markdown",
   "metadata": {},
   "source": [
    "#### File config"
   ]
  },
  {
   "cell_type": "code",
   "execution_count": null,
   "metadata": {},
   "outputs": [],
   "source": [
    "properties:\n",
    "  independent_vars: ['duration', 'interest_rate', 'march', 'credit', 'previous']\n",
    "  target: 'y'\n",
    "  metric: 'minkowski'\n",
    "  n_neighbors: 5\n",
    "  normalize_cm: false\n",
    "  test_size: 0.2"
   ]
  },
  {
   "cell_type": "code",
   "execution_count": null,
   "metadata": {},
   "outputs": [],
   "source": [
    "k_neighbors --conf data/conf/kneighbors.yml --input_dataset_path data/input/dataset_k_neighbors.csv --output_model_path data/output/output_model_k_neighbors.pkl --output_test_table_path data/output/output_test_k_neighbors.csv --output_plot_path data/output/output_plot_k_neighbors.png"
   ]
  },
  {
   "cell_type": "markdown",
   "metadata": {},
   "source": [
    "### JSON"
   ]
  },
  {
   "cell_type": "markdown",
   "metadata": {},
   "source": [
    "#### File config"
   ]
  },
  {
   "cell_type": "code",
   "execution_count": null,
   "metadata": {},
   "outputs": [],
   "source": [
    "{\n",
    "    \"properties\": {\n",
    "        \"independent_vars\": [\"duration\", \"interest_rate\", \"march\", \"credit\", \"previous\"],\n",
    "        \"target\": \"y\",\n",
    "        \"metric\": \"minkowski\",\n",
    "        \"n_neighbors\": 5,\n",
    "        \"normalize_cm\": false,\n",
    "        \"test_size\": 0.2\n",
    "    }\n",
    "}"
   ]
  },
  {
   "cell_type": "code",
   "execution_count": null,
   "metadata": {},
   "outputs": [],
   "source": [
    "k_neighbors --conf data/conf/kneighbors.json --input_dataset_path data/input/dataset_k_neighbors.csv --output_model_path data/output/output_model_k_neighbors.pkl --output_test_table_path data/output/output_test_k_neighbors.csv --output_plot_path data/output/output_plot_k_neighbors.png"
   ]
  },
  {
   "cell_type": "markdown",
   "metadata": {},
   "source": [
    "## logistic_regression"
   ]
  },
  {
   "cell_type": "markdown",
   "metadata": {},
   "source": [
    "Trains and tests a given dataset and saves the model and scaler for a logistic regression."
   ]
  },
  {
   "cell_type": "markdown",
   "metadata": {},
   "source": [
    "### Get help"
   ]
  },
  {
   "cell_type": "code",
   "execution_count": null,
   "metadata": {},
   "outputs": [],
   "source": [
    "logistic_regression -h"
   ]
  },
  {
   "cell_type": "code",
   "execution_count": null,
   "metadata": {},
   "outputs": [],
   "source": [
    "usage: logistic_regression [-h] [--config CONFIG] --input_dataset_path INPUT_DATASET_PATH --output_model_path OUTPUT_MODEL_PATH [--output_test_table_path OUTPUT_TEST_TABLE_PATH] [--output_plot_path OUTPUT_PLOT_PATH]\n",
    "\n",
    "Trains and tests a given dataset and saves the model and scaler for a logistic regression.\n",
    "\n",
    "optional arguments:\n",
    "  -h, --help            show this help message and exit\n",
    "  --config CONFIG       Configuration file\n",
    "  --output_test_table_path OUTPUT_TEST_TABLE_PATH\n",
    "                        Path to the test table file. Accepted formats: csv.\n",
    "  --output_plot_path OUTPUT_PLOT_PATH\n",
    "                        Path to the statistics plot. If target is binary it shows confusion matrix, distributions of the predicted probabilities of both classes and ROC curve. If target is non-binary it shows confusion matrix. Accepted formats: png.\n",
    "\n",
    "required arguments:\n",
    "  --input_dataset_path INPUT_DATASET_PATH\n",
    "                        Path to the input dataset. Accepted formats: csv.\n",
    "  --output_model_path OUTPUT_MODEL_PATH\n",
    "                        Path to the output model file. Accepted formats: pkl."
   ]
  },
  {
   "cell_type": "markdown",
   "metadata": {},
   "source": [
    "### I / O Arguments"
   ]
  },
  {
   "cell_type": "markdown",
   "metadata": {},
   "source": [
    "Syntax: input_argument (datatype) : Definition\n",
    "\n",
    "Config input / output arguments for this building block:\n",
    "\n",
    "* **input_dataset_path** (*str*): Path to the input dataset. File type: input. [Sample file](https://github.com/bioexcel/biobb_ml/raw/master/biobb_ml/test/data/classification/dataset_logistic_regression.csv). Accepted formats: csv.\n",
    "* **output_model_path** (*str*): Path to the output model file. File type: output. [Sample file](https://github.com/bioexcel/biobb_ml/raw/master/biobb_ml/test/reference/classification/ref_output_model_logistic_regression.pkl). Accepted formats: pkl.\n",
    "* **output_test_table_path** (*str*) (Optional): Path to the test table file. File type: output. [Sample file](https://github.com/bioexcel/biobb_ml/raw/master/biobb_ml/test/reference/classification/ref_output_test_logistic_regression.csv). Accepted formats: csv.\n",
    "* **output_plot_path** (*str*) (Optional): Path to the statistics plot. If target is binary it shows confusion matrix, distributions of the predicted probabilities of both classes and ROC curve. If target is non-binary it shows confusion matrix. File type: output. [Sample file](https://github.com/bioexcel/biobb_ml/raw/master/biobb_ml/test/reference/classification/ref_output_test_logistic_regression.csv). Accepted formats: png."
   ]
  },
  {
   "cell_type": "markdown",
   "metadata": {},
   "source": [
    "### Config"
   ]
  },
  {
   "cell_type": "markdown",
   "metadata": {},
   "source": [
    "Syntax: input_parameter (datatype) - (default_value) Definition\n",
    "\n",
    "\n",
    "Config parameters for this building block:\n",
    "\n",
    "* **independent_vars** (*list*) - (None) Independent variables or columns from your dataset you want to train.\n",
    "* **target** (*string*) - (None) Dependent variable or column from your dataset you want to predict.\n",
    "* **solver** (*string*) - (\"liblinear\") Numerical optimizer to find parameters. Values: newton-cg, lbfgs, liblinear, sag, saga\n",
    "* **c_parameter** (*float*) - (0.01) Inverse of regularization strength; must be a positive float. Smaller values specify stronger regularization.\n",
    "* **normalize_cm** (*bool*) - (False) Whether or not to normalize the confusion matrix.\n",
    "* **test_size** (*float*) - (0.2) Represents the proportion of the dataset to include in the test split. It should be between 0.0 and 1.0.\n",
    "* **remove_tmp** (*bool*) - (True) [WF property] Remove temporal files.\n",
    "* **restart** (*bool*) - (False) [WF property] Do not execute if output files exist."
   ]
  },
  {
   "cell_type": "markdown",
   "metadata": {},
   "source": [
    "### YAML"
   ]
  },
  {
   "cell_type": "markdown",
   "metadata": {},
   "source": [
    "#### File config"
   ]
  },
  {
   "cell_type": "code",
   "execution_count": null,
   "metadata": {},
   "outputs": [],
   "source": [
    "properties:\n",
    "  independent_vars: ['mean area', 'mean compactness']\n",
    "  target: 'benign'\n",
    "  solver: 'liblinear'\n",
    "  c_parameter: 0.01\n",
    "  normalize_cm: false\n",
    "  test_size: 0.2"
   ]
  },
  {
   "cell_type": "code",
   "execution_count": null,
   "metadata": {},
   "outputs": [],
   "source": [
    "logistic_regression --conf data/conf/logistic_regression.yml --input_dataset_path data/input/dataset_logistic_regression.csv --output_model_path data/output/output_model_logistic_regression.pkl --output_test_table_path data/output/output_test_logistic_regression.csv --output_plot_path data/output/output_plot_logistic_regression.png"
   ]
  },
  {
   "cell_type": "markdown",
   "metadata": {},
   "source": [
    "### JSON"
   ]
  },
  {
   "cell_type": "markdown",
   "metadata": {},
   "source": [
    "#### File config"
   ]
  },
  {
   "cell_type": "code",
   "execution_count": null,
   "metadata": {},
   "outputs": [],
   "source": [
    "{\n",
    "    \"properties\": {\n",
    "        \"independent_vars\": [\"mean area\", \"mean compactness\"],\n",
    "        \"target\": \"benign\",\n",
    "        \"solver\": \"liblinear\",\n",
    "        \"c_parameter\": 0.01,\n",
    "        \"normalize_cm\": false,\n",
    "        \"test_size\": 0.2\n",
    "    }\n",
    "}"
   ]
  },
  {
   "cell_type": "code",
   "execution_count": null,
   "metadata": {},
   "outputs": [],
   "source": [
    "logistic_regression --conf data/conf/logistic_regression.json --input_dataset_path data/input/dataset_logistic_regression.csv --output_model_path data/output/output_model_logistic_regression.pkl --output_test_table_path data/output/output_test_logistic_regression.csv --output_plot_path data/output/output_plot_logistic_regression.png"
   ]
  },
  {
   "cell_type": "markdown",
   "metadata": {},
   "source": [
    "## random_forest_classifier"
   ]
  },
  {
   "cell_type": "markdown",
   "metadata": {},
   "source": [
    "Trains and tests a given dataset and saves the model and scaler for a random forest classifier."
   ]
  },
  {
   "cell_type": "markdown",
   "metadata": {},
   "source": [
    "### Get help"
   ]
  },
  {
   "cell_type": "code",
   "execution_count": null,
   "metadata": {},
   "outputs": [],
   "source": [
    "random_forest_classifier -h"
   ]
  },
  {
   "cell_type": "code",
   "execution_count": null,
   "metadata": {},
   "outputs": [],
   "source": [
    "usage: random_forest_classifier [-h] [--config CONFIG] --input_dataset_path INPUT_DATASET_PATH --output_model_path OUTPUT_MODEL_PATH [--output_test_table_path OUTPUT_TEST_TABLE_PATH] [--output_plot_path OUTPUT_PLOT_PATH]\n",
    "\n",
    "Trains and tests a given dataset and calculates coefficients and predictions for a random forest classifier.\n",
    "\n",
    "optional arguments:\n",
    "  -h, --help            show this help message and exit\n",
    "  --config CONFIG       Configuration file\n",
    "  --output_test_table_path OUTPUT_TEST_TABLE_PATH\n",
    "                        Path to the test table file. Accepted formats: csv.\n",
    "  --output_plot_path OUTPUT_PLOT_PATH\n",
    "                        Path to the statistics plot. If target is binary it shows confusion matrix, distributions of the predicted probabilities of both classes and ROC curve. If target is non-binary it shows confusion matrix. Accepted formats: png.\n",
    "\n",
    "required arguments:\n",
    "  --input_dataset_path INPUT_DATASET_PATH\n",
    "                        Path to the input dataset. Accepted formats: csv.\n",
    "  --output_model_path OUTPUT_MODEL_PATH\n",
    "                        Path to the output model file. Accepted formats: pkl."
   ]
  },
  {
   "cell_type": "markdown",
   "metadata": {},
   "source": [
    "### I / O Arguments"
   ]
  },
  {
   "cell_type": "markdown",
   "metadata": {},
   "source": [
    "Syntax: input_argument (datatype) : Definition\n",
    "\n",
    "Config input / output arguments for this building block:\n",
    "\n",
    "* **input_dataset_path** (*str*): Path to the input dataset. File type: input. [Sample file](https://github.com/bioexcel/biobb_ml/raw/master/biobb_ml/test/data/classification/dataset_random_forest_classifier.csv). Accepted formats: csv.\n",
    "* **output_model_path** (*str*): Path to the output model file. File type: output. [Sample file](https://github.com/bioexcel/biobb_ml/raw/master/biobb_ml/test/reference/classification/ref_output_model_random_forest_classifier.pkl). Accepted formats: pkl.\n",
    "* **output_test_table_path** (*str*) (Optional): Path to the test table file. File type: output. [Sample file](https://github.com/bioexcel/biobb_ml/raw/master/biobb_ml/test/reference/classification/ref_output_test_random_forest_classifier.csv). Accepted formats: csv.\n",
    "* **output_plot_path** (*str*) (Optional): Path to the statistics plot. If target is binary it shows confusion matrix, distributions of the predicted probabilities of both classes and ROC curve. If target is non-binary it shows confusion matrix. File type: output. [Sample file](https://github.com/bioexcel/biobb_ml/raw/master/biobb_ml/test/reference/classification/ref_output_plot_random_forest_classifier.png). Accepted formats: png."
   ]
  },
  {
   "cell_type": "markdown",
   "metadata": {},
   "source": [
    "### Config"
   ]
  },
  {
   "cell_type": "markdown",
   "metadata": {},
   "source": [
    "Syntax: input_parameter (datatype) - (default_value) Definition\n",
    "\n",
    "\n",
    "Config parameters for this building block:\n",
    "\n",
    "* **independent_vars** (*list*) - (None) Independent variables or columns from your dataset you want to train.\n",
    "* **target** (*string*) - (None) Dependent variable or column from your dataset you want to predict.\n",
    "* **n_estimators** (*int*) - (100) The number of trees in the forest.\n",
    "* **bootstrap** (*bool*) - (True) Whether bootstrap samples are used when building trees. If False, the whole dataset is used to build each tree.\n",
    "* **normalize_cm** (*bool*) - (False) Whether or not to normalize the confusion matrix.\n",
    "* **test_size** (*float*) - (0.2) Represents the proportion of the dataset to include in the test split. It should be between 0.0 and 1.0.\n",
    "* **remove_tmp** (*bool*) - (True) [WF property] Remove temporal files.\n",
    "* **restart** (*bool*) - (False) [WF property] Do not execute if output files exist."
   ]
  },
  {
   "cell_type": "markdown",
   "metadata": {},
   "source": [
    "### YAML"
   ]
  },
  {
   "cell_type": "markdown",
   "metadata": {},
   "source": [
    "#### File config"
   ]
  },
  {
   "cell_type": "code",
   "execution_count": null,
   "metadata": {},
   "outputs": [],
   "source": [
    "properties:\n",
    "  independent_vars: ['Age', 'Sex', 'BP', 'Cholesterol', 'Na_to_K']\n",
    "  target: 'Drug'\n",
    "  n_estimators: 100\n",
    "  bootstrap: true\n",
    "  normalize_cm: false\n",
    "  test_size: 0.2"
   ]
  },
  {
   "cell_type": "code",
   "execution_count": null,
   "metadata": {},
   "outputs": [],
   "source": [
    "random_forest_classifier --conf data/conf/random_forest_classifier.yml --input_dataset_path data/input/dataset_random_forest_classifier.csv --output_model_path data/output/output_model_random_forest_classifier.pkl --output_test_table_path data/output/output_test_random_forest_classifier.csv --output_plot_path data/output/output_plot_random_forest_classifier.png"
   ]
  },
  {
   "cell_type": "markdown",
   "metadata": {},
   "source": [
    "### JSON"
   ]
  },
  {
   "cell_type": "markdown",
   "metadata": {},
   "source": [
    "#### File config"
   ]
  },
  {
   "cell_type": "code",
   "execution_count": null,
   "metadata": {},
   "outputs": [],
   "source": [
    "{\n",
    "    \"properties\": {\n",
    "        \"independent_vars\": [\"Age\", \"Sex\", \"BP\", \"Cholesterol\", \"Na_to_K\"],\n",
    "        \"target\": \"Drug\",\n",
    "        \"n_estimators\": 100,\n",
    "        \"bootstrap\": true,\n",
    "        \"normalize_cm\": false,\n",
    "        \"test_size\": 0.2\n",
    "    }\n",
    "}"
   ]
  },
  {
   "cell_type": "code",
   "execution_count": null,
   "metadata": {},
   "outputs": [],
   "source": [
    "random_forest_classifier --conf data/conf/random_forest_classifier.json --input_dataset_path data/input/dataset_random_forest_classifier.csv --output_model_path data/output/output_model_random_forest_classifier.pkl --output_test_table_path data/output/output_test_random_forest_classifier.csv --output_plot_path data/output/output_plot_random_forest_classifier.png"
   ]
  },
  {
   "cell_type": "markdown",
   "metadata": {},
   "source": [
    "## support_vector_machine"
   ]
  },
  {
   "cell_type": "markdown",
   "metadata": {},
   "source": [
    "Trains and tests a given dataset and saves the model and scaler for a support vector machine."
   ]
  },
  {
   "cell_type": "markdown",
   "metadata": {},
   "source": [
    "### Get help"
   ]
  },
  {
   "cell_type": "code",
   "execution_count": null,
   "metadata": {},
   "outputs": [],
   "source": [
    "support_vector_machine -h"
   ]
  },
  {
   "cell_type": "code",
   "execution_count": null,
   "metadata": {},
   "outputs": [],
   "source": [
    "usage: support_vector_machine [-h] [--config CONFIG] --input_dataset_path INPUT_DATASET_PATH --output_model_path OUTPUT_MODEL_PATH [--output_test_table_path OUTPUT_TEST_TABLE_PATH] [--output_plot_path OUTPUT_PLOT_PATH]\n",
    "\n",
    "Trains and tests a given dataset and saves the model and scaler for a support vector machine.\n",
    "\n",
    "optional arguments:\n",
    "  -h, --help            show this help message and exit\n",
    "  --config CONFIG       Configuration file\n",
    "  --output_test_table_path OUTPUT_TEST_TABLE_PATH\n",
    "                        Path to the test table file. Accepted formats: csv.\n",
    "  --output_plot_path OUTPUT_PLOT_PATH\n",
    "                        Path to the statistics plot. If target is binary it shows confusion matrix, distributions of the predicted probabilities of both classes and ROC curve. If target is non-binary it shows confusion matrix. Accepted formats: png.\n",
    "\n",
    "required arguments:\n",
    "  --input_dataset_path INPUT_DATASET_PATH\n",
    "                        Path to the input dataset. Accepted formats: csv.\n",
    "  --output_model_path OUTPUT_MODEL_PATH\n",
    "                        Path to the output model file. Accepted formats: pkl."
   ]
  },
  {
   "cell_type": "markdown",
   "metadata": {},
   "source": [
    "### I / O Arguments"
   ]
  },
  {
   "cell_type": "markdown",
   "metadata": {},
   "source": [
    "Syntax: input_argument (datatype) : Definition\n",
    "\n",
    "Config input / output arguments for this building block:\n",
    "\n",
    "* **input_dataset_path** (*str*): Path to the input dataset. File type: input. [Sample file](https://github.com/bioexcel/biobb_ml/raw/master/biobb_ml/test/data/classification/dataset_support_vector_machine.csv). Accepted formats: csv.\n",
    "* **output_model_path** (*str*): Path to the output model file. File type: output. [Sample file](https://github.com/bioexcel/biobb_ml/raw/master/biobb_ml/test/reference/classification/ref_output_model_support_vector_machine.pkl). Accepted formats: pkl.\n",
    "* **output_test_table_path** (*str*) (Optional): Path to the test table file. File type: output. [Sample file](https://github.com/bioexcel/biobb_ml/raw/master/biobb_ml/test/reference/classification/ref_output_test_support_vector_machine.csv). Accepted formats: csv.\n",
    "* **output_plot_path** (*str*) (Optional): Path to the statistics plot. If target is binary it shows confusion matrix, distributions of the predicted probabilities of both classes and ROC curve. If target is non-binary it shows confusion matrix. File type: output. [Sample file](https://github.com/bioexcel/biobb_ml/raw/master/biobb_ml/test/reference/classification/ref_output_plot_support_vector_machine.png). Accepted formats: png."
   ]
  },
  {
   "cell_type": "markdown",
   "metadata": {},
   "source": [
    "### Config"
   ]
  },
  {
   "cell_type": "markdown",
   "metadata": {},
   "source": [
    "Syntax: input_parameter (datatype) - (default_value) Definition\n",
    "\n",
    "\n",
    "Config parameters for this building block:\n",
    "\n",
    "* **independent_vars** (*list*) - (None) Independent variables or columns from your dataset you want to train.\n",
    "* **target** (*string*) - (None) Dependent variable or column from your dataset you want to predict.\n",
    "* **kernel** (*string*) - (\"rbf\") Specifies the kernel type to be used in the algorithm. Values: linear, poly, rbf, sigmoid, precomputed.\n",
    "* **normalize_cm** (*bool*) - (False) Whether or not to normalize the confusion matrix.\n",
    "* **test_size** (*float*) - (0.2) Represents the proportion of the dataset to include in the test split. It should be between 0.0 and 1.0.\n",
    "* **remove_tmp** (*bool*) - (True) [WF property] Remove temporal files.\n",
    "* **restart** (*bool*) - (False) [WF property] Do not execute if output files exist."
   ]
  },
  {
   "cell_type": "markdown",
   "metadata": {},
   "source": [
    "### YAML"
   ]
  },
  {
   "cell_type": "markdown",
   "metadata": {},
   "source": [
    "#### File config"
   ]
  },
  {
   "cell_type": "code",
   "execution_count": null,
   "metadata": {},
   "outputs": [],
   "source": [
    "properties:\n",
    "  independent_vars: ['duration', 'interest_rate', 'march', 'credit', 'previous']\n",
    "  target: 'y'\n",
    "  kernel: 'rbf'\n",
    "  normalize_cm: false                              \n",
    "  test_size: 0.2"
   ]
  },
  {
   "cell_type": "code",
   "execution_count": null,
   "metadata": {},
   "outputs": [],
   "source": [
    "support_vector_machine --conf data/conf/support_vector_machine.yml --input_dataset_path data/input/dataset_support_vector_machine.csv --output_model_path data/output/output_model_support_vector_machine.pkl --output_test_table_path data/output/output_test_support_vector_machine.csv --output_plot_path data/output/output_plot_support_vector_machine.png"
   ]
  },
  {
   "cell_type": "markdown",
   "metadata": {},
   "source": [
    "### JSON"
   ]
  },
  {
   "cell_type": "markdown",
   "metadata": {},
   "source": [
    "#### File config"
   ]
  },
  {
   "cell_type": "code",
   "execution_count": null,
   "metadata": {},
   "outputs": [],
   "source": [
    "{\n",
    "    \"properties\": {\n",
    "        \"independent_vars\": [\"duration\", \"interest_rate\", \"march\", \"credit\", \"previous\"],\n",
    "        \"target\": \"y\",\n",
    "        \"kernel\": \"rbf\",\n",
    "        \"normalize_cm\": false,\n",
    "        \"test_size\": 0.2\n",
    "    }\n",
    "}"
   ]
  },
  {
   "cell_type": "code",
   "execution_count": null,
   "metadata": {},
   "outputs": [],
   "source": [
    "support_vector_machine --conf data/conf/support_vector_machine.json --input_dataset_path data/input/dataset_support_vector_machine.csv --output_model_path data/output/output_model_support_vector_machine.pkl --output_test_table_path data/output/output_test_support_vector_machine.csv --output_plot_path data/output/output_plot_support_vector_machine.png"
   ]
  },
  {
   "cell_type": "markdown",
   "metadata": {},
   "source": [
    "## classification_predict"
   ]
  },
  {
   "cell_type": "markdown",
   "metadata": {},
   "source": [
    "Makes predictions from a given model."
   ]
  },
  {
   "cell_type": "markdown",
   "metadata": {},
   "source": [
    "### Get help"
   ]
  },
  {
   "cell_type": "code",
   "execution_count": null,
   "metadata": {},
   "outputs": [],
   "source": [
    "classification_predict -h"
   ]
  },
  {
   "cell_type": "code",
   "execution_count": null,
   "metadata": {},
   "outputs": [],
   "source": [
    "usage: classification_predict [-h] [--config CONFIG] --input_model_path INPUT_MODEL_PATH --output_results_path OUTPUT_RESULTS_PATH\n",
    "\n",
    "Makes predictions from a given model.\n",
    "\n",
    "optional arguments:\n",
    "  -h, --help            show this help message and exit\n",
    "  --config CONFIG       Configuration file\n",
    "\n",
    "required arguments:\n",
    "  --input_model_path INPUT_MODEL_PATH\n",
    "                        Path to the input model. Accepted formats: pkl.\n",
    "  --output_results_path OUTPUT_RESULTS_PATH\n",
    "                        Path to the output results file. Accepted formats: csv."
   ]
  },
  {
   "cell_type": "markdown",
   "metadata": {},
   "source": [
    "### I / O Arguments"
   ]
  },
  {
   "cell_type": "markdown",
   "metadata": {},
   "source": [
    "Syntax: input_argument (datatype) : Definition\n",
    "\n",
    "Config input / output arguments for this building block:\n",
    "\n",
    "* **input_model_path** (*str*): Path to the input model. File type: input. [Sample file](https://github.com/bioexcel/biobb_ml/raw/master/biobb_ml/test/data/classification/model_classification_predict.pkl). Accepted formats: pkl.\n",
    "* **output_results_path** (*str*) (Optional): Path to the output results file. File type: output. [Sample file](https://github.com/bioexcel/biobb_ml/raw/master/biobb_ml/test/reference/classification/ref_output_classification_predict.csv). Accepted formats: csv."
   ]
  },
  {
   "cell_type": "markdown",
   "metadata": {},
   "source": [
    "### Config"
   ]
  },
  {
   "cell_type": "markdown",
   "metadata": {},
   "source": [
    "Syntax: input_parameter (datatype) - (default_value) Definition\n",
    "\n",
    "\n",
    "Config parameters for this building block:\n",
    "\n",
    "* **predictions** (*list*) - (None) List of dictionaries with all values you want to predict targets.\n",
    "* **remove_tmp** (*bool*) - (True) [WF property] Remove temporal files.\n",
    "* **restart** (*bool*) - (False) [WF property] Do not execute if output files exist."
   ]
  },
  {
   "cell_type": "markdown",
   "metadata": {},
   "source": [
    "### YAML"
   ]
  },
  {
   "cell_type": "markdown",
   "metadata": {},
   "source": [
    "#### File config"
   ]
  },
  {
   "cell_type": "code",
   "execution_count": null,
   "metadata": {},
   "outputs": [],
   "source": [
    "properties:                           \n",
    "  predictions: [ \n",
    "    { 'duration': 117.000, 'interest_rate': 1.334, 'march': 1.000, 'credit': 0.000, 'previous': 0.000 },\n",
    "    { 'duration': 274.000, 'interest_rate': 0.767, 'march': 0.000, 'credit': 0.000, 'previous': 1.000 }, \n",
    "    { 'duration': 167.000, 'interest_rate': 4.858, 'march': 1.000, 'credit': 0.000, 'previous': 0.000 }, \n",
    "  ]"
   ]
  },
  {
   "cell_type": "code",
   "execution_count": null,
   "metadata": {},
   "outputs": [],
   "source": [
    "classification_predict --conf data/conf/classification_predict.yml --input_model_path data/input/model_classification_predict.pkl --output_results_path data/output/output_classification_predict.csv"
   ]
  },
  {
   "cell_type": "markdown",
   "metadata": {},
   "source": [
    "### JSON"
   ]
  },
  {
   "cell_type": "markdown",
   "metadata": {},
   "source": [
    "#### File config"
   ]
  },
  {
   "cell_type": "code",
   "execution_count": null,
   "metadata": {},
   "outputs": [],
   "source": [
    "{\n",
    "    \"properties\": {\n",
    "        \"predictions\": [ \n",
    "            { \"duration\": 117.000, \"interest_rate\": 1.334, \"march\": 1.000, \"credit\": 0.000, \"previous\": 0.000 },\n",
    "            { \"duration\": 274.000, \"interest_rate\": 0.767, \"march\": 0.000, \"credit\": 0.000, \"previous\": 1.000 },\n",
    "            { \"duration\": 167.000, \"interest_rate\": 4.858, \"march\": 1.000, \"credit\": 0.000, \"previous\": 0.000 }\n",
    "        ]\n",
    "    }\n",
    "}"
   ]
  },
  {
   "cell_type": "code",
   "execution_count": null,
   "metadata": {},
   "outputs": [],
   "source": [
    "classification_predict --conf data/conf/classification_predict.json --input_model_path data/input/model_classification_predict.pkl --output_results_path data/output/output_classification_predict.csv"
   ]
  },
  {
   "cell_type": "markdown",
   "metadata": {},
   "source": [
    "## agglomerative_coefficient"
   ]
  },
  {
   "cell_type": "markdown",
   "metadata": {},
   "source": [
    "Clusters a given dataset and calculates best K coefficient for an agglomerative clustering."
   ]
  },
  {
   "cell_type": "markdown",
   "metadata": {},
   "source": [
    "### Get help"
   ]
  },
  {
   "cell_type": "code",
   "execution_count": null,
   "metadata": {},
   "outputs": [],
   "source": [
    "agglomerative_coefficient -h"
   ]
  },
  {
   "cell_type": "code",
   "execution_count": null,
   "metadata": {},
   "outputs": [],
   "source": [
    "usage: agglomerative_coefficient [-h] [--config CONFIG] --input_dataset_path INPUT_DATASET_PATH --output_results_path OUTPUT_RESULTS_PATH [--output_plot_path OUTPUT_PLOT_PATH]\n",
    "\n",
    "Clusters a given dataset and calculates best K coefficient for a k-means clustering.\n",
    "\n",
    "optional arguments:\n",
    "  -h, --help            show this help message and exit\n",
    "  --config CONFIG       Configuration file\n",
    "  --output_plot_path OUTPUT_PLOT_PATH\n",
    "                        Path to the elbow and gap methods plot. Accepted formats: png.\n",
    "\n",
    "required arguments:\n",
    "  --input_dataset_path INPUT_DATASET_PATH\n",
    "                        Path to the input dataset. Accepted formats: csv.\n",
    "  --output_results_path OUTPUT_RESULTS_PATH\n",
    "                        Path to the gap values list. Accepted formats: csv."
   ]
  },
  {
   "cell_type": "markdown",
   "metadata": {},
   "source": [
    "### I / O Arguments"
   ]
  },
  {
   "cell_type": "markdown",
   "metadata": {},
   "source": [
    "Syntax: input_argument (datatype) : Definition\n",
    "\n",
    "Config input / output arguments for this building block:\n",
    "\n",
    "* **input_dataset_path** (*str*): Path to the input dataset. File type: input. [Sample file](https://github.com/bioexcel/biobb_ml/raw/master/biobb_ml/test/data/clustering/dataset_agglomerative_coefficient.csv). Accepted formats: csv.\n",
    "* **output_results_path** (*str*) (Optional):  Path to the gap values list.  File type: output. [Sample file](https://github.com/bioexcel/biobb_ml/raw/master/biobb_ml/test/reference/clustering/ref_output_results_agglomerative_coefficient.csv). Accepted formats: csv.\n",
    "* **output_plot_path** (*str*) (Optional): Path to the elbow method and gap statistics plot. File type: output. [Sample file](https://github.com/bioexcel/biobb_ml/raw/master/biobb_ml/test/reference/clustering/ref_output_plot_agglomerative_coefficient.png). Accepted formats: png."
   ]
  },
  {
   "cell_type": "markdown",
   "metadata": {},
   "source": [
    "### Config"
   ]
  },
  {
   "cell_type": "markdown",
   "metadata": {},
   "source": [
    "Syntax: input_parameter (datatype) - (default_value) Definition\n",
    "\n",
    "\n",
    "Config parameters for this building block:\n",
    "\n",
    "* **predictors** (*list*) - (None) Features or columns from your dataset you want to use for fitting.\n",
    "* **max_clusters** (*int*) - (6) Maximum number of clusters to use by default for kmeans queries.\n",
    "* **remove_tmp** (*bool*) - (True) [WF property] Remove temporal files.\n",
    "* **restart** (*bool*) - (False) [WF property] Do not execute if output files exist."
   ]
  },
  {
   "cell_type": "markdown",
   "metadata": {},
   "source": [
    "### YAML"
   ]
  },
  {
   "cell_type": "markdown",
   "metadata": {},
   "source": [
    "#### File config"
   ]
  },
  {
   "cell_type": "code",
   "execution_count": null,
   "metadata": {},
   "outputs": [],
   "source": [
    "properties:\n",
    "  predictors: ['sepal_length', 'sepal_width']\n",
    "  max_clusters: 10"
   ]
  },
  {
   "cell_type": "code",
   "execution_count": null,
   "metadata": {},
   "outputs": [],
   "source": [
    "agglomerative_coefficient --conf data/conf/agglomerative_coefficient.yml --input_dataset_path data/input/dataset_agglomerative_coefficient.csv --output_results_path data/output/output_results_agglomerative_coefficient.csv --output_plot_path data/output/output_plot_agglomerative_coefficient.png"
   ]
  },
  {
   "cell_type": "markdown",
   "metadata": {},
   "source": [
    "### JSON"
   ]
  },
  {
   "cell_type": "markdown",
   "metadata": {},
   "source": [
    "#### File config"
   ]
  },
  {
   "cell_type": "code",
   "execution_count": null,
   "metadata": {},
   "outputs": [],
   "source": [
    "{\n",
    "    \"properties\": {\n",
    "        \"predictors\": [\"sepal_length\", \"sepal_width\"],\n",
    "        \"max_clusters\": 10\n",
    "    }\n",
    "}"
   ]
  },
  {
   "cell_type": "code",
   "execution_count": null,
   "metadata": {},
   "outputs": [],
   "source": [
    "agglomerative_coefficient --conf data/conf/agglomerative_coefficient.json --input_dataset_path data/input/dataset_agglomerative_coefficient.csv --output_results_path data/output/output_results_agglomerative_coefficient.csv --output_plot_path data/output/output_plot_agglomerative_coefficient.png"
   ]
  },
  {
   "cell_type": "markdown",
   "metadata": {},
   "source": [
    "## agglomerative_clustering"
   ]
  },
  {
   "cell_type": "markdown",
   "metadata": {},
   "source": [
    "Clusters a given dataset with agglomerative clustering method."
   ]
  },
  {
   "cell_type": "markdown",
   "metadata": {},
   "source": [
    "### Get help"
   ]
  },
  {
   "cell_type": "code",
   "execution_count": null,
   "metadata": {},
   "outputs": [],
   "source": [
    "agglomerative_clustering -h"
   ]
  },
  {
   "cell_type": "code",
   "execution_count": null,
   "metadata": {},
   "outputs": [],
   "source": [
    "usage: agglomerative_clustering [-h] [--config CONFIG] --input_dataset_path INPUT_DATASET_PATH --output_results_path OUTPUT_RESULTS_PATH [--output_plot_path OUTPUT_PLOT_PATH]\n",
    "\n",
    "Clusters a given dataset with k-means clustering method.\n",
    "\n",
    "optional arguments:\n",
    "  -h, --help            show this help message and exit\n",
    "  --config CONFIG       Configuration file\n",
    "  --output_plot_path OUTPUT_PLOT_PATH\n",
    "                        Path to the clustering plot. Accepted formats: png.\n",
    "\n",
    "required arguments:\n",
    "  --input_dataset_path INPUT_DATASET_PATH\n",
    "                        Path to the input dataset. Accepted formats: csv.\n",
    "  --output_results_path OUTPUT_RESULTS_PATH\n",
    "                        Path to the clustered dataset. Accepted formats: csv."
   ]
  },
  {
   "cell_type": "markdown",
   "metadata": {},
   "source": [
    "### I / O Arguments"
   ]
  },
  {
   "cell_type": "markdown",
   "metadata": {},
   "source": [
    "Syntax: input_argument (datatype) : Definition\n",
    "\n",
    "Config input / output arguments for this building block:\n",
    "\n",
    "* **input_dataset_path** (*str*): Path to the input dataset. File type: input. [Sample file](https://github.com/bioexcel/biobb_ml/raw/master/biobb_ml/test/data/clustering/dataset_agglomerative_clustering.csv). Accepted formats: csv.\n",
    "* **output_results_path** (*str*): Path to the clustered dataset. File type: output. [Sample file](https://github.com/bioexcel/biobb_ml/raw/master/biobb_ml/test/reference/clustering/ref_output_results_agglomerative_clustering.csv). Accepted formats: csv.\n",
    "* **output_plot_path** (*str*) (Optional): Path to the clustering plot. File type: output. [Sample file](https://github.com/bioexcel/biobb_ml/raw/master/biobb_ml/test/reference/clustering/ref_output_plot_agglomerative_clustering.png). Accepted formats: png."
   ]
  },
  {
   "cell_type": "markdown",
   "metadata": {},
   "source": [
    "### Config"
   ]
  },
  {
   "cell_type": "markdown",
   "metadata": {},
   "source": [
    "Syntax: input_parameter (datatype) - (default_value) Definition\n",
    "\n",
    "\n",
    "Config parameters for this building block:\n",
    "\n",
    "* **predictors** (*list*) - (None) Features or columns from your dataset you want to use for fitting.\n",
    "* **clusters** (*int*) - (3) The number of clusters to form as well as the number of centroids to generate.\n",
    "* **linkage** (*int*) - (\"ward\") The linkage criterion determines which distance to use between sets of observation. The algorithm will merge the pairs of cluster that minimize this criterion. Values: ward, complete, average, single.\n",
    "* **plots** (*list*) - (None) List of dictionaries with all plots you want to generate. Only 2D or 3D plots accepted. Format: [ { 'title': 'Plot 1', 'features': ['feat1', 'feat2'] } ].\n",
    "* **remove_tmp** (*bool*) - (True) [WF property] Remove temporal files.\n",
    "* **restart** (*bool*) - (False) [WF property] Do not execute if output files exist."
   ]
  },
  {
   "cell_type": "markdown",
   "metadata": {},
   "source": [
    "### YAML"
   ]
  },
  {
   "cell_type": "markdown",
   "metadata": {},
   "source": [
    "#### File config"
   ]
  },
  {
   "cell_type": "code",
   "execution_count": null,
   "metadata": {},
   "outputs": [],
   "source": [
    "properties:\n",
    "  predictors: ['sepal_length', 'sepal_width', 'petal_length', 'petal_width']\n",
    "  clusters: 3\n",
    "  linkage: average\n",
    "  plots: [\n",
    "    { \n",
    "      'title': 'Plot 1',\n",
    "      'features': ['sepal_length', 'sepal_width']\n",
    "    },\n",
    "    { \n",
    "      'title': 'Plot 2',\n",
    "      'features': ['petal_length', 'petal_width']\n",
    "    },\n",
    "    { \n",
    "      'title': 'Plot 3',\n",
    "      'features': ['sepal_length', 'sepal_width', 'petal_length']\n",
    "    },\n",
    "    { \n",
    "      'title': 'Plot 4',\n",
    "      'features': ['petal_length', 'petal_width', 'sepal_width']\n",
    "    },\n",
    "    { \n",
    "      'title': 'Plot 5',\n",
    "      'features': ['sepal_length', 'petal_width']\n",
    "    }\n",
    "  ]"
   ]
  },
  {
   "cell_type": "code",
   "execution_count": null,
   "metadata": {},
   "outputs": [],
   "source": [
    "agglomerative_clustering --conf data/conf/agglomerative_clustering.yml --input_dataset_path data/input/dataset_agglomerative_clustering.csv --output_results_path data/output/output_results_agglomerative_clustering.csv --output_plot_path data/output/output_plot_agglomerative_clustering.png"
   ]
  },
  {
   "cell_type": "markdown",
   "metadata": {},
   "source": [
    "### JSON"
   ]
  },
  {
   "cell_type": "markdown",
   "metadata": {},
   "source": [
    "#### File config"
   ]
  },
  {
   "cell_type": "code",
   "execution_count": null,
   "metadata": {},
   "outputs": [],
   "source": [
    "{\n",
    "    \"properties\": {\n",
    "        \"predictors\": [\"sepal_length\", \"sepal_width\", \"petal_length\", \"petal_width\"],\n",
    "        \"clusters\": 3,\n",
    "        \"linkage\": \"average\",\n",
    "        \"plots\": [\n",
    "            { \n",
    "              \"title\": \"Plot 1\",\n",
    "              \"features\": [\"sepal_length\", \"sepal_width\"]\n",
    "            },\n",
    "            { \n",
    "              \"title\": \"Plot 2\",\n",
    "              \"features\": [\"petal_length\", \"petal_width\"]\n",
    "            },\n",
    "            { \n",
    "              \"title\": \"Plot 3\",\n",
    "              \"features\": [\"sepal_length\", \"sepal_width\", \"petal_length\"]\n",
    "            },\n",
    "            { \n",
    "              \"title\": \"Plot 4\",\n",
    "              \"features\": [\"petal_length\", \"petal_width\", \"sepal_width\"]\n",
    "            },\n",
    "            { \n",
    "              \"title\": \"Plot 5\",\n",
    "              \"features\": [\"sepal_length\", \"petal_width\"]\n",
    "            }\n",
    "        ]\n",
    "    }\n",
    "}"
   ]
  },
  {
   "cell_type": "code",
   "execution_count": null,
   "metadata": {},
   "outputs": [],
   "source": [
    "agglomerative_clustering --conf data/conf/agglomerative_clustering.json --input_dataset_path data/input/dataset_agglomerative_clustering.csv --output_results_path data/output/output_results_agglomerative_clustering.csv --output_plot_path data/output/output_plot_agglomerative_clustering.png"
   ]
  },
  {
   "cell_type": "markdown",
   "metadata": {},
   "source": [
    "## dbscan"
   ]
  },
  {
   "cell_type": "markdown",
   "metadata": {},
   "source": [
    "Clusters a given dataset with DBSCAN clustering method."
   ]
  },
  {
   "cell_type": "markdown",
   "metadata": {},
   "source": [
    "### Get help"
   ]
  },
  {
   "cell_type": "code",
   "execution_count": null,
   "metadata": {},
   "outputs": [],
   "source": [
    "dbscan -h"
   ]
  },
  {
   "cell_type": "code",
   "execution_count": null,
   "metadata": {},
   "outputs": [],
   "source": [
    "usage: dbscan [-h] [--config CONFIG] --input_dataset_path INPUT_DATASET_PATH --output_results_path OUTPUT_RESULTS_PATH [--output_plot_path OUTPUT_PLOT_PATH]\n",
    "\n",
    "Clusters a given dataset with DBSCAN clustering method.\n",
    "\n",
    "optional arguments:\n",
    "  -h, --help            show this help message and exit\n",
    "  --config CONFIG       Configuration file\n",
    "  --output_plot_path OUTPUT_PLOT_PATH\n",
    "                        Path to the clustering plot. Accepted formats: png.\n",
    "\n",
    "required arguments:\n",
    "  --input_dataset_path INPUT_DATASET_PATH\n",
    "                        Path to the input dataset. Accepted formats: csv.\n",
    "  --output_results_path OUTPUT_RESULTS_PATH\n",
    "                        Path to the clustered dataset. Accepted formats: csv."
   ]
  },
  {
   "cell_type": "markdown",
   "metadata": {},
   "source": [
    "### I / O Arguments"
   ]
  },
  {
   "cell_type": "markdown",
   "metadata": {},
   "source": [
    "Syntax: input_argument (datatype) : Definition\n",
    "\n",
    "Config input / output arguments for this building block:\n",
    "\n",
    "* **input_dataset_path** (*str*): Path to the input dataset. File type: input. [Sample file](https://github.com/bioexcel/biobb_ml/raw/master/biobb_ml/test/data/clustering/dataset_dbscan.csv). Accepted formats: csv.\n",
    "* **output_results_path** (*str*): Path to the clustered dataset. File type: output. [Sample file](https://github.com/bioexcel/biobb_ml/raw/master/biobb_ml/test/reference/clustering/ref_output_results_dbscan.csv). Accepted formats: csv.\n",
    "* **output_plot_path** (*str*) (Optional): Path to the clustering plot. File type: output. [Sample file](https://github.com/bioexcel/biobb_ml/raw/master/biobb_ml/test/reference/clustering/ref_output_plot_dbscan.png). Accepted formats: png."
   ]
  },
  {
   "cell_type": "markdown",
   "metadata": {},
   "source": [
    "### Config"
   ]
  },
  {
   "cell_type": "markdown",
   "metadata": {},
   "source": [
    "Syntax: input_parameter (datatype) - (default_value) Definition\n",
    "\n",
    "\n",
    "Config parameters for this building block:\n",
    "\n",
    "* **predictors** (*list*) - (None) Features or columns from your dataset you want to use for fitting.\n",
    "* **eps** (*float*) - (0.5) The maximum distance between two samples for one to be considered as in the neighborhood of the other.\n",
    "* **min_samples** (*int*) - (5) The number of samples (or total weight) in a neighborhood for a point to be considered as a core point. This includes the point itself.\n",
    "* **plots** (*list*) - (None) List of dictionaries with all plots you want to generate. Only 2D or 3D plots accepted. Format: [ { 'title': 'Plot 1', 'features': ['feat1', 'feat2'] } ].\n",
    "* **remove_tmp** (*bool*) - (True) [WF property] Remove temporal files.\n",
    "* **restart** (*bool*) - (False) [WF property] Do not execute if output files exist."
   ]
  },
  {
   "cell_type": "markdown",
   "metadata": {},
   "source": [
    "### YAML"
   ]
  },
  {
   "cell_type": "markdown",
   "metadata": {},
   "source": [
    "#### File config"
   ]
  },
  {
   "cell_type": "code",
   "execution_count": null,
   "metadata": {},
   "outputs": [],
   "source": [
    "properties:\n",
    "  predictors: ['sepal_length', 'sepal_width', 'petal_length', 'petal_width']\n",
    "  eps: 1.4\n",
    "  min_samples: 3\n",
    "  plots: [\n",
    "    { \n",
    "      'title': 'Plot 1',\n",
    "      'features': ['sepal_length', 'sepal_width']\n",
    "    },\n",
    "    { \n",
    "      'title': 'Plot 2',\n",
    "      'features': ['petal_length', 'petal_width']\n",
    "    },\n",
    "    { \n",
    "      'title': 'Plot 3',\n",
    "      'features': ['sepal_length', 'sepal_width', 'petal_length']\n",
    "    },\n",
    "    { \n",
    "      'title': 'Plot 4',\n",
    "      'features': ['petal_length', 'petal_width', 'sepal_width']\n",
    "    },\n",
    "    { \n",
    "      'title': 'Plot 5',\n",
    "      'features': ['sepal_length', 'petal_width']\n",
    "    }\n",
    "  ]"
   ]
  },
  {
   "cell_type": "code",
   "execution_count": null,
   "metadata": {},
   "outputs": [],
   "source": [
    "dbscan --conf data/conf/dbscan.yml --input_dataset_path data/input/dataset_dbscan.csv --output_results_path data/output/output_results_dbscan.csv --output_plot_path data/output/output_plot_dbscan.png"
   ]
  },
  {
   "cell_type": "markdown",
   "metadata": {},
   "source": [
    "### JSON"
   ]
  },
  {
   "cell_type": "markdown",
   "metadata": {},
   "source": [
    "#### File config"
   ]
  },
  {
   "cell_type": "code",
   "execution_count": null,
   "metadata": {},
   "outputs": [],
   "source": [
    "{\n",
    "    \"properties\": {\n",
    "        \"predictors\": [\"sepal_length\", \"sepal_width\", \"petal_length\", \"petal_width\"],\n",
    "        \"eps\": 1.4,\n",
    "        \"min_samples\":3,\n",
    "        \"plots\": [\n",
    "            { \n",
    "              \"title\": \"Plot 1\",\n",
    "              \"features\": [\"sepal_length\", \"sepal_width\"]\n",
    "            },\n",
    "            { \n",
    "              \"title\": \"Plot 2\",\n",
    "              \"features\": [\"petal_length\", \"petal_width\"]\n",
    "            },\n",
    "            { \n",
    "              \"title\": \"Plot 3\",\n",
    "              \"features\": [\"sepal_length\", \"sepal_width\", \"petal_length\"]\n",
    "            },\n",
    "            { \n",
    "              \"title\": \"Plot 4\",\n",
    "              \"features\": [\"petal_length\", \"petal_width\", \"sepal_width\"]\n",
    "            },\n",
    "            { \n",
    "              \"title\": \"Plot 5\",\n",
    "              \"features\": [\"sepal_length\", \"petal_width\"]\n",
    "            }\n",
    "        ]\n",
    "    }\n",
    "}"
   ]
  },
  {
   "cell_type": "code",
   "execution_count": null,
   "metadata": {},
   "outputs": [],
   "source": [
    "dbscan --conf data/conf/dbscan.json --input_dataset_path data/input/dataset_dbscan.csv --output_results_path data/output/output_results_dbscan.csv --output_plot_path data/output/output_plot_dbscan.png"
   ]
  },
  {
   "cell_type": "markdown",
   "metadata": {},
   "source": [
    "## k_means_coefficient"
   ]
  },
  {
   "cell_type": "markdown",
   "metadata": {},
   "source": [
    "Clusters a given dataset and calculates best K coefficient for a k-means clustering."
   ]
  },
  {
   "cell_type": "markdown",
   "metadata": {},
   "source": [
    "### Get help"
   ]
  },
  {
   "cell_type": "code",
   "execution_count": null,
   "metadata": {},
   "outputs": [],
   "source": [
    "k_means_coefficient -h"
   ]
  },
  {
   "cell_type": "code",
   "execution_count": null,
   "metadata": {},
   "outputs": [],
   "source": [
    "usage: k_means_coefficient [-h] [--config CONFIG] --input_dataset_path INPUT_DATASET_PATH --output_results_path OUTPUT_RESULTS_PATH [--output_plot_path OUTPUT_PLOT_PATH]\n",
    "\n",
    "Clusters a given dataset and calculates best K coefficient for a k-means clustering.\n",
    "\n",
    "optional arguments:\n",
    "  -h, --help            show this help message and exit\n",
    "  --config CONFIG       Configuration file\n",
    "  --output_plot_path OUTPUT_PLOT_PATH\n",
    "                        Path to the elbow and gap methods plot. Accepted formats: png.\n",
    "\n",
    "required arguments:\n",
    "  --input_dataset_path INPUT_DATASET_PATH\n",
    "                        Path to the input dataset. Accepted formats: csv.\n",
    "  --output_results_path OUTPUT_RESULTS_PATH\n",
    "                        Table with WCSS (elbow method), Gap and Silhouette coefficients for each cluster. Accepted formats: csv."
   ]
  },
  {
   "cell_type": "markdown",
   "metadata": {},
   "source": [
    "### I / O Arguments"
   ]
  },
  {
   "cell_type": "markdown",
   "metadata": {},
   "source": [
    "Syntax: input_argument (datatype) : Definition\n",
    "\n",
    "Config input / output arguments for this building block:\n",
    "\n",
    "* **input_dataset_path** (*str*): Path to the input dataset. File type: input. [Sample file](https://github.com/bioexcel/biobb_ml/raw/master/biobb_ml/test/data/clustering/dataset_k_means_coefficient.csv). Accepted formats: csv.\n",
    "* **output_results_path** (*str*) (Optional):  Table with WCSS (elbow method), Gap and Silhouette coefficients for each cluster. File type: output. [Sample file](https://github.com/bioexcel/biobb_ml/raw/master/biobb_ml/test/reference/clustering/ref_output_results_k_means_coefficient.csv). Accepted formats: csv.\n",
    "* **output_plot_path** (*str*) (Optional): Path to the elbow method and gap statistics plot. File type: output. [Sample file](https://github.com/bioexcel/biobb_ml/raw/master/biobb_ml/test/reference/clustering/ref_output_plot_k_means_coefficient.png). Accepted formats: png."
   ]
  },
  {
   "cell_type": "markdown",
   "metadata": {},
   "source": [
    "### Config"
   ]
  },
  {
   "cell_type": "markdown",
   "metadata": {},
   "source": [
    "Syntax: input_parameter (datatype) - (default_value) Definition\n",
    "\n",
    "\n",
    "Config parameters for this building block:\n",
    "\n",
    "* **predictors** (*list*) - (None) Features or columns from your dataset you want to use for fitting.\n",
    "* **max_clusters** (*int*) - (6) Maximum number of clusters to use by default for kmeans queries.\n",
    "* **remove_tmp** (*bool*) - (True) [WF property] Remove temporal files.\n",
    "* **restart** (*bool*) - (False) [WF property] Do not execute if output files exist."
   ]
  },
  {
   "cell_type": "markdown",
   "metadata": {},
   "source": [
    "### YAML"
   ]
  },
  {
   "cell_type": "markdown",
   "metadata": {},
   "source": [
    "#### File config"
   ]
  },
  {
   "cell_type": "code",
   "execution_count": null,
   "metadata": {},
   "outputs": [],
   "source": [
    "properties:\n",
    "  predictors: ['sepal_length', 'sepal_width']\n",
    "  max_clusters: 10"
   ]
  },
  {
   "cell_type": "code",
   "execution_count": null,
   "metadata": {},
   "outputs": [],
   "source": [
    "k_means_coefficient --conf data/conf/k_means_coefficient.yml --input_dataset_path data/input/dataset_k_means_coefficient.csv --output_results_path data/output/output_results_k_means_coefficient.csv --output_plot_path data/output/output_plot_k_means_coefficient.png"
   ]
  },
  {
   "cell_type": "markdown",
   "metadata": {},
   "source": [
    "### JSON"
   ]
  },
  {
   "cell_type": "markdown",
   "metadata": {},
   "source": [
    "#### File config"
   ]
  },
  {
   "cell_type": "code",
   "execution_count": null,
   "metadata": {},
   "outputs": [],
   "source": [
    "{\n",
    "    \"properties\": {\n",
    "        \"predictors\": [\"sepal_length\", \"sepal_width\"],\n",
    "        \"max_clusters\": 10\n",
    "    }\n",
    "}"
   ]
  },
  {
   "cell_type": "code",
   "execution_count": null,
   "metadata": {},
   "outputs": [],
   "source": [
    "k_means_coefficient --conf data/conf/k_means_coefficient.json --input_dataset_path data/input/dataset_k_means_coefficient.csv --output_results_path data/output/output_results_k_means_coefficient.csv --output_plot_path data/output/output_plot_k_means_coefficient.png"
   ]
  },
  {
   "cell_type": "markdown",
   "metadata": {},
   "source": [
    "## k_means"
   ]
  },
  {
   "cell_type": "markdown",
   "metadata": {},
   "source": [
    "Clusters a given dataset and saves a model with k-means clustering method."
   ]
  },
  {
   "cell_type": "markdown",
   "metadata": {},
   "source": [
    "### Get help"
   ]
  },
  {
   "cell_type": "code",
   "execution_count": null,
   "metadata": {},
   "outputs": [],
   "source": [
    "k_means -h"
   ]
  },
  {
   "cell_type": "code",
   "execution_count": null,
   "metadata": {},
   "outputs": [],
   "source": [
    "usage: k_means [-h] [--config CONFIG] --input_dataset_path INPUT_DATASET_PATH --output_results_path OUTPUT_RESULTS_PATH --output_model_path OUTPUT_MODEL_PATH [--output_plot_path OUTPUT_PLOT_PATH]\n",
    "\n",
    "Clusters a given dataset and saves a model with k-means clustering method.\n",
    "\n",
    "optional arguments:\n",
    "  -h, --help            show this help message and exit\n",
    "  --config CONFIG       Configuration file\n",
    "  --output_plot_path OUTPUT_PLOT_PATH\n",
    "                        Path to the clustering plot. Accepted formats: png.\n",
    "\n",
    "required arguments:\n",
    "  --input_dataset_path INPUT_DATASET_PATH\n",
    "                        Path to the input dataset. Accepted formats: csv.\n",
    "  --output_results_path OUTPUT_RESULTS_PATH\n",
    "                        Path to the clustered dataset. Accepted formats: csv.\n",
    "  --output_model_path OUTPUT_MODEL_PATH\n",
    "                        Path to the output model file. Accepted formats: pkl."
   ]
  },
  {
   "cell_type": "markdown",
   "metadata": {},
   "source": [
    "### I / O Arguments"
   ]
  },
  {
   "cell_type": "markdown",
   "metadata": {},
   "source": [
    "Syntax: input_argument (datatype) : Definition\n",
    "\n",
    "Config input / output arguments for this building block:\n",
    "\n",
    "* **input_dataset_path** (*str*): Path to the input dataset. File type: input. [Sample file](https://github.com/bioexcel/biobb_ml/raw/master/biobb_ml/test/data/clustering/dataset_k_means.csv). Accepted formats: csv.\n",
    "* **output_results_path** (*str*): Path to the clustered dataset. File type: output. [Sample file](https://github.com/bioexcel/biobb_ml/raw/master/biobb_ml/test/reference/clustering/ref_output_results_k_means.csv). Accepted formats: csv.\n",
    "* **output_model_path** (*str*): Path to the output model file. File type: output. [Sample file](https://github.com/bioexcel/biobb_ml/raw/master/biobb_ml/test/reference/clustering/ref_output_model_k_means.pkl). Accepted formats: csv.\n",
    "* **output_plot_path** (*str*) (Optional): Path to the clustering plot. File type: output. [Sample file](https://github.com/bioexcel/biobb_ml/raw/master/biobb_ml/test/reference/clustering/ref_output_plot_k_means.png). Accepted formats: png."
   ]
  },
  {
   "cell_type": "markdown",
   "metadata": {},
   "source": [
    "### Config"
   ]
  },
  {
   "cell_type": "markdown",
   "metadata": {},
   "source": [
    "Syntax: input_parameter (datatype) - (default_value) Definition\n",
    "\n",
    "\n",
    "Config parameters for this building block:\n",
    "\n",
    "* **predictors** (*list*) - (None) Features or columns from your dataset you want to use for fitting.\n",
    "* **clusters** (*int*) - (3) The number of clusters to form as well as the number of centroids to generate.\n",
    "* **plots** (*list*) - (None) List of dictionaries with all plots you want to generate. Only 2D or 3D plots accepted. Format: [ { 'title': 'Plot 1', 'features': ['feat1', 'feat2'] } ].\n",
    "* **remove_tmp** (*bool*) - (True) [WF property] Remove temporal files.\n",
    "* **restart** (*bool*) - (False) [WF property] Do not execute if output files exist."
   ]
  },
  {
   "cell_type": "markdown",
   "metadata": {},
   "source": [
    "### YAML"
   ]
  },
  {
   "cell_type": "markdown",
   "metadata": {},
   "source": [
    "#### File config"
   ]
  },
  {
   "cell_type": "code",
   "execution_count": null,
   "metadata": {},
   "outputs": [],
   "source": [
    "properties:\n",
    "  predictors: ['sepal_length', 'sepal_width', 'petal_length', 'petal_width']\n",
    "  clusters: 3\n",
    "  plots: [\n",
    "    { \n",
    "      'title': 'Plot 1',\n",
    "      'features': ['sepal_length', 'sepal_width']\n",
    "    },\n",
    "    { \n",
    "      'title': 'Plot 2',\n",
    "      'features': ['petal_length', 'petal_width']\n",
    "    },\n",
    "    { \n",
    "      'title': 'Plot 3',\n",
    "      'features': ['sepal_length', 'sepal_width', 'petal_length']\n",
    "    },\n",
    "    { \n",
    "      'title': 'Plot 4',\n",
    "      'features': ['petal_length', 'petal_width', 'sepal_width']\n",
    "    },\n",
    "    { \n",
    "      'title': 'Plot 5',\n",
    "      'features': ['sepal_length', 'petal_width']\n",
    "    }\n",
    "  ]"
   ]
  },
  {
   "cell_type": "code",
   "execution_count": null,
   "metadata": {},
   "outputs": [],
   "source": [
    "k_means --conf data/conf/kmeans.yml --input_dataset_path data/input/dataset_k_means.csv --output_results_path data/output/output_results_k_means.csv --output_model_path data/output/output_model_k_means.pkl --output_plot_path data/output/output_plot_k_means.png"
   ]
  },
  {
   "cell_type": "markdown",
   "metadata": {},
   "source": [
    "### JSON"
   ]
  },
  {
   "cell_type": "markdown",
   "metadata": {},
   "source": [
    "#### File config"
   ]
  },
  {
   "cell_type": "code",
   "execution_count": null,
   "metadata": {},
   "outputs": [],
   "source": [
    "{\n",
    "    \"properties\": {\n",
    "        \"predictors\": [\"sepal_length\", \"sepal_width\", \"petal_length\", \"petal_width\"],\n",
    "        \"clusters\": 3,\n",
    "        \"plots\": [\n",
    "            { \n",
    "              \"title\": \"Plot 1\",\n",
    "              \"features\": [\"sepal_length\", \"sepal_width\"]\n",
    "            },\n",
    "            { \n",
    "              \"title\": \"Plot 2\",\n",
    "              \"features\": [\"petal_length\", \"petal_width\"]\n",
    "            },\n",
    "            { \n",
    "              \"title\": \"Plot 3\",\n",
    "              \"features\": [\"sepal_length\", \"sepal_width\", \"petal_length\"]\n",
    "            },\n",
    "            { \n",
    "              \"title\": \"Plot 4\",\n",
    "              \"features\": [\"petal_length\", \"petal_width\", \"sepal_width\"]\n",
    "            },\n",
    "            { \n",
    "              \"title\": \"Plot 5\",\n",
    "              \"features\": [\"sepal_length\", \"petal_width\"]\n",
    "            }\n",
    "        ]\n",
    "    }\n",
    "}"
   ]
  },
  {
   "cell_type": "code",
   "execution_count": null,
   "metadata": {},
   "outputs": [],
   "source": [
    "k_means --conf data/conf/kmeans.json --input_dataset_path data/input/dataset_k_means.csv --output_results_path data/output/output_results_k_means.csv --output_model_path data/output/output_model_k_means.pkl --output_plot_path data/output/output_plot_k_means.png"
   ]
  },
  {
   "cell_type": "markdown",
   "metadata": {},
   "source": [
    "## spectral_coefficient"
   ]
  },
  {
   "cell_type": "markdown",
   "metadata": {},
   "source": [
    "Clusters a given dataset and calculates best K coefficient for a spectral clustering."
   ]
  },
  {
   "cell_type": "markdown",
   "metadata": {},
   "source": [
    "### Get help"
   ]
  },
  {
   "cell_type": "code",
   "execution_count": null,
   "metadata": {},
   "outputs": [],
   "source": [
    "spectral_coefficient -h"
   ]
  },
  {
   "cell_type": "code",
   "execution_count": null,
   "metadata": {},
   "outputs": [],
   "source": [
    "usage: spectral_coefficient [-h] [--config CONFIG] --input_dataset_path INPUT_DATASET_PATH --output_results_path OUTPUT_RESULTS_PATH [--output_plot_path OUTPUT_PLOT_PATH]\n",
    "\n",
    "Clusters a given dataset and calculates best K coefficient for a k-means clustering.\n",
    "\n",
    "optional arguments:\n",
    "  -h, --help            show this help message and exit\n",
    "  --config CONFIG       Configuration file\n",
    "  --output_plot_path OUTPUT_PLOT_PATH\n",
    "                        Path to the elbow and gap methods plot. Accepted formats: png.\n",
    "\n",
    "required arguments:\n",
    "  --input_dataset_path INPUT_DATASET_PATH\n",
    "                        Path to the input dataset. Accepted formats: csv.\n",
    "  --output_results_path OUTPUT_RESULTS_PATH\n",
    "                        Table with WCSS (elbow method), Gap and Silhouette coefficients for each cluster. Accepted formats: csv."
   ]
  },
  {
   "cell_type": "markdown",
   "metadata": {},
   "source": [
    "### I / O Arguments"
   ]
  },
  {
   "cell_type": "markdown",
   "metadata": {},
   "source": [
    "Syntax: input_argument (datatype) : Definition\n",
    "\n",
    "Config input / output arguments for this building block:\n",
    "\n",
    "* **input_dataset_path** (*str*): Path to the input dataset. File type: input. [Sample file](https://github.com/bioexcel/biobb_ml/raw/master/biobb_ml/test/data/clustering/dataset_spectral_coefficient.csv). Accepted formats: csv.\n",
    "* **output_results_path** (*str*) (Optional):  Table with WCSS (elbow method), Gap and Silhouette coefficients for each cluster. File type: output. [Sample file](https://github.com/bioexcel/biobb_ml/raw/master/biobb_ml/test/reference/clustering/ref_output_results_spectral_coefficient.csv). Accepted formats: csv.\n",
    "* **output_plot_path** (*str*) (Optional): Path to the elbow method and gap statistics plot. File type: output. [Sample file](https://github.com/bioexcel/biobb_ml/raw/master/biobb_ml/test/reference/clustering/ref_output_plot_spectral_coefficient.png). Accepted formats: png."
   ]
  },
  {
   "cell_type": "markdown",
   "metadata": {},
   "source": [
    "### Config"
   ]
  },
  {
   "cell_type": "markdown",
   "metadata": {},
   "source": [
    "Syntax: input_parameter (datatype) - (default_value) Definition\n",
    "\n",
    "\n",
    "Config parameters for this building block:\n",
    "\n",
    "* **predictors** (*list*) - (None) Features or columns from your dataset you want to use for fitting.\n",
    "* **max_clusters** (*int*) - (6) Maximum number of clusters to use by default for kmeans queries.\n",
    "* **remove_tmp** (*bool*) - (True) [WF property] Remove temporal files.\n",
    "* **restart** (*bool*) - (False) [WF property] Do not execute if output files exist."
   ]
  },
  {
   "cell_type": "markdown",
   "metadata": {},
   "source": [
    "### YAML"
   ]
  },
  {
   "cell_type": "markdown",
   "metadata": {},
   "source": [
    "#### File config"
   ]
  },
  {
   "cell_type": "code",
   "execution_count": null,
   "metadata": {},
   "outputs": [],
   "source": [
    "properties:\n",
    "  predictors: ['sepal_length', 'sepal_width']\n",
    "  max_clusters: 10"
   ]
  },
  {
   "cell_type": "code",
   "execution_count": null,
   "metadata": {},
   "outputs": [],
   "source": [
    "spectral_coefficient --conf data/conf/spectral_coefficient.yml --input_dataset_path data/input/dataset_spectral_coefficient.csv --output_results_path data/output/output_results_spectral_coefficient.csv --output_plot_path data/output/output_plot_spectral_coefficient.png"
   ]
  },
  {
   "cell_type": "markdown",
   "metadata": {},
   "source": [
    "### JSON"
   ]
  },
  {
   "cell_type": "markdown",
   "metadata": {},
   "source": [
    "#### File config"
   ]
  },
  {
   "cell_type": "code",
   "execution_count": null,
   "metadata": {},
   "outputs": [],
   "source": [
    "{\n",
    "    \"properties\": {\n",
    "        \"predictors\": [\"sepal_length\", \"sepal_width\"],\n",
    "        \"max_clusters\": 10\n",
    "    }\n",
    "}"
   ]
  },
  {
   "cell_type": "code",
   "execution_count": null,
   "metadata": {},
   "outputs": [],
   "source": [
    "spectral_coefficient --conf data/conf/spectral_coefficient.json --input_dataset_path data/input/dataset_spectral_coefficient.csv --output_results_path data/output/output_results_spectral_coefficient.csv --output_plot_path data/output/output_plot_spectral_coefficient.png"
   ]
  },
  {
   "cell_type": "markdown",
   "metadata": {},
   "source": [
    "## spectral_clustering"
   ]
  },
  {
   "cell_type": "markdown",
   "metadata": {},
   "source": [
    "Clusters a given dataset with spectral clustering method."
   ]
  },
  {
   "cell_type": "markdown",
   "metadata": {},
   "source": [
    "### Get help"
   ]
  },
  {
   "cell_type": "code",
   "execution_count": null,
   "metadata": {},
   "outputs": [],
   "source": [
    "spectral_clustering -h"
   ]
  },
  {
   "cell_type": "code",
   "execution_count": null,
   "metadata": {},
   "outputs": [],
   "source": [
    "usage: spectral_clustering [-h] [--config CONFIG] --input_dataset_path INPUT_DATASET_PATH --output_results_path OUTPUT_RESULTS_PATH [--output_plot_path OUTPUT_PLOT_PATH]\n",
    "\n",
    "Clusters a given dataset with spectral clustering method.\n",
    "\n",
    "optional arguments:\n",
    "  -h, --help            show this help message and exit\n",
    "  --config CONFIG       Configuration file\n",
    "  --output_plot_path OUTPUT_PLOT_PATH\n",
    "                        Path to the clustering plot. Accepted formats: png.\n",
    "\n",
    "required arguments:\n",
    "  --input_dataset_path INPUT_DATASET_PATH\n",
    "                        Path to the input dataset. Accepted formats: csv.\n",
    "  --output_results_path OUTPUT_RESULTS_PATH\n",
    "                        Path to the clustered dataset. Accepted formats: csv."
   ]
  },
  {
   "cell_type": "markdown",
   "metadata": {},
   "source": [
    "### I / O Arguments"
   ]
  },
  {
   "cell_type": "markdown",
   "metadata": {},
   "source": [
    "Syntax: input_argument (datatype) : Definition\n",
    "\n",
    "Config input / output arguments for this building block:\n",
    "\n",
    "* **input_dataset_path** (*str*): Path to the input dataset. File type: input. [Sample file](https://github.com/bioexcel/biobb_ml/raw/master/biobb_ml/test/data/clustering/dataset_spectral_clustering.csv). Accepted formats: csv.\n",
    "* **output_results_path** (*str*): Path to the clustered dataset. File type: output. [Sample file](https://github.com/bioexcel/biobb_ml/raw/master/biobb_ml/test/reference/clustering/ref_output_results_spectral_clustering.csv). Accepted formats: csv.\n",
    "* **output_plot_path** (*str*) (Optional): Path to the clustering plot. File type: output. [Sample file](https://github.com/bioexcel/biobb_ml/raw/master/biobb_ml/test/reference/clustering/ref_output_plot_spectral_clustering.png). Accepted formats: png."
   ]
  },
  {
   "cell_type": "markdown",
   "metadata": {},
   "source": [
    "### Config"
   ]
  },
  {
   "cell_type": "markdown",
   "metadata": {},
   "source": [
    "Syntax: input_parameter (datatype) - (default_value) Definition\n",
    "\n",
    "\n",
    "Config parameters for this building block:\n",
    "\n",
    "* **predictors** (*list*) - (None) Features or columns from your dataset you want to use for fitting.\n",
    "* **clusters** (*int*) - (3) The number of clusters to form as well as the number of centroids to generate.\n",
    "* **affinity** (*string*) - (\"rbf\") How to construct the affinity matrix. Values:  nearest_neighbors, rbf, precomputed, precomputed_nearest_neighbors.\n",
    "* **plots** (*list*) - (None) List of dictionaries with all plots you want to generate. Only 2D or 3D plots accepted. Format: [ { 'title': 'Plot 1', 'features': ['feat1', 'feat2'] } ].\n",
    "* **remove_tmp** (*bool*) - (True) [WF property] Remove temporal files.\n",
    "* **restart** (*bool*) - (False) [WF property] Do not execute if output files exist."
   ]
  },
  {
   "cell_type": "markdown",
   "metadata": {},
   "source": [
    "### YAML"
   ]
  },
  {
   "cell_type": "markdown",
   "metadata": {},
   "source": [
    "#### File config"
   ]
  },
  {
   "cell_type": "code",
   "execution_count": null,
   "metadata": {},
   "outputs": [],
   "source": [
    "properties:\n",
    "  predictors: ['sepal_length', 'sepal_width', 'petal_length', 'petal_width']\n",
    "  clusters: 3\n",
    "  affinity: 'nearest_neighbors'\n",
    "  plots: [\n",
    "    { \n",
    "      'title': 'Plot 1',\n",
    "      'features': ['sepal_length', 'sepal_width']\n",
    "    },\n",
    "    { \n",
    "      'title': 'Plot 2',\n",
    "      'features': ['petal_length', 'petal_width']\n",
    "    },\n",
    "    { \n",
    "      'title': 'Plot 3',\n",
    "      'features': ['sepal_length', 'sepal_width', 'petal_length']\n",
    "    },\n",
    "    { \n",
    "      'title': 'Plot 4',\n",
    "      'features': ['petal_length', 'petal_width', 'sepal_width']\n",
    "    },\n",
    "    { \n",
    "      'title': 'Plot 5',\n",
    "      'features': ['sepal_length', 'petal_width']\n",
    "    }\n",
    "  ]"
   ]
  },
  {
   "cell_type": "code",
   "execution_count": null,
   "metadata": {},
   "outputs": [],
   "source": [
    "spectral_clustering --conf data/conf/spectral_clustering.yml --input_dataset_path data/input/dataset_spectral_clustering.csv --output_results_path data/output/output_results_spectral_clustering.csv --output_plot_path data/output/output_plot_spectral_clustering.png"
   ]
  },
  {
   "cell_type": "markdown",
   "metadata": {},
   "source": [
    "### JSON"
   ]
  },
  {
   "cell_type": "markdown",
   "metadata": {},
   "source": [
    "#### File config"
   ]
  },
  {
   "cell_type": "code",
   "execution_count": null,
   "metadata": {},
   "outputs": [],
   "source": [
    "{\n",
    "    \"properties\": {\n",
    "        \"predictors\": [\"sepal_length\", \"sepal_width\", \"petal_length\", \"petal_width\"],\n",
    "        \"clusters\": 3,\n",
    "        \"affinity\": \"nearest_neighbors\",\n",
    "        \"plots\": [\n",
    "            { \n",
    "              \"title\": \"Plot 1\",\n",
    "              \"features\": [\"sepal_length\", \"sepal_width\"]\n",
    "            },\n",
    "            { \n",
    "              \"title\": \"Plot 2\",\n",
    "              \"features\": [\"petal_length\", \"petal_width\"]\n",
    "            },\n",
    "            { \n",
    "              \"title\": \"Plot 3\",\n",
    "              \"features\": [\"sepal_length\", \"sepal_width\", \"petal_length\"]\n",
    "            },\n",
    "            { \n",
    "              \"title\": \"Plot 4\",\n",
    "              \"features\": [\"petal_length\", \"petal_width\", \"sepal_width\"]\n",
    "            },\n",
    "            { \n",
    "              \"title\": \"Plot 5\",\n",
    "              \"features\": [\"sepal_length\", \"petal_width\"]\n",
    "            }\n",
    "        ]\n",
    "    }\n",
    "}"
   ]
  },
  {
   "cell_type": "code",
   "execution_count": null,
   "metadata": {},
   "outputs": [],
   "source": [
    "spectral_clustering --conf data/conf/spectral_clustering.json --input_dataset_path data/input/dataset_spectral_clustering.csv --output_results_path data/output/output_results_spectral_clustering.csv --output_plot_path data/output/output_plot_spectral_clustering.png"
   ]
  },
  {
   "cell_type": "markdown",
   "metadata": {},
   "source": [
    "## clustering_predict"
   ]
  },
  {
   "cell_type": "markdown",
   "metadata": {},
   "source": [
    "Makes predictions from a given model."
   ]
  },
  {
   "cell_type": "markdown",
   "metadata": {},
   "source": [
    "### Get help"
   ]
  },
  {
   "cell_type": "code",
   "execution_count": null,
   "metadata": {},
   "outputs": [],
   "source": [
    "clustering_predict -h"
   ]
  },
  {
   "cell_type": "code",
   "execution_count": null,
   "metadata": {},
   "outputs": [],
   "source": [
    "usage: clustering_predict [-h] [--config CONFIG] --input_model_path INPUT_MODEL_PATH --output_results_path OUTPUT_RESULTS_PATH\n",
    "\n",
    "Makes predictions from a given model.\n",
    "\n",
    "optional arguments:\n",
    "  -h, --help            show this help message and exit\n",
    "  --config CONFIG       Configuration file\n",
    "\n",
    "required arguments:\n",
    "  --input_model_path INPUT_MODEL_PATH\n",
    "                        Path to the input model. Accepted formats: pkl.\n",
    "  --output_results_path OUTPUT_RESULTS_PATH\n",
    "                        Path to the output results file. Accepted formats: csv."
   ]
  },
  {
   "cell_type": "markdown",
   "metadata": {},
   "source": [
    "### I / O Arguments"
   ]
  },
  {
   "cell_type": "markdown",
   "metadata": {},
   "source": [
    "Syntax: input_argument (datatype) : Definition\n",
    "\n",
    "Config input / output arguments for this building block:\n",
    "\n",
    "* **input_model_path** (*str*): Path to the input model.File type: input. [Sample file](https://github.com/bioexcel/biobb_ml/raw/master/biobb_ml/test/data/clustering/model_clustering_predict.pkl). Accepted formats: pkl.\n",
    "* **output_results_path** (*str*): Path to the output results file. File type: output. [Sample file](https://github.com/bioexcel/biobb_ml/raw/master/biobb_ml/test/reference/clustering/ref_output_results_clustering_predict.csv). Accepted formats: csv."
   ]
  },
  {
   "cell_type": "markdown",
   "metadata": {},
   "source": [
    "### Config"
   ]
  },
  {
   "cell_type": "markdown",
   "metadata": {},
   "source": [
    "Syntax: input_parameter (datatype) - (default_value) Definition\n",
    "\n",
    "\n",
    "Config parameters for this building block:\n",
    "\n",
    "* **predictions** (*list*) - (None) List of dictionaries with all values you want to predict targets.\n",
    "* **remove_tmp** (*bool*) - (True) [WF property] Remove temporal files.\n",
    "* **restart** (*bool*) - (False) [WF property] Do not execute if output files exist."
   ]
  },
  {
   "cell_type": "markdown",
   "metadata": {},
   "source": [
    "### YAML"
   ]
  },
  {
   "cell_type": "markdown",
   "metadata": {},
   "source": [
    "#### File config"
   ]
  },
  {
   "cell_type": "code",
   "execution_count": null,
   "metadata": {},
   "outputs": [],
   "source": [
    "properties:\n",
    "  predictions: [\n",
    "    { 'sepal_length': 5.1, 'sepal_width': 3.5, 'petal_length': 1.4, 'petal_width': 0.2 },\n",
    "    { 'sepal_length': 6.7, 'sepal_width': 3.0, 'petal_length': 5.2, 'petal_width': 2.3 },\n",
    "    { 'sepal_length': 6.3, 'sepal_width': 2.5, 'petal_length': 5.0, 'petal_width': 1.9 }\n",
    "  ]"
   ]
  },
  {
   "cell_type": "code",
   "execution_count": null,
   "metadata": {},
   "outputs": [],
   "source": [
    "clustering_predict --conf data/conf/clustering_predict.yml --input_model_path data/input/model_clustering_predict.pkl --output_results_path data/output/output_results_clustering_predict.csv"
   ]
  },
  {
   "cell_type": "markdown",
   "metadata": {},
   "source": [
    "### JSON"
   ]
  },
  {
   "cell_type": "markdown",
   "metadata": {},
   "source": [
    "#### File config"
   ]
  },
  {
   "cell_type": "code",
   "execution_count": null,
   "metadata": {},
   "outputs": [],
   "source": [
    "{\n",
    "    \"properties\": {\n",
    "        \"predictions\": [\n",
    "            { \"sepal_length\": 5.1, \"sepal_width\": 3.5, \"petal_length\": 1.4, \"petal_width\": 0.2 },\n",
    "            { \"sepal_length\": 6.7, \"sepal_width\": 3.0, \"petal_length\": 5.2, \"petal_width\": 2.3 },\n",
    "            { \"sepal_length\": 6.3, \"sepal_width\": 2.5, \"petal_length\": 5.0, \"petal_width\": 1.9 }\n",
    "        ]\n",
    "    }\n",
    "}"
   ]
  },
  {
   "cell_type": "code",
   "execution_count": null,
   "metadata": {
    "scrolled": true
   },
   "outputs": [],
   "source": [
    "clustering_predict --conf data/conf/clustering_predict.json --input_model_path data/input/model_clustering_predict.pkl --output_results_path data/output/output_results_clustering_predict.csv"
   ]
  },
  {
   "cell_type": "markdown",
   "metadata": {},
   "source": [
    "## correlation_matrix"
   ]
  },
  {
   "cell_type": "markdown",
   "metadata": {},
   "source": [
    "Generates a correlation matrix from a given dataset."
   ]
  },
  {
   "cell_type": "markdown",
   "metadata": {},
   "source": [
    "### Get help"
   ]
  },
  {
   "cell_type": "code",
   "execution_count": null,
   "metadata": {},
   "outputs": [],
   "source": [
    "correlation_matrix -h"
   ]
  },
  {
   "cell_type": "code",
   "execution_count": null,
   "metadata": {},
   "outputs": [],
   "source": [
    "usage: correlation_matrix [-h] [--config CONFIG] --input_dataset_path INPUT_DATASET_PATH --output_plot_path OUTPUT_PLOT_PATH\n",
    "\n",
    "Generates a correlation matrix from a given dataset\n",
    "\n",
    "optional arguments:\n",
    "  -h, --help            show this help message and exit\n",
    "  --config CONFIG       Configuration file\n",
    "\n",
    "required arguments:\n",
    "  --input_dataset_path INPUT_DATASET_PATH\n",
    "                        Path to the input dataset. Accepted formats: csv.\n",
    "  --output_plot_path OUTPUT_PLOT_PATH\n",
    "                        Path to the correlation matrix plot. Accepted formats: png."
   ]
  },
  {
   "cell_type": "markdown",
   "metadata": {},
   "source": [
    "### I / O Arguments"
   ]
  },
  {
   "cell_type": "markdown",
   "metadata": {},
   "source": [
    "Syntax: input_argument (datatype) : Definition\n",
    "\n",
    "Config input / output arguments for this building block:\n",
    "\n",
    "* **input_dataset_path** (*str*): Path to the input dataset. File type: input. [Sample file](https://github.com/bioexcel/biobb_ml/raw/master/biobb_ml/test/data/utils/dataset_correlation_matrix.csv). Accepted formats: csv.\n",
    "* **output_plot_path** (*str*): Path to the correlation matrix plot. File type: output. [Sample file](https://github.com/bioexcel/biobb_ml/raw/master/biobb_ml/test/reference/utils/ref_output_plot_correlation_matrix.png). Accepted formats: png."
   ]
  },
  {
   "cell_type": "markdown",
   "metadata": {},
   "source": [
    "### Config"
   ]
  },
  {
   "cell_type": "markdown",
   "metadata": {},
   "source": [
    "Syntax: input_parameter (datatype) - (default_value) Definition\n",
    "\n",
    "\n",
    "Config parameters for this building block:\n",
    "\n",
    "* **features** (*list*) - (None) List with all features to compare.\n",
    "* **remove_tmp** (*bool*) - (True) [WF property] Remove temporal files.\n",
    "* **restart** (*bool*) - (False) [WF property] Do not execute if output files exist."
   ]
  },
  {
   "cell_type": "markdown",
   "metadata": {},
   "source": [
    "### YAML"
   ]
  },
  {
   "cell_type": "markdown",
   "metadata": {},
   "source": [
    "#### File config"
   ]
  },
  {
   "cell_type": "code",
   "execution_count": null,
   "metadata": {},
   "outputs": [],
   "source": [
    "properties:\n",
    "  features: ['sepal_length', 'sepal_width', 'petal_length', 'petal_width']"
   ]
  },
  {
   "cell_type": "code",
   "execution_count": null,
   "metadata": {},
   "outputs": [],
   "source": [
    "correlation_matrix --conf data/conf/correlation_matrix.yml --input_dataset_path data/input/dataset_correlation_matrix.csv --output_plot_path data/output/output_plot_correlation_matrix.png"
   ]
  },
  {
   "cell_type": "markdown",
   "metadata": {},
   "source": [
    "### JSON"
   ]
  },
  {
   "cell_type": "markdown",
   "metadata": {},
   "source": [
    "#### File config"
   ]
  },
  {
   "cell_type": "code",
   "execution_count": null,
   "metadata": {},
   "outputs": [],
   "source": [
    "{\n",
    "    \"properties\": {\n",
    "        \"features\": [\"sepal_length\", \"sepal_width\", \"petal_length\", \"petal_width\"]\n",
    "    }\n",
    "}"
   ]
  },
  {
   "cell_type": "code",
   "execution_count": null,
   "metadata": {
    "scrolled": true
   },
   "outputs": [],
   "source": [
    "correlation_matrix --conf data/conf/correlation_matrix.json --input_dataset_path data/input/dataset_correlation_matrix.csv --output_plot_path data/output/output_plot_correlation_matrix.png"
   ]
  },
  {
   "cell_type": "markdown",
   "metadata": {},
   "source": [
    "## dendrogram"
   ]
  },
  {
   "cell_type": "markdown",
   "metadata": {},
   "source": [
    "Generates a dendrogram from a given dataset."
   ]
  },
  {
   "cell_type": "markdown",
   "metadata": {},
   "source": [
    "### Get help"
   ]
  },
  {
   "cell_type": "code",
   "execution_count": null,
   "metadata": {},
   "outputs": [],
   "source": [
    "dendrogram -h"
   ]
  },
  {
   "cell_type": "code",
   "execution_count": null,
   "metadata": {},
   "outputs": [],
   "source": [
    "usage: dendrogram [-h] [--config CONFIG] --input_dataset_path INPUT_DATASET_PATH --output_plot_path OUTPUT_PLOT_PATH\n",
    "\n",
    "Generates a dendrogram from a given dataset\n",
    "\n",
    "optional arguments:\n",
    "  -h, --help            show this help message and exit\n",
    "  --config CONFIG       Configuration file\n",
    "\n",
    "required arguments:\n",
    "  --input_dataset_path INPUT_DATASET_PATH\n",
    "                        Path to the input dataset. Accepted formats: csv.\n",
    "  --output_plot_path OUTPUT_PLOT_PATH\n",
    "                        Path to the dendrogram plot. Accepted formats: png."
   ]
  },
  {
   "cell_type": "markdown",
   "metadata": {},
   "source": [
    "### I / O Arguments"
   ]
  },
  {
   "cell_type": "markdown",
   "metadata": {},
   "source": [
    "Syntax: input_argument (datatype) : Definition\n",
    "\n",
    "Config input / output arguments for this building block:\n",
    "\n",
    "* **input_dataset_path** (*str*): Path to the input dataset. File type: input. [Sample file](https://github.com/bioexcel/biobb_ml/raw/master/biobb_ml/test/data/utils/dataset_dendrogram.csv). Accepted formats: csv.\n",
    "* **output_plot_path** (*str*): Path to the dendrogram plot. File type: output. [Sample file](https://github.com/bioexcel/biobb_ml/raw/master/biobb_ml/test/reference/utils/ref_output_plot_correlation_matrix.png). Accepted formats: png."
   ]
  },
  {
   "cell_type": "markdown",
   "metadata": {},
   "source": [
    "### Config"
   ]
  },
  {
   "cell_type": "markdown",
   "metadata": {},
   "source": [
    "Syntax: input_parameter (datatype) - (default_value) Definition\n",
    "\n",
    "\n",
    "Config parameters for this building block:\n",
    "\n",
    "* **features** (*list*) - (None) List with all features to compare.\n",
    "* **remove_tmp** (*bool*) - (True) [WF property] Remove temporal files.\n",
    "* **restart** (*bool*) - (False) [WF property] Do not execute if output files exist."
   ]
  },
  {
   "cell_type": "markdown",
   "metadata": {},
   "source": [
    "### YAML"
   ]
  },
  {
   "cell_type": "markdown",
   "metadata": {},
   "source": [
    "#### File config"
   ]
  },
  {
   "cell_type": "code",
   "execution_count": null,
   "metadata": {},
   "outputs": [],
   "source": [
    "properties:\n",
    "  features: ['Satisfaction', 'Loyalty']"
   ]
  },
  {
   "cell_type": "code",
   "execution_count": null,
   "metadata": {},
   "outputs": [],
   "source": [
    "dendrogram --conf data/conf/dendrogram.yml --input_dataset_path data/input/dataset_dendrogram.csv --output_plot_path data/output/output_plot_dendrogram.png"
   ]
  },
  {
   "cell_type": "markdown",
   "metadata": {},
   "source": [
    "### JSON"
   ]
  },
  {
   "cell_type": "markdown",
   "metadata": {},
   "source": [
    "#### File config"
   ]
  },
  {
   "cell_type": "code",
   "execution_count": null,
   "metadata": {},
   "outputs": [],
   "source": [
    "{\n",
    "    \"properties\": {\n",
    "        \"features\": [\"Satisfaction\", \"Loyalty\"]\n",
    "    }\n",
    "}"
   ]
  },
  {
   "cell_type": "code",
   "execution_count": null,
   "metadata": {
    "scrolled": true
   },
   "outputs": [],
   "source": [
    "dendrogram --conf data/conf/dendrogram.json --input_dataset_path data/input/dataset_dendrogram.csv --output_plot_path data/output/output_plot_dendrogram.png"
   ]
  },
  {
   "cell_type": "markdown",
   "metadata": {},
   "source": [
    "## dummy_variables"
   ]
  },
  {
   "cell_type": "markdown",
   "metadata": {},
   "source": [
    "Maps dummy variables from a given dataset."
   ]
  },
  {
   "cell_type": "markdown",
   "metadata": {},
   "source": [
    "### Get help"
   ]
  },
  {
   "cell_type": "code",
   "execution_count": null,
   "metadata": {},
   "outputs": [],
   "source": [
    "dummy_variables -h"
   ]
  },
  {
   "cell_type": "code",
   "execution_count": null,
   "metadata": {},
   "outputs": [],
   "source": [
    "usage: dummy_variables [-h] [--config CONFIG] --input_dataset_path INPUT_DATASET_PATH --output_dataset_path OUTPUT_DATASET_PATH\n",
    "\n",
    "Maps dummy variables from a given dataset.\n",
    "\n",
    "optional arguments:\n",
    "  -h, --help            show this help message and exit\n",
    "  --config CONFIG       Configuration file\n",
    "\n",
    "required arguments:\n",
    "  --input_dataset_path INPUT_DATASET_PATH\n",
    "                        Path to the input dataset. Accepted formats: csv.\n",
    "  --output_dataset_path OUTPUT_DATASET_PATH\n",
    "                        Path to the output dataset. Accepted formats: csv."
   ]
  },
  {
   "cell_type": "markdown",
   "metadata": {},
   "source": [
    "### I / O Arguments"
   ]
  },
  {
   "cell_type": "markdown",
   "metadata": {},
   "source": [
    "Syntax: input_argument (datatype) : Definition\n",
    "\n",
    "Config input / output arguments for this building block:\n",
    "\n",
    "* **input_dataset_path** (*str*): Path to the input dataset. File type: input. [Sample file](https://github.com/bioexcel/biobb_ml/raw/master/biobb_ml/test/data/utils/dataset_dummy_variables.csv). Accepted formats: csv.\n",
    "* **output_dataset_path** (*str*): Path to the output dataset. File type: output. [Sample file](https://github.com/bioexcel/biobb_ml/raw/master/biobb_ml/test/reference/utils/ref_output_dataset_map_variables.csv). Accepted formats: csv."
   ]
  },
  {
   "cell_type": "markdown",
   "metadata": {},
   "source": [
    "### Config"
   ]
  },
  {
   "cell_type": "markdown",
   "metadata": {},
   "source": [
    "Syntax: input_parameter (datatype) - (default_value) Definition\n",
    "\n",
    "\n",
    "Config parameters for this building block:\n",
    "\n",
    "* **columns** (*list*) - (None) List with all columns you want to map.\n",
    "* **remove_tmp** (*bool*) - (True) [WF property] Remove temporal files.\n",
    "* **restart** (*bool*) - (False) [WF property] Do not execute if output files exist."
   ]
  },
  {
   "cell_type": "markdown",
   "metadata": {},
   "source": [
    "### YAML"
   ]
  },
  {
   "cell_type": "markdown",
   "metadata": {},
   "source": [
    "#### File config"
   ]
  },
  {
   "cell_type": "code",
   "execution_count": null,
   "metadata": {},
   "outputs": [],
   "source": [
    "properties:\n",
    "  columns: [ 'view' ]"
   ]
  },
  {
   "cell_type": "code",
   "execution_count": null,
   "metadata": {},
   "outputs": [],
   "source": [
    "dummy_variables --conf data/conf/dummy_variables.yml --input_dataset_path data/input/dataset_dummy_variables.csv --output_dataset_path data/output/output_dataset_dummy_variables.csv"
   ]
  },
  {
   "cell_type": "markdown",
   "metadata": {},
   "source": [
    "### JSON"
   ]
  },
  {
   "cell_type": "markdown",
   "metadata": {},
   "source": [
    "#### File config"
   ]
  },
  {
   "cell_type": "code",
   "execution_count": null,
   "metadata": {},
   "outputs": [],
   "source": [
    "{\n",
    "    \"properties\": {\n",
    "        \"columns\": [\"view\"]\n",
    "    }\n",
    "}"
   ]
  },
  {
   "cell_type": "code",
   "execution_count": null,
   "metadata": {
    "scrolled": true
   },
   "outputs": [],
   "source": [
    "dummy_variables --conf data/conf/dummy_variables.json --input_dataset_path data/input/dataset_dummy_variables.csv --output_dataset_path data/output/output_dataset_dummy_variables.csv"
   ]
  },
  {
   "cell_type": "markdown",
   "metadata": {},
   "source": [
    "## map_variables"
   ]
  },
  {
   "cell_type": "markdown",
   "metadata": {},
   "source": [
    "Maps variables from a given dataset."
   ]
  },
  {
   "cell_type": "markdown",
   "metadata": {},
   "source": [
    "### Get help"
   ]
  },
  {
   "cell_type": "code",
   "execution_count": null,
   "metadata": {},
   "outputs": [],
   "source": [
    "map_variables -h"
   ]
  },
  {
   "cell_type": "code",
   "execution_count": null,
   "metadata": {},
   "outputs": [],
   "source": [
    "usage: map_variables [-h] [--config CONFIG] --input_dataset_path INPUT_DATASET_PATH --output_dataset_path OUTPUT_DATASET_PATH\n",
    "\n",
    "Maps variables from a given dataset.\n",
    "\n",
    "optional arguments:\n",
    "  -h, --help            show this help message and exit\n",
    "  --config CONFIG       Configuration file\n",
    "\n",
    "required arguments:\n",
    "  --input_dataset_path INPUT_DATASET_PATH\n",
    "                        Path to the input dataset. Accepted formats: csv.\n",
    "  --output_dataset_path OUTPUT_DATASET_PATH\n",
    "                        Path to the output dataset. Accepted formats: csv."
   ]
  },
  {
   "cell_type": "markdown",
   "metadata": {},
   "source": [
    "### I / O Arguments"
   ]
  },
  {
   "cell_type": "markdown",
   "metadata": {},
   "source": [
    "Syntax: input_argument (datatype) : Definition\n",
    "\n",
    "Config input / output arguments for this building block:\n",
    "\n",
    "* **input_dataset_path** (*str*): Path to the input dataset. File type: input. [Sample file](https://github.com/bioexcel/biobb_ml/raw/master/biobb_ml/test/data/utils/dataset_map_variables.csv). Accepted formats: csv.\n",
    "* **output_dataset_path** (*str*): Path to the output dataset. File type: output. [Sample file](https://github.com/bioexcel/biobb_ml/raw/master/biobb_ml/test/reference/utils/ref_output_dataset_map_variables.csv). Accepted formats: csv."
   ]
  },
  {
   "cell_type": "markdown",
   "metadata": {},
   "source": [
    "### Config"
   ]
  },
  {
   "cell_type": "markdown",
   "metadata": {},
   "source": [
    "Syntax: input_parameter (datatype) - (default_value) Definition\n",
    "\n",
    "\n",
    "Config parameters for this building block:\n",
    "\n",
    "* **columns** (*list*) - (None) List with all columns you want to map.\n",
    "* **remove_tmp** (*bool*) - (True) [WF property] Remove temporal files.\n",
    "* **restart** (*bool*) - (False) [WF property] Do not execute if output files exist."
   ]
  },
  {
   "cell_type": "markdown",
   "metadata": {},
   "source": [
    "### YAML"
   ]
  },
  {
   "cell_type": "markdown",
   "metadata": {},
   "source": [
    "#### File config"
   ]
  },
  {
   "cell_type": "code",
   "execution_count": null,
   "metadata": {},
   "outputs": [],
   "source": [
    "properties:\n",
    "  columns: [ 'target' ]"
   ]
  },
  {
   "cell_type": "code",
   "execution_count": null,
   "metadata": {},
   "outputs": [],
   "source": [
    "map_variables --conf data/conf/map_variables.yml --input_dataset_path  data/input/dataset_map_variables.csv --output_dataset_path data/output/output_dataset_map_variables.csv"
   ]
  },
  {
   "cell_type": "markdown",
   "metadata": {},
   "source": [
    "### JSON"
   ]
  },
  {
   "cell_type": "markdown",
   "metadata": {},
   "source": [
    "#### File config"
   ]
  },
  {
   "cell_type": "code",
   "execution_count": null,
   "metadata": {},
   "outputs": [],
   "source": [
    "{\n",
    "    \"properties\": {\n",
    "        \"columns\": [\"target\"]\n",
    "    }\n",
    "}"
   ]
  },
  {
   "cell_type": "code",
   "execution_count": null,
   "metadata": {
    "scrolled": true
   },
   "outputs": [],
   "source": [
    "map_variables --conf data/conf/map_variables.json --input_dataset_path  data/input/dataset_map_variables.csv --output_dataset_path data/output/output_dataset_map_variables.csv"
   ]
  },
  {
   "cell_type": "markdown",
   "metadata": {},
   "source": [
    "## pairwise_comparison"
   ]
  },
  {
   "cell_type": "markdown",
   "metadata": {},
   "source": [
    "Generates a pairwise comparison from a given dataset."
   ]
  },
  {
   "cell_type": "markdown",
   "metadata": {},
   "source": [
    "### Get help"
   ]
  },
  {
   "cell_type": "code",
   "execution_count": null,
   "metadata": {},
   "outputs": [],
   "source": [
    "pairwise_comparison -h"
   ]
  },
  {
   "cell_type": "code",
   "execution_count": null,
   "metadata": {},
   "outputs": [],
   "source": [
    "usage: pairwise_comparison [-h] [--config CONFIG] --input_dataset_path INPUT_DATASET_PATH --output_plot_path OUTPUT_PLOT_PATH\n",
    "\n",
    "Generates a pairwise comparison from a given dataset\n",
    "\n",
    "optional arguments:\n",
    "  -h, --help            show this help message and exit\n",
    "  --config CONFIG       Configuration file\n",
    "\n",
    "required arguments:\n",
    "  --input_dataset_path INPUT_DATASET_PATH\n",
    "                        Path to the input dataset. Accepted formats: csv.\n",
    "  --output_plot_path OUTPUT_PLOT_PATH\n",
    "                        Path to the pairwise comparison plot. Accepted formats: png.\n"
   ]
  },
  {
   "cell_type": "markdown",
   "metadata": {},
   "source": [
    "### I / O Arguments"
   ]
  },
  {
   "cell_type": "markdown",
   "metadata": {},
   "source": [
    "Syntax: input_argument (datatype) : Definition\n",
    "\n",
    "Config input / output arguments for this building block:\n",
    "\n",
    "* **input_dataset_path** (*str*): Path to the input dataset. File type: input. [Sample file](https://github.com/bioexcel/biobb_ml/raw/master/biobb_ml/test/data/utils/dataset_pairwise_comparison.csv). Accepted formats: csv.\n",
    "* **output_plot_path** (*str*): Path to the pairwise comparison plot. File type: output. [Sample file](https://github.com/bioexcel/biobb_ml/raw/master/biobb_ml/test/reference/utils/ref_output_plot_pairwise_comparison.png). Accepted formats: png."
   ]
  },
  {
   "cell_type": "markdown",
   "metadata": {},
   "source": [
    "### Config"
   ]
  },
  {
   "cell_type": "markdown",
   "metadata": {},
   "source": [
    "Syntax: input_parameter (datatype) - (default_value) Definition\n",
    "\n",
    "\n",
    "Config parameters for this building block:\n",
    "\n",
    "* **features** (*list*) - (None) List with all features to compare.\n",
    "* **remove_tmp** (*bool*) - (True) [WF property] Remove temporal files.\n",
    "* **restart** (*bool*) - (False) [WF property] Do not execute if output files exist."
   ]
  },
  {
   "cell_type": "markdown",
   "metadata": {},
   "source": [
    "### YAML"
   ]
  },
  {
   "cell_type": "markdown",
   "metadata": {},
   "source": [
    "#### File config"
   ]
  },
  {
   "cell_type": "code",
   "execution_count": null,
   "metadata": {},
   "outputs": [],
   "source": [
    "properties:\n",
    "  features: ['sepal_length', 'sepal_width', 'petal_length', 'petal_width']"
   ]
  },
  {
   "cell_type": "code",
   "execution_count": null,
   "metadata": {},
   "outputs": [],
   "source": [
    "pairwise_comparison --conf data/conf/pairwise_comparison.yml --input_dataset_path data/input/dataset_pairwise_comparison.csv --output_plot_path data/output/output_plot_pairwise_comparison.png"
   ]
  },
  {
   "cell_type": "markdown",
   "metadata": {},
   "source": [
    "### JSON"
   ]
  },
  {
   "cell_type": "markdown",
   "metadata": {},
   "source": [
    "#### File config"
   ]
  },
  {
   "cell_type": "code",
   "execution_count": null,
   "metadata": {},
   "outputs": [],
   "source": [
    "{\n",
    "    \"properties\": {\n",
    "        \"features\": [\"sepal_length\", \"sepal_width\", \"petal_length\", \"petal_width\"]\n",
    "    }\n",
    "}"
   ]
  },
  {
   "cell_type": "code",
   "execution_count": null,
   "metadata": {
    "scrolled": true
   },
   "outputs": [],
   "source": [
    "pairwise_comparison --conf data/conf/pairwise_comparison.json --input_dataset_path data/input/dataset_pairwise_comparison.csv --output_plot_path data/output/output_plot_pairwise_comparison.png"
   ]
  },
  {
   "cell_type": "markdown",
   "metadata": {},
   "source": [
    "## autoencoder_neural_network"
   ]
  },
  {
   "cell_type": "markdown",
   "metadata": {},
   "source": [
    "Trains and tests a given dataset and save the complete model for an Autoencoder Neural Network."
   ]
  },
  {
   "cell_type": "markdown",
   "metadata": {},
   "source": [
    "### Get help"
   ]
  },
  {
   "cell_type": "code",
   "execution_count": null,
   "metadata": {},
   "outputs": [],
   "source": [
    "autoencoder_neural_network -h"
   ]
  },
  {
   "cell_type": "code",
   "execution_count": null,
   "metadata": {},
   "outputs": [],
   "source": [
    "usage: autoencoder_neural_network [-h] [--config CONFIG] --input_decode_path INPUT_DECODE_PATH [--input_predict_path INPUT_PREDICT_PATH] --output_model_path OUTPUT_MODEL_PATH [--output_test_decode_path OUTPUT_TEST_DECODE_PATH] [--output_test_predict_path OUTPUT_TEST_PREDICT_PATH]\n",
    "\n",
    "Trains and tests a given dataset and save the complete model for an Autoencoder Neural Network.\n",
    "\n",
    "optional arguments:\n",
    "  -h, --help            show this help message and exit\n",
    "  --config CONFIG       Configuration file\n",
    "  --input_predict_path INPUT_PREDICT_PATH\n",
    "                        Path to the input predict dataset. Accepted formats: csv.\n",
    "  --output_test_decode_path OUTPUT_TEST_DECODE_PATH\n",
    "                        Path to the test decode table file. Accepted formats: csv.\n",
    "  --output_test_predict_path OUTPUT_TEST_PREDICT_PATH\n",
    "                        Path to the test predict table file. Accepted formats: csv.\n",
    "\n",
    "required arguments:\n",
    "  --input_decode_path INPUT_DECODE_PATH\n",
    "                        Path to the input decode dataset. Accepted formats: csv.\n",
    "  --output_model_path OUTPUT_MODEL_PATH\n",
    "                        Path to the output results file. Accepted formats: csv."
   ]
  },
  {
   "cell_type": "markdown",
   "metadata": {},
   "source": [
    "### I / O Arguments"
   ]
  },
  {
   "cell_type": "markdown",
   "metadata": {},
   "source": [
    "Syntax: input_argument (datatype) : Definition\n",
    "\n",
    "Config input / output arguments for this building block:\n",
    "\n",
    "* **input_decode_path** (*str*): Path to the input decode dataset. File type: input. [Sample file](https://github.com/bioexcel/biobb_ml/raw/master/biobb_ml/test/data/neural_networks/dataset_autoencoder_decode.csv). Accepted formats: csv.\n",
    "* **input_predict_path** (*str*) (Optional): Path to the input predict dataset. File type: input. [Sample file](https://github.com/bioexcel/biobb_ml/raw/master/biobb_ml/test/data/neural_networks/dataset_autoencoder_predict.csv). Accepted formats: csv.\n",
    "* **output_model_path** (*str*): Path to the output model file. File type: output. [Sample file](https://github.com/bioexcel/biobb_ml/raw/master/biobb_ml/test/reference/neural_networks/ref_output_model_autoencoder.h5). Accepted formats: h5.\n",
    "* **output_test_decode_path** (*str*) (Optional): Path to the test decode table file. File type: output. [Sample file](https://github.com/bioexcel/biobb_ml/raw/master/biobb_ml/test/reference/neural_networks/ref_output_test_decode_autoencoder.csv). Accepted formats: csv.\n",
    "* **output_test_predict_path** (*str*) (Optional): Path to the test predict table file. File type: output. [Sample file](https://github.com/bioexcel/biobb_ml/raw/master/biobb_ml/test/reference/neural_networks/ref_output_test_predict_autoencoder.csv). Accepted formats: csv."
   ]
  },
  {
   "cell_type": "markdown",
   "metadata": {},
   "source": [
    "### Config"
   ]
  },
  {
   "cell_type": "markdown",
   "metadata": {},
   "source": [
    "Syntax: input_parameter (datatype) - (default_value) Definition\n",
    "\n",
    "\n",
    "Config parameters for this building block:\n",
    "\n",
    "* **optimizer** (*string*) - (\"Adam\") Name of optimizer instance. Values: Adadelta, Adagrad, Adam, Adamax, Ftrl, Nadam, RMSprop, SGD.\n",
    "* **learning_rate** (*float*) - (0.02) Determines the step size at each iteration while moving toward a minimum of a loss function\n",
    "* **batch_size** (*int*) - (100) Number of samples per gradient update.\n",
    "* **max_epochs** (*int*) - (100) Number of epochs to train the model. As the early stopping is enabled, this is a maximum.\n",
    "* **remove_tmp** (*bool*) - (True) [WF property] Remove temporal files.\n",
    "* **restart** (*bool*) - (False) [WF property] Do not execute if output files exist."
   ]
  },
  {
   "cell_type": "markdown",
   "metadata": {},
   "source": [
    "### YAML"
   ]
  },
  {
   "cell_type": "markdown",
   "metadata": {},
   "source": [
    "#### File config"
   ]
  },
  {
   "cell_type": "code",
   "execution_count": null,
   "metadata": {},
   "outputs": [],
   "source": [
    "properties:\n",
    "  optimizer: 'Adam'\n",
    "  learning_rate: .01\n",
    "  batch_size: 32\n",
    "  max_epochs: 300"
   ]
  },
  {
   "cell_type": "code",
   "execution_count": null,
   "metadata": {},
   "outputs": [],
   "source": [
    "autoencoder_neural_network --conf data/conf/autoencoder_neural_network.yml --input_decode_path data/input/dataset_autoencoder_decode.csv --input_predict_path data/input/dataset_autoencoder_predict.csv --output_model_path data/output/output_model_autoencoder.h5 --output_test_decode_path data/output/output_test_decode_autoencoder.csv --output_test_predict_path data/output/output_test_predict_autoencoder.csv"
   ]
  },
  {
   "cell_type": "markdown",
   "metadata": {},
   "source": [
    "### JSON"
   ]
  },
  {
   "cell_type": "markdown",
   "metadata": {},
   "source": [
    "#### File config"
   ]
  },
  {
   "cell_type": "code",
   "execution_count": null,
   "metadata": {},
   "outputs": [],
   "source": [
    "{\n",
    "    \"properties\": {\n",
    "        \"optimizer\": \"Adam\",\n",
    "        \"learning_rate\": 0.01,\n",
    "        \"batch_size\": 32,\n",
    "        \"max_epochs\": 300\n",
    "    }\n",
    "}"
   ]
  },
  {
   "cell_type": "code",
   "execution_count": null,
   "metadata": {
    "scrolled": true
   },
   "outputs": [],
   "source": [
    "autoencoder_neural_network --conf data/conf/autoencoder_neural_network.json --input_decode_path data/input/dataset_autoencoder_decode.csv --input_predict_path data/input/dataset_autoencoder_predict.csv --output_model_path data/output/output_model_autoencoder.h5 --output_test_decode_path data/output/output_test_decode_autoencoder.csv --output_test_predict_path data/output/output_test_predict_autoencoder.csv"
   ]
  },
  {
   "cell_type": "markdown",
   "metadata": {},
   "source": [
    "## classification_neural_network"
   ]
  },
  {
   "cell_type": "markdown",
   "metadata": {},
   "source": [
    "Trains and tests a given dataset and save the complete model for a Neural Network Classification."
   ]
  },
  {
   "cell_type": "markdown",
   "metadata": {},
   "source": [
    "### Get help"
   ]
  },
  {
   "cell_type": "code",
   "execution_count": null,
   "metadata": {},
   "outputs": [],
   "source": [
    "classification_neural_network -h"
   ]
  },
  {
   "cell_type": "code",
   "execution_count": null,
   "metadata": {},
   "outputs": [],
   "source": [
    "usage: classification_neural_network [-h] [--config CONFIG] --input_dataset_path INPUT_DATASET_PATH --output_model_path OUTPUT_MODEL_PATH [--output_test_table_path OUTPUT_TEST_TABLE_PATH] [--output_plot_path OUTPUT_PLOT_PATH]\n",
    "\n",
    "Trains and tests a given dataset and save the complete model for a NN classification.\n",
    "\n",
    "optional arguments:\n",
    "  -h, --help            show this help message and exit\n",
    "  --config CONFIG       Configuration file\n",
    "  --output_test_table_path OUTPUT_TEST_TABLE_PATH\n",
    "                        Path to the test table file. Accepted formats: csv.\n",
    "  --output_plot_path OUTPUT_PLOT_PATH\n",
    "                        Loss, accuracy and MSE plots. Accepted formats: png.\n",
    "\n",
    "required arguments:\n",
    "  --input_dataset_path INPUT_DATASET_PATH\n",
    "                        Path to the input dataset. Accepted formats: csv.\n",
    "  --output_model_path OUTPUT_MODEL_PATH\n",
    "                        Path to the output results file. Accepted formats: csv."
   ]
  },
  {
   "cell_type": "markdown",
   "metadata": {},
   "source": [
    "### I / O Arguments"
   ]
  },
  {
   "cell_type": "markdown",
   "metadata": {},
   "source": [
    "Syntax: input_argument (datatype) : Definition\n",
    "\n",
    "Config input / output arguments for this building block:\n",
    "\n",
    "* **input_dataset_path** (*str*): Path to the input dataset. File type: input. [Sample file](https://github.com/bioexcel/biobb_ml/raw/master/biobb_ml/test/data/neural_networks/dataset_classification.csv). Accepted formats: csv.\n",
    "* **output_model_path** (*str*): Path to the output model file. File type: output. [Sample file](https://github.com/bioexcel/biobb_ml/raw/master/biobb_ml/test/reference/neural_networks/ref_output_model_classification.h5). Accepted formats: h5.\n",
    "* **output_test_table_path** (*str*) (Optional): Path to the test table file. File type: output. [Sample file](https://github.com/bioexcel/biobb_ml/raw/master/biobb_ml/test/reference/neural_networks/ref_output_test_classification.csv). Accepted formats: csv.\n",
    "* **output_plot_path** (*str*) (Optional): Loss, accuracy and MSE plots. File type: output. [Sample file](https://github.com/bioexcel/biobb_ml/raw/master/biobb_ml/test/reference/neural_networks/ref_output_plot_classification.png). Accepted formats: png."
   ]
  },
  {
   "cell_type": "markdown",
   "metadata": {},
   "source": [
    "### Config"
   ]
  },
  {
   "cell_type": "markdown",
   "metadata": {},
   "source": [
    "Syntax: input_parameter (datatype) - (default_value) Definition\n",
    "\n",
    "\n",
    "Config parameters for this building block:\n",
    "\n",
    "* **features** (*list*) - (None) Independent variables or columns from your dataset you want to train.\n",
    "* **target** (*string*) - (None) Dependent variable or column from your dataset you want to predict.\n",
    "* **validation_size** (*float*) - (0.2) Represents the proportion of the dataset to include in the validation split. It should be between 0.0 and 1.0.\n",
    "* **test_size** (*float*) - (0.1) Represents the proportion of the dataset to include in the test split. It should be between 0.0 and 1.0.\n",
    "* **hidden_layers** (*list*) - (None)  List of dictionaries with hidden layers values. Format: [ { 'size': 50, 'activation': 'relu' } ].\n",
    "* **output_layer_activation** (*string*) - (\"softmax\") Activation function to use in the output layer. Values: sigmoid, tanh, relu, softmax.\n",
    "* **optimizer** (*string*) - (\"Adam\") Name of optimizer instance. Values: Adadelta, Adagrad, Adam, Adamax, Ftrl, Nadam, RMSprop, SGD.\n",
    "* **learning_rate** (*float*) - (0.02) Determines the step size at each iteration while moving toward a minimum of a loss function\n",
    "* **batch_size** (*int*) - (100) Number of samples per gradient update.\n",
    "* **max_epochs** (*int*) - (100) Number of epochs to train the model. As the early stopping is enabled, this is a maximum.\n",
    "* **normalize_cm** (*bool*) - (False) Whether or not to normalize the confusion matrix.\n",
    "* **remove_tmp** (*bool*) - (True) [WF property] Remove temporal files.\n",
    "* **restart** (*bool*) - (False) [WF property] Do not execute if output files exist."
   ]
  },
  {
   "cell_type": "markdown",
   "metadata": {},
   "source": [
    "### YAML"
   ]
  },
  {
   "cell_type": "markdown",
   "metadata": {},
   "source": [
    "#### File config"
   ]
  },
  {
   "cell_type": "code",
   "execution_count": null,
   "metadata": {},
   "outputs": [],
   "source": [
    "properties:\n",
    "  features: ['mean radius','mean texture','mean perimeter','mean area','mean smoothness','mean compactness','mean concavity','mean concave points','mean symmetry','mean fractal dimension','radius error','texture error','perimeter error','area error','smoothness error','compactness error','concavity error','concave points error','symmetry error','fractal dimension error','worst radius','worst texture','worst perimeter','worst area','worst smoothness','worst compactness','worst concavity','worst concave points','worst symmetry','worst fractal dimension']\n",
    "  target: 'benign'\n",
    "  validation_size: .2\n",
    "  test_size: .1\n",
    "  hidden_layers: [\n",
    "    { 'size': 50, 'activation': 'relu' },\n",
    "    { 'size': 50, 'activation': 'relu' }\n",
    "  ]\n",
    "  output_layer_activation: 'softmax'\n",
    "  optimizer: 'Adam'\n",
    "  learning_rate: .02\n",
    "  batch_size: 100\n",
    "  max_epochs: 100"
   ]
  },
  {
   "cell_type": "code",
   "execution_count": null,
   "metadata": {},
   "outputs": [],
   "source": [
    "classification_neural_network --conf data/conf/classification_neural_network.yml --input_dataset_path data/input/dataset_classification.csv --output_model_path data/output/output_model_classification.h5 --output_test_table_path data/output/output_test_classification.csv --output_plot_path data/output/output_plot_classification.png"
   ]
  },
  {
   "cell_type": "markdown",
   "metadata": {},
   "source": [
    "### JSON"
   ]
  },
  {
   "cell_type": "markdown",
   "metadata": {},
   "source": [
    "#### File config"
   ]
  },
  {
   "cell_type": "code",
   "execution_count": null,
   "metadata": {},
   "outputs": [],
   "source": [
    "{\n",
    "    \"properties\": {\n",
    "        \"features\": [\"mean radius\",\"mean texture\",\"mean perimeter\",\"mean area\",\"mean smoothness\",\"mean compactness\",\"mean concavity\",\"mean concave points\",\"mean symmetry\",\"mean fractal dimension\",\"radius error\",\"texture error\",\"perimeter error\",\"area error\",\"smoothness error\",\"compactness error\",\"concavity error\",\"concave points error\",\"symmetry error\",\"fractal dimension error\",\"worst radius\",\"worst texture\",\"worst perimeter\",\"worst area\",\"worst smoothness\",\"worst compactness\",\"worst concavity\",\"worst concave points\",\"worst symmetry\",\"worst fractal dimension\"],\n",
    "        \"target\": \"benign\",\n",
    "        \"validation_size\": 0.2,\n",
    "        \"test_size\": 0.1,\n",
    "        \"hidden_layers\": [\n",
    "            { \"size\": 50, \"activation\": \"relu\" },\n",
    "            { \"size\": 50, \"activation\": \"relu\" }\n",
    "        ],\n",
    "        \"output_layer_activation\": \"softmax\",\n",
    "        \"optimizer\": \"Adam\",\n",
    "        \"learning_rate\": 0.02,\n",
    "        \"batch_size\": 100,\n",
    "        \"max_epochs\": 300\n",
    "    }\n",
    "}"
   ]
  },
  {
   "cell_type": "code",
   "execution_count": null,
   "metadata": {
    "scrolled": true
   },
   "outputs": [],
   "source": [
    "classification_neural_network --conf data/conf/classification_neural_network.json --input_dataset_path data/input/dataset_classification.csv --output_model_path data/output/output_model_classification.h5 --output_test_table_path data/output/output_test_classification.csv --output_plot_path data/output/output_plot_classification.png"
   ]
  },
  {
   "cell_type": "markdown",
   "metadata": {},
   "source": [
    "## recurrent_neural_network"
   ]
  },
  {
   "cell_type": "markdown",
   "metadata": {},
   "source": [
    "Trains and tests a given dataset and save the complete model for a Recurrent Neural Network."
   ]
  },
  {
   "cell_type": "markdown",
   "metadata": {},
   "source": [
    "### Get help"
   ]
  },
  {
   "cell_type": "code",
   "execution_count": null,
   "metadata": {},
   "outputs": [],
   "source": [
    "recurrent_neural_network -h"
   ]
  },
  {
   "cell_type": "code",
   "execution_count": null,
   "metadata": {},
   "outputs": [],
   "source": [
    "usage: recurrent_neural_network [-h] [--config CONFIG] --input_dataset_path INPUT_DATASET_PATH --output_model_path OUTPUT_MODEL_PATH [--output_test_table_path OUTPUT_TEST_TABLE_PATH] [--output_plot_path OUTPUT_PLOT_PATH]\n",
    "\n",
    "Trains and tests a given dataset and save the complete model for a Recurrent Neural Network.\n",
    "\n",
    "optional arguments:\n",
    "  -h, --help            show this help message and exit\n",
    "  --config CONFIG       Configuration file\n",
    "  --output_test_table_path OUTPUT_TEST_TABLE_PATH\n",
    "                        Path to the test table file. Accepted formats: csv.\n",
    "  --output_plot_path OUTPUT_PLOT_PATH\n",
    "                        Loss, accuracy and MSE plots. Accepted formats: png.\n",
    "\n",
    "required arguments:\n",
    "  --input_dataset_path INPUT_DATASET_PATH\n",
    "                        Path to the input dataset. Accepted formats: csv.\n",
    "  --output_model_path OUTPUT_MODEL_PATH\n",
    "                        Path to the output results file. Accepted formats: csv."
   ]
  },
  {
   "cell_type": "markdown",
   "metadata": {},
   "source": [
    "### I / O Arguments"
   ]
  },
  {
   "cell_type": "markdown",
   "metadata": {},
   "source": [
    "Syntax: input_argument (datatype) : Definition\n",
    "\n",
    "Config input / output arguments for this building block:\n",
    "\n",
    "* **input_dataset_path** (*str*): Path to the input dataset. File type: input. [Sample file](https://github.com/bioexcel/biobb_ml/raw/master/biobb_ml/test/data/neural_networks/dataset_recurrent.csv). Accepted formats: csv.\n",
    "* **output_model_path** (*str*): Path to the output model file. File type: output. [Sample file](https://github.com/bioexcel/biobb_ml/raw/master/biobb_ml/test/reference/neural_networks/ref_output_model_recurrent.h5). Accepted formats: h5.\n",
    "* **output_test_table_path** (*str*) (Optional): Path to the test table file. File type: output. [Sample file](https://github.com/bioexcel/biobb_ml/raw/master/biobb_ml/test/reference/neural_networks/ref_output_test_recurrent.csv). Accepted formats: csv.\n",
    "* **output_plot_path** (*str*) (Optional): Loss, accuracy and MSE plots. File type: output. [Sample file](https://github.com/bioexcel/biobb_ml/raw/master/biobb_ml/test/reference/neural_networks/ref_output_plot_recurrent.png). Accepted formats: png."
   ]
  },
  {
   "cell_type": "markdown",
   "metadata": {},
   "source": [
    "### Config"
   ]
  },
  {
   "cell_type": "markdown",
   "metadata": {},
   "source": [
    "Syntax: input_parameter (datatype) - (default_value) Definition\n",
    "\n",
    "\n",
    "Config parameters for this building block:\n",
    "\n",
    "* **target** (*string*) - (None) Dependent variable or column from your dataset you want to predict.\n",
    "* **validation_size** (*float*) - (0.2) Represents the proportion of the dataset to include in the validation split. It should be between 0.0 and 1.0.\n",
    "* **window_size** (*int*) - (5) Number of steps for each window of training model.\n",
    "* **test_size** (*int*) - (0.1) Represents the number of samples of the dataset to include in the test split.\n",
    "* **hidden_layers** (*list*) - (None)  List of dictionaries with hidden layers values. Format: [ { 'size': 50, 'activation': 'relu' } ].\n",
    "* **optimizer** (*string*) - (\"Adam\") Name of optimizer instance. Values: Adadelta, Adagrad, Adam, Adamax, Ftrl, Nadam, RMSprop, SGD.\n",
    "* **learning_rate** (*float*) - (0.02) Determines the step size at each iteration while moving toward a minimum of a loss function\n",
    "* **batch_size** (*int*) - (100) Number of samples per gradient update.\n",
    "* **max_epochs** (*int*) - (100) Number of epochs to train the model. As the early stopping is enabled, this is a maximum.\n",
    "* **normalize_cm** (*bool*) - (False) Whether or not to normalize the confusion matrix.\n",
    "* **remove_tmp** (*bool*) - (True) [WF property] Remove temporal files.\n",
    "* **restart** (*bool*) - (False) [WF property] Do not execute if output files exist."
   ]
  },
  {
   "cell_type": "markdown",
   "metadata": {},
   "source": [
    "### YAML"
   ]
  },
  {
   "cell_type": "markdown",
   "metadata": {},
   "source": [
    "#### File config"
   ]
  },
  {
   "cell_type": "code",
   "execution_count": null,
   "metadata": {},
   "outputs": [],
   "source": [
    "properties:\n",
    "  target: 'Sales'\n",
    "  window_size: 5\n",
    "  validation_size: .2\n",
    "  test_size: 12\n",
    "  hidden_layers: [\n",
    "    { 'size': 100, 'activation': 'relu' },\n",
    "    { 'size': 50, 'activation': 'relu' },\n",
    "    { 'size': 50, 'activation': 'relu' }\n",
    "  ]\n",
    "  optimizer: 'Adam'\n",
    "  learning_rate: .01\n",
    "  batch_size: 32\n",
    "  max_epochs: 50"
   ]
  },
  {
   "cell_type": "code",
   "execution_count": null,
   "metadata": {},
   "outputs": [],
   "source": [
    "recurrent_neural_network --conf data/conf/recurrent_neural_network.yml --input_dataset_path data/input/dataset_recurrent.csv --output_model_path data/output/output_model_recurrent.h5 --output_test_table_path data/output/output_test_recurrent.csv --output_plot_path data/output/output_plot_recurrent.png"
   ]
  },
  {
   "cell_type": "markdown",
   "metadata": {},
   "source": [
    "### JSON"
   ]
  },
  {
   "cell_type": "markdown",
   "metadata": {},
   "source": [
    "#### File config"
   ]
  },
  {
   "cell_type": "code",
   "execution_count": null,
   "metadata": {},
   "outputs": [],
   "source": [
    "{\n",
    "    \"properties\": {\n",
    "        \"target\": \"Sales\",\n",
    "        \"window_size\": 5,\n",
    "        \"validation_size\": 0.2,\n",
    "        \"test_size\": 12,\n",
    "        \"hidden_layers\": [\n",
    "            { \"size\": 100, \"activation\": \"relu\" },\n",
    "            { \"size\": 50, \"activation\": \"relu\" },\n",
    "            { \"size\": 50, \"activation\": \"relu\" }\n",
    "        ],\n",
    "        \"optimizer\": \"Adam\",\n",
    "        \"learning_rate\": 0.01,\n",
    "        \"batch_size\": 32,\n",
    "        \"max_epochs\": 50\n",
    "    }\n",
    "}"
   ]
  },
  {
   "cell_type": "code",
   "execution_count": null,
   "metadata": {
    "scrolled": true
   },
   "outputs": [],
   "source": [
    "recurrent_neural_network --conf data/conf/recurrent_neural_network.json --input_dataset_path data/input/dataset_recurrent.csv --output_model_path data/output/output_model_recurrent.h5 --output_test_table_path data/output/output_test_recurrent.csv --output_plot_path data/output/output_plot_recurrent.png"
   ]
  },
  {
   "cell_type": "markdown",
   "metadata": {},
   "source": [
    "## regression_neural_network"
   ]
  },
  {
   "cell_type": "markdown",
   "metadata": {},
   "source": [
    "Trains and tests a given dataset and save the complete model for a Neural Network Regression."
   ]
  },
  {
   "cell_type": "markdown",
   "metadata": {},
   "source": [
    "### Get help"
   ]
  },
  {
   "cell_type": "code",
   "execution_count": null,
   "metadata": {},
   "outputs": [],
   "source": [
    "regression_neural_network -h"
   ]
  },
  {
   "cell_type": "code",
   "execution_count": null,
   "metadata": {},
   "outputs": [],
   "source": [
    "usage: regression_neural_network [-h] [--config CONFIG] --input_dataset_path INPUT_DATASET_PATH --output_model_path OUTPUT_MODEL_PATH [--output_test_table_path OUTPUT_TEST_TABLE_PATH] [--output_plot_path OUTPUT_PLOT_PATH]\n",
    "\n",
    "Trains and tests a given dataset and calculates coefficients and predictions for a NN classification.\n",
    "\n",
    "optional arguments:\n",
    "  -h, --help            show this help message and exit\n",
    "  --config CONFIG       Configuration file\n",
    "  --output_test_table_path OUTPUT_TEST_TABLE_PATH\n",
    "                        Path to the test table file. Accepted formats: csv.\n",
    "  --output_plot_path OUTPUT_PLOT_PATH\n",
    "                        Loss, MAE and MSE plots. Accepted formats: png.\n",
    "\n",
    "required arguments:\n",
    "  --input_dataset_path INPUT_DATASET_PATH\n",
    "                        Path to the input dataset. Accepted formats: csv.\n",
    "  --output_model_path OUTPUT_MODEL_PATH\n",
    "                        Path to the output model file. Accepted formats: h5."
   ]
  },
  {
   "cell_type": "markdown",
   "metadata": {},
   "source": [
    "### I / O Arguments"
   ]
  },
  {
   "cell_type": "markdown",
   "metadata": {},
   "source": [
    "Syntax: input_argument (datatype) : Definition\n",
    "\n",
    "Config input / output arguments for this building block:\n",
    "\n",
    "* **input_dataset_path** (*str*): Path to the input dataset. File type: input. [Sample file](https://github.com/bioexcel/biobb_ml/raw/master/biobb_ml/test/data/neural_networks/dataset_regression.csv). Accepted formats: csv.\n",
    "* **output_model_path** (*str*): Path to the output model file. File type: output. [Sample file](https://github.com/bioexcel/biobb_ml/raw/master/biobb_ml/test/reference/neural_networks/ref_output_model_regression.h5). Accepted formats: h5.\n",
    "* **output_test_table_path** (*str*) (Optional): Path to the test table file. File type: output. [Sample file](https://github.com/bioexcel/biobb_ml/raw/master/biobb_ml/test/reference/neural_networks/ref_output_test_regression.csv). Accepted formats: csv.\n",
    "* **output_plot_path** (*str*) (Optional): Loss, MAE and MSE plots. File type: output. [Sample file](https://github.com/bioexcel/biobb_ml/raw/master/biobb_ml/test/reference/neural_networks/ref_output_plot_regression.png). Accepted formats: png."
   ]
  },
  {
   "cell_type": "markdown",
   "metadata": {},
   "source": [
    "### Config"
   ]
  },
  {
   "cell_type": "markdown",
   "metadata": {},
   "source": [
    "Syntax: input_parameter (datatype) - (default_value) Definition\n",
    "\n",
    "\n",
    "Config parameters for this building block:\n",
    "\n",
    "* **features** (*list*) - (None) Independent variables or columns from your dataset you want to train.\n",
    "* **target** (*string*) - (None) Dependent variable or column from your dataset you want to predict.\n",
    "* **validation_size** (*float*) - (0.2) Represents the proportion of the dataset to include in the validation split. It should be between 0.0 and 1.0.\n",
    "* **test_size** (*float*) - (0.1) Represents the proportion of the dataset to include in the test split. It should be between 0.0 and 1.0.\n",
    "* **hidden_layers** (*list*) - (None)  List of dictionaries with hidden layers values. Format: [ { 'size': 50, 'activation': 'relu' } ].\n",
    "* **output_layer_activation** (*string*) - (\"softmax\") Activation function to use in the output layer. Values: sigmoid, tanh, relu, softmax.\n",
    "* **optimizer** (*string*) - (\"Adam\") Name of optimizer instance. Values: Adadelta, Adagrad, Adam, Adamax, Ftrl, Nadam, RMSprop, SGD.\n",
    "* **learning_rate** (*float*) - (0.02) Determines the step size at each iteration while moving toward a minimum of a loss function\n",
    "* **batch_size** (*int*) - (100) Number of samples per gradient update.\n",
    "* **max_epochs** (*int*) - (100) Number of epochs to train the model. As the early stopping is enabled, this is a maximum.\n",
    "* **remove_tmp** (*bool*) - (True) [WF property] Remove temporal files.\n",
    "* **restart** (*bool*) - (False) [WF property] Do not execute if output files exist."
   ]
  },
  {
   "cell_type": "markdown",
   "metadata": {},
   "source": [
    "### YAML"
   ]
  },
  {
   "cell_type": "markdown",
   "metadata": {},
   "source": [
    "#### File config"
   ]
  },
  {
   "cell_type": "code",
   "execution_count": null,
   "metadata": {},
   "outputs": [],
   "source": [
    "properties:\n",
    "  features: ['CRIM','ZN','INDUS','CHAS','NOX','RM','AGE','DIS','RAD','TAX','PTRATIO','B','LSTAT']\n",
    "  target: 'MEDV'\n",
    "  validation_size: .2\n",
    "  test_size: .33\n",
    "  hidden_layers: [\n",
    "    { 'size': 10, 'activation': 'relu' },\n",
    "    { 'size': 8, 'activation': 'relu' }\n",
    "  ]\n",
    "  optimizer: 'Adam'\n",
    "  learning_rate: .01\n",
    "  batch_size: 32\n",
    "  max_epochs: 150"
   ]
  },
  {
   "cell_type": "code",
   "execution_count": null,
   "metadata": {},
   "outputs": [],
   "source": [
    "regression_neural_network --conf data/conf/regression_neural_network.yml --input_dataset_path data/input/dataset_regression.csv --output_model_path data/output/output_model_regression.h5 --output_test_table_path data/output/output_test_regression.csv --output_plot_path data/output/output_plot_regression.png"
   ]
  },
  {
   "cell_type": "markdown",
   "metadata": {},
   "source": [
    "### JSON"
   ]
  },
  {
   "cell_type": "markdown",
   "metadata": {},
   "source": [
    "#### File config"
   ]
  },
  {
   "cell_type": "code",
   "execution_count": null,
   "metadata": {},
   "outputs": [],
   "source": [
    "{\n",
    "    \"properties\": {\n",
    "        \"features\": [\"CRIM\",\"ZN\",\"INDUS\",\"CHAS\",\"NOX\",\"RM\",\"AGE\",\"DIS\",\"RAD\",\"TAX\",\"PTRATIO\",\"B\",\"LSTAT\"],\n",
    "        \"target\": \"MEDV\",\n",
    "        \"validation_size\": 0.2,\n",
    "        \"test_size\": 0.33,\n",
    "        \"hidden_layers\": [\n",
    "            { \"size\": 10, \"activation\": \"relu\" },\n",
    "            { \"size\": 8, \"activation\": \"relu\" }\n",
    "        ],\n",
    "        \"optimizer\": \"Adam\",\n",
    "        \"learning_rate\": 0.01,\n",
    "        \"batch_size\": 32,\n",
    "        \"max_epochs\": 150\n",
    "    }\n",
    "}"
   ]
  },
  {
   "cell_type": "code",
   "execution_count": null,
   "metadata": {
    "scrolled": true
   },
   "outputs": [],
   "source": [
    "regression_neural_network --conf data/conf/regression_neural_network.json --input_dataset_path data/input/dataset_regression.csv --output_model_path data/output/output_model_regression.h5 --output_test_table_path data/output/output_test_regression.csv --output_plot_path data/output/output_plot_regression.png"
   ]
  },
  {
   "cell_type": "markdown",
   "metadata": {},
   "source": [
    "## neural_network_decode"
   ]
  },
  {
   "cell_type": "markdown",
   "metadata": {},
   "source": [
    "Decodes and predicts given a dataset and a model file."
   ]
  },
  {
   "cell_type": "markdown",
   "metadata": {},
   "source": [
    "### Get help"
   ]
  },
  {
   "cell_type": "code",
   "execution_count": null,
   "metadata": {},
   "outputs": [],
   "source": [
    "neural_network_decode -h"
   ]
  },
  {
   "cell_type": "code",
   "execution_count": null,
   "metadata": {},
   "outputs": [],
   "source": [
    "usage: neural_network_decode [-h] [--config CONFIG] --input_decode_path INPUT_DECODE_PATH --input_model_path INPUT_MODEL_PATH --output_decode_path OUTPUT_DECODE_PATH [--output_predict_path OUTPUT_PREDICT_PATH]\n",
    "\n",
    "Decodes and predicts given a dataset and a model file.\n",
    "\n",
    "optional arguments:\n",
    "  -h, --help            show this help message and exit\n",
    "  --config CONFIG       Configuration file\n",
    "  --output_predict_path OUTPUT_PREDICT_PATH\n",
    "                        Path to the output predict file. Accepted formats: csv.\n",
    "\n",
    "required arguments:\n",
    "  --input_decode_path INPUT_DECODE_PATH\n",
    "                        Path to the input decode dataset. Accepted formats: csv.\n",
    "  --input_model_path INPUT_MODEL_PATH\n",
    "                        Path to the input model. Accepted formats: h5.\n",
    "  --output_decode_path OUTPUT_DECODE_PATH\n",
    "                        Path to the output decode file. Accepted formats: csv."
   ]
  },
  {
   "cell_type": "markdown",
   "metadata": {},
   "source": [
    "### I / O Arguments"
   ]
  },
  {
   "cell_type": "markdown",
   "metadata": {},
   "source": [
    "Syntax: input_argument (datatype) : Definition\n",
    "\n",
    "Config input / output arguments for this building block:\n",
    "\n",
    "* **input_decode_path** (*str*): Path to the input decode dataset. File type: input. [Sample file](https://github.com/bioexcel/biobb_ml/raw/master/biobb_ml/test/data/neural_networks/dataset_decoder.csv). Accepted formats: csv.\n",
    "* **input_model_path** (*str*): Path to the input model. File type: input. [Sample file](https://github.com/bioexcel/biobb_ml/raw/master/biobb_ml/test/data/neural_networks/input_model_decoder.h5). Accepted formats: h5.\n",
    "* **output_decode_path** (*str*): Path to the output decode file. File type: output. [Sample file](https://github.com/bioexcel/biobb_ml/raw/master/biobb_ml/test/reference/neural_networks/ref_output_decode_decoder.csv). Accepted formats: csv.\n",
    "* **output_predict_path** (*str*): Path to the output predict file. File type: output. [Sample file](https://github.com/bioexcel/biobb_ml/raw/master/biobb_ml/test/reference/neural_networks/ref_output_predict_decoder.csv). Accepted formats: csv."
   ]
  },
  {
   "cell_type": "markdown",
   "metadata": {},
   "source": [
    "### Config"
   ]
  },
  {
   "cell_type": "markdown",
   "metadata": {},
   "source": [
    "Syntax: input_parameter (datatype) - (default_value) Definition\n",
    "\n",
    "\n",
    "Config parameters for this building block:\n",
    "* **remove_tmp** (*bool*) - (True) [WF property] Remove temporal files.\n",
    "* **restart** (*bool*) - (False) [WF property] Do not execute if output files exist."
   ]
  },
  {
   "cell_type": "markdown",
   "metadata": {},
   "source": [
    "### Default config"
   ]
  },
  {
   "cell_type": "code",
   "execution_count": null,
   "metadata": {
    "scrolled": true
   },
   "outputs": [],
   "source": [
    "neural_network_decode --input_decode_path data/input/dataset_decoder.csv --input_model_path data/input/input_model_decoder.h5 --output_decode_path data/output/output_decode_decoder.csv --output_predict_path data/output/output_predict_decoder.csv"
   ]
  },
  {
   "cell_type": "markdown",
   "metadata": {},
   "source": [
    "## neural_network_predict"
   ]
  },
  {
   "cell_type": "markdown",
   "metadata": {},
   "source": [
    "Calculates prediction for a NN classification given a model file."
   ]
  },
  {
   "cell_type": "markdown",
   "metadata": {},
   "source": [
    "### Get help"
   ]
  },
  {
   "cell_type": "code",
   "execution_count": null,
   "metadata": {},
   "outputs": [],
   "source": [
    "neural_network_predict -h"
   ]
  },
  {
   "cell_type": "code",
   "execution_count": null,
   "metadata": {},
   "outputs": [],
   "source": [
    "usage: neural_network_predict [-h] [--config CONFIG] --input_model_path INPUT_MODEL_PATH --output_results_path OUTPUT_RESULTS_PATH\n",
    "\n",
    "Calculates prediction for a NN classification given a model file.\n",
    "\n",
    "optional arguments:\n",
    "  -h, --help            show this help message and exit\n",
    "  --config CONFIG       Configuration file\n",
    "\n",
    "required arguments:\n",
    "  --input_model_path INPUT_MODEL_PATH\n",
    "                        Path to the input model. Accepted formats: h5.\n",
    "  --output_results_path OUTPUT_RESULTS_PATH\n",
    "                        Path to the output results file. Accepted formats: csv."
   ]
  },
  {
   "cell_type": "markdown",
   "metadata": {},
   "source": [
    "### I / O Arguments"
   ]
  },
  {
   "cell_type": "markdown",
   "metadata": {},
   "source": [
    "Syntax: input_argument (datatype) : Definition\n",
    "\n",
    "Config input / output arguments for this building block:\n",
    "\n",
    "* **input_model_path** (*str*): Path to the input model. File type: input. [Sample file](https://github.com/bioexcel/biobb_ml/raw/master/biobb_ml/test/data/neural_networks/input_model_predict.h5). Accepted formats: h5.\n",
    "* **output_results_path** (*str*): Path to the output results file. File type: output. [Sample file](https://github.com/bioexcel/biobb_ml/raw/master/biobb_ml/test/reference/neural_networks/ref_output_predict.csv). Accepted formats: csv."
   ]
  },
  {
   "cell_type": "markdown",
   "metadata": {},
   "source": [
    "### Config"
   ]
  },
  {
   "cell_type": "markdown",
   "metadata": {},
   "source": [
    "Syntax: input_parameter (datatype) - (default_value) Definition\n",
    "\n",
    "\n",
    "Config parameters for this building block:\n",
    "\n",
    "* **predictions** (*list*) - (None) List of dictionaries with all values you want to predict targets.\n",
    "* **remove_tmp** (*bool*) - (True) [WF property] Remove temporal files.\n",
    "* **restart** (*bool*) - (False) [WF property] Do not execute if output files exist."
   ]
  },
  {
   "cell_type": "markdown",
   "metadata": {},
   "source": [
    "### YAML"
   ]
  },
  {
   "cell_type": "markdown",
   "metadata": {},
   "source": [
    "#### File config"
   ]
  },
  {
   "cell_type": "code",
   "execution_count": null,
   "metadata": {},
   "outputs": [],
   "source": [
    "properties:\n",
    "  predictions: [\n",
    "    { \n",
    "      'mean radius': 17.99,\n",
    "      'mean texture': 10.38,\n",
    "      'mean perimeter': 122.8,\n",
    "      'mean area': 1001,\n",
    "      'mean smoothness': 0.1184,\n",
    "      'mean compactness': 0.2776,\n",
    "      'mean concavity': 0.3001,\n",
    "      'mean concave points': 0.1471,\n",
    "      'mean symmetry': 0.2419,\n",
    "      'mean fractal dimension': 0.07871,\n",
    "      'radius error': 1.095,\n",
    "      'texture error': 0.9053,\n",
    "      'perimeter error': 8.589,\n",
    "      'area error': 153.4,\n",
    "      'smoothness error': 0.006399,\n",
    "      'compactness error': 0.04904,\n",
    "      'concavity error': 0.05373,\n",
    "      'concave points error': 0.01587,\n",
    "      'symmetry error': 0.03003,\n",
    "      'fractal dimension error': 0.006193,\n",
    "      'worst radius': 25.38,\n",
    "      'worst texture': 17.33,\n",
    "      'worst perimeter': 184.6,\n",
    "      'worst area': 2019,\n",
    "      'worst smoothness': 0.1622,\n",
    "      'worst compactness': 0.6656,\n",
    "      'worst concavity': 0.7119,\n",
    "      'worst concave points': 0.2654,\n",
    "      'worst symmetry': 0.4601,\n",
    "      'worst fractal dimension': 0.1189\n",
    "    }\n",
    "  ]"
   ]
  },
  {
   "cell_type": "code",
   "execution_count": null,
   "metadata": {},
   "outputs": [],
   "source": [
    "neural_network_predict --conf data/conf/neural_network_predict.yml --input_model_path data/input/input_model_predict.h5 --output_results_path data/output/output_predict.csv"
   ]
  },
  {
   "cell_type": "markdown",
   "metadata": {},
   "source": [
    "### JSON"
   ]
  },
  {
   "cell_type": "markdown",
   "metadata": {},
   "source": [
    "#### File config"
   ]
  },
  {
   "cell_type": "code",
   "execution_count": null,
   "metadata": {},
   "outputs": [],
   "source": [
    "{\n",
    "    \"properties\": {\n",
    "        \"predictions\": [\n",
    "        { \n",
    "            \"mean radius\": 17.99,\n",
    "            \"mean texture\": 10.38,\n",
    "            \"mean perimeter\": 122.8,\n",
    "            \"mean area\": 1001,\n",
    "            \"mean smoothness\": 0.1184,\n",
    "            \"mean compactness\": 0.2776,\n",
    "            \"mean concavity\": 0.3001,\n",
    "            \"mean concave points\": 0.1471,\n",
    "            \"mean symmetry\": 0.2419,\n",
    "            \"mean fractal dimension\": 0.07871,\n",
    "            \"radius error\": 1.095,\n",
    "            \"texture error\": 0.9053,\n",
    "            \"perimeter error\": 8.589,\n",
    "            \"area error\": 153.4,\n",
    "            \"smoothness error\": 0.006399,\n",
    "            \"compactness error\": 0.04904,\n",
    "            \"concavity error\": 0.05373,\n",
    "            \"concave points error\": 0.01587,\n",
    "            \"symmetry error\": 0.03003,\n",
    "            \"fractal dimension error\": 0.006193,\n",
    "            \"worst radius\": 25.38,\n",
    "            \"worst texture\": 17.33,\n",
    "            \"worst perimeter\": 184.6,\n",
    "            \"worst area\": 2019,\n",
    "            \"worst smoothness\": 0.1622,\n",
    "            \"worst compactness\": 0.6656,\n",
    "            \"worst concavity\": 0.7119,\n",
    "            \"worst concave points\": 0.2654,\n",
    "            \"worst symmetry\": 0.4601,\n",
    "            \"worst fractal dimension\": 0.1189\n",
    "        }\n",
    "      ]\n",
    "    }\n",
    "}"
   ]
  },
  {
   "cell_type": "code",
   "execution_count": null,
   "metadata": {
    "scrolled": true
   },
   "outputs": [],
   "source": [
    "neural_network_predict --conf data/conf/neural_network_predict.json --input_model_path data/input/input_model_predict.h5 --output_results_path data/output/output_predict.csv"
   ]
  },
  {
   "cell_type": "markdown",
   "metadata": {},
   "source": [
    "## pls_components"
   ]
  },
  {
   "cell_type": "markdown",
   "metadata": {},
   "source": [
    "Calculates best components number for a Partial Least Square (PLS) Regression."
   ]
  },
  {
   "cell_type": "markdown",
   "metadata": {},
   "source": [
    "### Get help"
   ]
  },
  {
   "cell_type": "code",
   "execution_count": null,
   "metadata": {},
   "outputs": [],
   "source": [
    "pls_components -h"
   ]
  },
  {
   "cell_type": "code",
   "execution_count": null,
   "metadata": {},
   "outputs": [],
   "source": [
    "usage: pls_components [-h] [--config CONFIG] --input_dataset_path INPUT_DATASET_PATH --output_results_path OUTPUT_RESULTS_PATH [--output_plot_path OUTPUT_PLOT_PATH]\n",
    "\n",
    "Calculates best components number for a Partial Least Square (PLS) Regression.\n",
    "\n",
    "optional arguments:\n",
    "  -h, --help            show this help message and exit\n",
    "  --config CONFIG       Configuration file\n",
    "  --output_plot_path OUTPUT_PLOT_PATH\n",
    "                        Path to the Mean Square Error plot. Accepted formats: png.\n",
    "\n",
    "required arguments:\n",
    "  --input_dataset_path INPUT_DATASET_PATH\n",
    "                        Path to the input dataset. Accepted formats: csv.\n",
    "  --output_results_path OUTPUT_RESULTS_PATH\n",
    "                        Table with R2 and MSE for calibration and cross-validation data for the best number of components. Accepted formats: csv."
   ]
  },
  {
   "cell_type": "markdown",
   "metadata": {},
   "source": [
    "### I / O Arguments"
   ]
  },
  {
   "cell_type": "markdown",
   "metadata": {},
   "source": [
    "Syntax: input_argument (datatype) : Definition\n",
    "\n",
    "Config input / output arguments for this building block:\n",
    "\n",
    "* **input_dataset_path** (*str*): Path to the input dataset. File type: input. [Sample file](https://github.com/bioexcel/biobb_ml/raw/master/biobb_ml/test/data/dimensionality_reduction/dataset_pls_components.csv). Accepted formats: csv.\n",
    "* **output_results_path** (*str*): Table with R2 and MSE for calibration and cross-validation data for the best number of components. File type: output. [Sample file](https://github.com/bioexcel/biobb_ml/raw/master/biobb_ml/test/reference/dimensionality_reduction/ref_output_results_pls_components.csv). Accepted formats: csv.\n",
    "* **output_plot_path** (*str*) (Optional): Path to the Mean Square Error plot. File type: output. [Sample file](https://github.com/bioexcel/biobb_ml/raw/master/biobb_ml/test/reference/dimensionality_reduction/ref_output_plot_pls_components.png). Accepted formats: png."
   ]
  },
  {
   "cell_type": "markdown",
   "metadata": {},
   "source": [
    "### Config"
   ]
  },
  {
   "cell_type": "markdown",
   "metadata": {},
   "source": [
    "Syntax: input_parameter (datatype) - (default_value) Definition\n",
    "\n",
    "\n",
    "Config parameters for this building block:\n",
    "\n",
    "* **features** (*list*) - (None) Features or columns from your dataset you want to use for fitting.\n",
    "* **target** (*string*) - (None) Dependent variable or column from your dataset you want to predict.\n",
    "* **optimise** (*boolean*) - (False) Whether or not optimise the process of MSE calculation. Beware, if True selected, the process can take a long time depending on the max_components value.\n",
    "* **max_components** (*int*) - (10) Maximum number of components to use by default for PLS queries.\n",
    "* **cv** (*int*) - (10) Specify the number of folds in the cross-validation splitting strategy. Value must be betwwen 2 and number of samples in the dataset.\n",
    "* **remove_tmp** (*bool*) - (True) [WF property] Remove temporal files.\n",
    "* **restart** (*bool*) - (False) [WF property] Do not execute if output files exist."
   ]
  },
  {
   "cell_type": "markdown",
   "metadata": {},
   "source": [
    "### YAML"
   ]
  },
  {
   "cell_type": "markdown",
   "metadata": {},
   "source": [
    "#### File config"
   ]
  },
  {
   "cell_type": "code",
   "execution_count": null,
   "metadata": {},
   "outputs": [],
   "source": [
    "properties:\n",
    "  features: ['mean radius', 'mean texture', 'mean perimeter', 'mean area', 'mean smoothness', 'mean compactness', 'mean concavity', 'mean concave points', 'mean symmetry', 'mean fractal dimension', 'radius error', 'texture error', 'perimeter error', 'area error', 'smoothness error', 'compactness error', 'concavity error', 'concave points error', 'symmetry error', 'fractal dimension error', 'worst radius', 'worst texture', 'worst perimeter', 'worst area', 'worst smoothness', 'worst compactness', 'worst concavity', 'worst concave points', 'worst symmetry', 'worst fractal dimension']\n",
    "  target: 'benign'\n",
    "  optimise: False\n",
    "  max_components: 30\n",
    "  cv: 10"
   ]
  },
  {
   "cell_type": "code",
   "execution_count": null,
   "metadata": {},
   "outputs": [],
   "source": [
    "pls_components --conf data/conf/pls_components.yml --input_dataset_path data/input/dataset_pls_components.csv --output_results_path data/output/output_results_pls_components.csv --output_plot_path data/output/output_plot_pls_components.png"
   ]
  },
  {
   "cell_type": "markdown",
   "metadata": {},
   "source": [
    "### JSON"
   ]
  },
  {
   "cell_type": "markdown",
   "metadata": {},
   "source": [
    "#### File config"
   ]
  },
  {
   "cell_type": "code",
   "execution_count": null,
   "metadata": {},
   "outputs": [],
   "source": [
    "{\n",
    "    \"properties\": {\n",
    "        \"features\": [\"mean radius\", \"mean texture\", \"mean perimeter\", \"mean area\", \"mean smoothness\", \"mean compactness\", \"mean concavity\", \"mean concave points\", \"mean symmetry\", \"mean fractal dimension\", \"radius error\", \"texture error\", \"perimeter error\", \"area error\", \"smoothness error\", \"compactness error\", \"concavity error\", \"concave points error\", \"symmetry error\", \"fractal dimension error\", \"worst radius\", \"worst texture\", \"worst perimeter\", \"worst area\", \"worst smoothness\", \"worst compactness\", \"worst concavity\", \"worst concave points\", \"worst symmetry\", \"worst fractal dimension\"],\n",
    "        \"target\": \"benign\",\n",
    "        \"optimise\": false,\n",
    "        \"max_components\": 30,\n",
    "        \"cv\": 10\n",
    "    }\n",
    "}"
   ]
  },
  {
   "cell_type": "code",
   "execution_count": null,
   "metadata": {
    "scrolled": true
   },
   "outputs": [],
   "source": [
    "pls_components --conf data/conf/pls_components.json --input_dataset_path data/input/dataset_pls_components.csv --output_results_path data/output/output_results_pls_components.csv --output_plot_path data/output/output_plot_pls_components.png"
   ]
  },
  {
   "cell_type": "markdown",
   "metadata": {},
   "source": [
    "## pls_regression"
   ]
  },
  {
   "cell_type": "markdown",
   "metadata": {},
   "source": [
    "Gives results for a Partial Least Square (PLS) Regression."
   ]
  },
  {
   "cell_type": "markdown",
   "metadata": {},
   "source": [
    "### Get help"
   ]
  },
  {
   "cell_type": "code",
   "execution_count": null,
   "metadata": {},
   "outputs": [],
   "source": [
    "pls_regression -h"
   ]
  },
  {
   "cell_type": "code",
   "execution_count": null,
   "metadata": {},
   "outputs": [],
   "source": [
    "usage: pls_regression [-h] [--config CONFIG] --input_dataset_path INPUT_DATASET_PATH --output_results_path OUTPUT_RESULTS_PATH [--output_plot_path OUTPUT_PLOT_PATH]\n",
    "\n",
    "Gives results for a Partial Least Square (PLS) Regression.\n",
    "\n",
    "optional arguments:\n",
    "  -h, --help            show this help message and exit\n",
    "  --config CONFIG       Configuration file\n",
    "  --output_plot_path OUTPUT_PLOT_PATH\n",
    "                        Path to the R2 cross-validation plot. Accepted formats: png.\n",
    "\n",
    "required arguments:\n",
    "  --input_dataset_path INPUT_DATASET_PATH\n",
    "                        Path to the input dataset. Accepted formats: csv.\n",
    "  --output_results_path OUTPUT_RESULTS_PATH\n",
    "                        Table with R2 and MSE for calibration and cross-validation data. Accepted formats: csv."
   ]
  },
  {
   "cell_type": "markdown",
   "metadata": {},
   "source": [
    "### I / O Arguments"
   ]
  },
  {
   "cell_type": "markdown",
   "metadata": {},
   "source": [
    "Syntax: input_argument (datatype) : Definition\n",
    "\n",
    "Config input / output arguments for this building block:\n",
    "\n",
    "* **input_dataset_path** (*str*): Path to the input dataset. File type: input. [Sample file](https://github.com/bioexcel/biobb_ml/raw/master/biobb_ml/test/data/dimensionality_reduction/dataset_pls_regression.csv). Accepted formats: csv.\n",
    "* **output_results_path** (*str*): Table with R2 and MSE for calibration and cross-validation data for the best number of components. File type: output. [Sample file](https://github.com/bioexcel/biobb_ml/raw/master/biobb_ml/test/reference/dimensionality_reduction/ref_output_results_pls_regression.csv). Accepted formats: csv.\n",
    "* **output_plot_path** (*str*) (Optional):Path to the R2 cross-validation plot. File type: output. [Sample file](https://github.com/bioexcel/biobb_ml/raw/master/biobb_ml/test/reference/dimensionality_reduction/ref_output_plot_pls_regression.png). Accepted formats: png."
   ]
  },
  {
   "cell_type": "markdown",
   "metadata": {},
   "source": [
    "### Config"
   ]
  },
  {
   "cell_type": "markdown",
   "metadata": {},
   "source": [
    "Syntax: input_parameter (datatype) - (default_value) Definition\n",
    "\n",
    "\n",
    "Config parameters for this building block:\n",
    "\n",
    "* **features** (*list*) - (None) Features or columns from your dataset you want to use for fitting.\n",
    "* **target** (*string*) - (None) Dependent variable or column from your dataset you want to predict.\n",
    "* **n_components** (*int*) - (5) Maximum number of components to use by default for PLS queries.\n",
    "* **cv** (*int*) - (10) Specify the number of folds in the cross-validation splitting strategy. Value must be betwwen 2 and number of samples in the dataset.\n",
    "* **remove_tmp** (*bool*) - (True) [WF property] Remove temporal files.\n",
    "* **restart** (*bool*) - (False) [WF property] Do not execute if output files exist."
   ]
  },
  {
   "cell_type": "markdown",
   "metadata": {},
   "source": [
    "### YAML"
   ]
  },
  {
   "cell_type": "markdown",
   "metadata": {},
   "source": [
    "#### File config"
   ]
  },
  {
   "cell_type": "code",
   "execution_count": null,
   "metadata": {},
   "outputs": [],
   "source": [
    "properties:\n",
    "  features: ['mean radius', 'mean texture', 'mean perimeter', 'mean area', 'mean smoothness', 'mean compactness', 'mean concavity', 'mean concave points', 'mean symmetry', 'mean fractal dimension', 'radius error', 'texture error', 'perimeter error', 'area error', 'smoothness error', 'compactness error', 'concavity error', 'concave points error', 'symmetry error', 'fractal dimension error', 'worst radius', 'worst texture', 'worst perimeter', 'worst area', 'worst smoothness', 'worst compactness', 'worst concavity', 'worst concave points', 'worst symmetry', 'worst fractal dimension']\n",
    "  target: 'benign'\n",
    "  n_components: 12\n",
    "  cv: 10"
   ]
  },
  {
   "cell_type": "code",
   "execution_count": null,
   "metadata": {},
   "outputs": [],
   "source": [
    "pls_regression --conf data/conf/pls_regression.yml --input_dataset_path data/input/dataset_pls_regression.csv --output_results_path data/output/output_results_pls_regression.csv --output_plot_path data/output/output_plot_pls_regression.png"
   ]
  },
  {
   "cell_type": "markdown",
   "metadata": {},
   "source": [
    "### JSON"
   ]
  },
  {
   "cell_type": "markdown",
   "metadata": {},
   "source": [
    "#### File config"
   ]
  },
  {
   "cell_type": "code",
   "execution_count": null,
   "metadata": {},
   "outputs": [],
   "source": [
    "{\n",
    "    \"properties\": {\n",
    "        \"features\": [\"mean radius\", \"mean texture\", \"mean perimeter\", \"mean area\", \"mean smoothness\", \"mean compactness\", \"mean concavity\", \"mean concave points\", \"mean symmetry\", \"mean fractal dimension\", \"radius error\", \"texture error\", \"perimeter error\", \"area error\", \"smoothness error\", \"compactness error\", \"concavity error\", \"concave points error\", \"symmetry error\", \"fractal dimension error\", \"worst radius\", \"worst texture\", \"worst perimeter\", \"worst area\", \"worst smoothness\", \"worst compactness\", \"worst concavity\", \"worst concave points\", \"worst symmetry\", \"worst fractal dimension\"],\n",
    "        \"target\": \"benign\",\n",
    "        \"n_components\": 12,\n",
    "        \"cv\": 10\n",
    "    }\n",
    "}"
   ]
  },
  {
   "cell_type": "code",
   "execution_count": null,
   "metadata": {
    "scrolled": true
   },
   "outputs": [],
   "source": [
    "pls_regression --conf data/conf/pls_regression.json --input_dataset_path data/input/dataset_pls_regression.csv --output_results_path data/output/output_results_pls_regression.csv --output_plot_path data/output/output_plot_pls_regression.png"
   ]
  },
  {
   "cell_type": "markdown",
   "metadata": {},
   "source": [
    "## principal_component"
   ]
  },
  {
   "cell_type": "markdown",
   "metadata": {},
   "source": [
    "Analyses a given dataset through Principal Component Analysis (PCA)."
   ]
  },
  {
   "cell_type": "markdown",
   "metadata": {},
   "source": [
    "### Get help"
   ]
  },
  {
   "cell_type": "code",
   "execution_count": null,
   "metadata": {},
   "outputs": [],
   "source": [
    "principal_component -h"
   ]
  },
  {
   "cell_type": "code",
   "execution_count": null,
   "metadata": {},
   "outputs": [],
   "source": [
    "usage: principal_component [-h] [--config CONFIG] --input_dataset_path INPUT_DATASET_PATH --output_results_path OUTPUT_RESULTS_PATH [--output_plot_path OUTPUT_PLOT_PATH]\n",
    "\n",
    "Analyses a given dataset through Principal Component Analysis (PCA).\n",
    "\n",
    "optional arguments:\n",
    "  -h, --help            show this help message and exit\n",
    "  --config CONFIG       Configuration file\n",
    "  --output_plot_path OUTPUT_PLOT_PATH\n",
    "                        Path to the Principal Component plot, only if number of components is 2 or 3. Accepted formats: png.\n",
    "\n",
    "required arguments:\n",
    "  --input_dataset_path INPUT_DATASET_PATH\n",
    "                        Path to the input dataset. Accepted formats: csv.\n",
    "  --output_results_path OUTPUT_RESULTS_PATH\n",
    "                        Path to the analysed dataset. Accepted formats: csv."
   ]
  },
  {
   "cell_type": "markdown",
   "metadata": {},
   "source": [
    "### I / O Arguments"
   ]
  },
  {
   "cell_type": "markdown",
   "metadata": {},
   "source": [
    "Syntax: input_argument (datatype) : Definition\n",
    "\n",
    "Config input / output arguments for this building block:\n",
    "\n",
    "* **input_dataset_path** (*str*): Path to the input dataset. File type: input. [Sample file](https://github.com/bioexcel/biobb_ml/raw/master/biobb_ml/test/data/dimensionality_reduction/dataset_principal_component.csv). Accepted formats: csv.\n",
    "* **output_results_path** (*str*): Path to the analysed dataset. File type: output. [Sample file](https://github.com/bioexcel/biobb_ml/raw/master/biobb_ml/test/reference/dimensionality_reduction/ref_output_results_principal_component.csv). Accepted formats: csv.\n",
    "* **output_plot_path** (*str*) (Optional):Path to the Principal Component plot, only if number of components is 2 or 3. File type: output. [Sample file](https://github.com/bioexcel/biobb_ml/raw/master/biobb_ml/test/reference/dimensionality_reduction/ref_output_plot_principal_component.png). Accepted formats: png."
   ]
  },
  {
   "cell_type": "markdown",
   "metadata": {},
   "source": [
    "### Config"
   ]
  },
  {
   "cell_type": "markdown",
   "metadata": {},
   "source": [
    "Syntax: input_parameter (datatype) - (default_value) Definition\n",
    "\n",
    "\n",
    "Config parameters for this building block:\n",
    "\n",
    "* **features** (*list*) - (None) Features or columns from your dataset you want to use for fitting.\n",
    "* **target** (*string*) - (None) Dependent variable or column from your dataset you want to predict.\n",
    "* **n_components** (*int* / *float*) - (None) Number of components to keep (int) or minimum number of principal components such the 0 to 1 range of the variance (float) is retained. If n_components is not set (None) all components are kept.\n",
    "* **remove_tmp** (*bool*) - (True) [WF property] Remove temporal files.\n",
    "* **restart** (*bool*) - (False) [WF property] Do not execute if output files exist."
   ]
  },
  {
   "cell_type": "markdown",
   "metadata": {},
   "source": [
    "### YAML"
   ]
  },
  {
   "cell_type": "markdown",
   "metadata": {},
   "source": [
    "#### File config"
   ]
  },
  {
   "cell_type": "code",
   "execution_count": null,
   "metadata": {},
   "outputs": [],
   "source": [
    "properties:\n",
    "  features: ['sepal_length', 'sepal_width', 'petal_length', 'petal_width']\n",
    "  target: 'target'\n",
    "  n_components: 2"
   ]
  },
  {
   "cell_type": "code",
   "execution_count": null,
   "metadata": {},
   "outputs": [],
   "source": [
    "principal_component --conf data/conf/principal_component.yml --input_dataset_path data/input/dataset_principal_component.csv --output_results_path data/output/output_results_principal_component.csv --output_plot_path data/output/output_plot_principal_component.png"
   ]
  },
  {
   "cell_type": "markdown",
   "metadata": {},
   "source": [
    "### JSON"
   ]
  },
  {
   "cell_type": "markdown",
   "metadata": {},
   "source": [
    "#### File config"
   ]
  },
  {
   "cell_type": "code",
   "execution_count": null,
   "metadata": {},
   "outputs": [],
   "source": [
    "{\n",
    "    \"properties\": {\n",
    "        \"features\": [\"sepal_length\", \"sepal_width\", \"petal_length\", \"petal_width\"],\n",
    "        \"target\": \"target\",\n",
    "        \"n_components\": 2\n",
    "    }\n",
    "}"
   ]
  },
  {
   "cell_type": "code",
   "execution_count": null,
   "metadata": {
    "scrolled": true
   },
   "outputs": [],
   "source": [
    "principal_component --conf data/conf/principal_component.json --input_dataset_path data/input/dataset_principal_component.csv --output_results_path data/output/output_results_principal_component.csv --output_plot_path data/output/output_plot_principal_component.png"
   ]
  }
 ],
 "metadata": {
  "kernelspec": {
   "display_name": "Python 3",
   "language": "python",
   "name": "python3"
  },
  "language_info": {
   "codemirror_mode": {
    "name": "ipython",
    "version": 3
   },
   "file_extension": ".py",
   "mimetype": "text/x-python",
   "name": "python",
   "nbconvert_exporter": "python",
   "pygments_lexer": "ipython3",
   "version": "3.7.6"
  }
 },
 "nbformat": 4,
 "nbformat_minor": 2
}
